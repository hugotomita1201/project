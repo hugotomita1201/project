{
 "cells": [
  {
   "cell_type": "code",
   "execution_count": 1,
   "metadata": {},
   "outputs": [],
   "source": [
    "import streamlit as st\n",
    "import pandas as pd\n",
    "import base64\n",
    "import matplotlib.pyplot as plt\n",
    "import seaborn as sns\n",
    "import numpy as np\n",
    "import yfinance as yf\n",
    "import plotly.express as px\n"
   ]
  },
  {
   "cell_type": "code",
   "execution_count": 2,
   "metadata": {},
   "outputs": [
    {
     "data": {
      "text/html": [
       "<div>\n",
       "<style scoped>\n",
       "    .dataframe tbody tr th:only-of-type {\n",
       "        vertical-align: middle;\n",
       "    }\n",
       "\n",
       "    .dataframe tbody tr th {\n",
       "        vertical-align: top;\n",
       "    }\n",
       "\n",
       "    .dataframe thead th {\n",
       "        text-align: right;\n",
       "    }\n",
       "</style>\n",
       "<table border=\"1\" class=\"dataframe\">\n",
       "  <thead>\n",
       "    <tr style=\"text-align: right;\">\n",
       "      <th></th>\n",
       "      <th>Symbol</th>\n",
       "      <th>Name</th>\n",
       "      <th>Sector</th>\n",
       "      <th>Price</th>\n",
       "      <th>Price/Earnings</th>\n",
       "      <th>Dividend Yield</th>\n",
       "      <th>Earnings/Share</th>\n",
       "      <th>52 Week Low</th>\n",
       "      <th>52 Week High</th>\n",
       "      <th>Market Cap</th>\n",
       "      <th>EBITDA</th>\n",
       "      <th>Price/Sales</th>\n",
       "      <th>Price/Book</th>\n",
       "      <th>SEC Filings</th>\n",
       "    </tr>\n",
       "  </thead>\n",
       "  <tbody>\n",
       "    <tr>\n",
       "      <th>0</th>\n",
       "      <td>MMM</td>\n",
       "      <td>3M Company</td>\n",
       "      <td>Industrials</td>\n",
       "      <td>222.89</td>\n",
       "      <td>24.31</td>\n",
       "      <td>2.332862</td>\n",
       "      <td>7.92</td>\n",
       "      <td>259.77</td>\n",
       "      <td>175.490</td>\n",
       "      <td>138721055226</td>\n",
       "      <td>9.048000e+09</td>\n",
       "      <td>4.390271</td>\n",
       "      <td>11.34</td>\n",
       "      <td>http://www.sec.gov/cgi-bin/browse-edgar?action...</td>\n",
       "    </tr>\n",
       "    <tr>\n",
       "      <th>1</th>\n",
       "      <td>AOS</td>\n",
       "      <td>A.O. Smith Corp</td>\n",
       "      <td>Industrials</td>\n",
       "      <td>60.24</td>\n",
       "      <td>27.76</td>\n",
       "      <td>1.147959</td>\n",
       "      <td>1.70</td>\n",
       "      <td>68.39</td>\n",
       "      <td>48.925</td>\n",
       "      <td>10783419933</td>\n",
       "      <td>6.010000e+08</td>\n",
       "      <td>3.575483</td>\n",
       "      <td>6.35</td>\n",
       "      <td>http://www.sec.gov/cgi-bin/browse-edgar?action...</td>\n",
       "    </tr>\n",
       "    <tr>\n",
       "      <th>2</th>\n",
       "      <td>ABT</td>\n",
       "      <td>Abbott Laboratories</td>\n",
       "      <td>Health Care</td>\n",
       "      <td>56.27</td>\n",
       "      <td>22.51</td>\n",
       "      <td>1.908982</td>\n",
       "      <td>0.26</td>\n",
       "      <td>64.60</td>\n",
       "      <td>42.280</td>\n",
       "      <td>102121042306</td>\n",
       "      <td>5.744000e+09</td>\n",
       "      <td>3.740480</td>\n",
       "      <td>3.19</td>\n",
       "      <td>http://www.sec.gov/cgi-bin/browse-edgar?action...</td>\n",
       "    </tr>\n",
       "    <tr>\n",
       "      <th>3</th>\n",
       "      <td>ABBV</td>\n",
       "      <td>AbbVie Inc.</td>\n",
       "      <td>Health Care</td>\n",
       "      <td>108.48</td>\n",
       "      <td>19.41</td>\n",
       "      <td>2.499560</td>\n",
       "      <td>3.29</td>\n",
       "      <td>125.86</td>\n",
       "      <td>60.050</td>\n",
       "      <td>181386347059</td>\n",
       "      <td>1.031000e+10</td>\n",
       "      <td>6.291571</td>\n",
       "      <td>26.14</td>\n",
       "      <td>http://www.sec.gov/cgi-bin/browse-edgar?action...</td>\n",
       "    </tr>\n",
       "    <tr>\n",
       "      <th>4</th>\n",
       "      <td>ACN</td>\n",
       "      <td>Accenture plc</td>\n",
       "      <td>Information Technology</td>\n",
       "      <td>150.51</td>\n",
       "      <td>25.47</td>\n",
       "      <td>1.714470</td>\n",
       "      <td>5.44</td>\n",
       "      <td>162.60</td>\n",
       "      <td>114.820</td>\n",
       "      <td>98765855553</td>\n",
       "      <td>5.643228e+09</td>\n",
       "      <td>2.604117</td>\n",
       "      <td>10.62</td>\n",
       "      <td>http://www.sec.gov/cgi-bin/browse-edgar?action...</td>\n",
       "    </tr>\n",
       "    <tr>\n",
       "      <th>...</th>\n",
       "      <td>...</td>\n",
       "      <td>...</td>\n",
       "      <td>...</td>\n",
       "      <td>...</td>\n",
       "      <td>...</td>\n",
       "      <td>...</td>\n",
       "      <td>...</td>\n",
       "      <td>...</td>\n",
       "      <td>...</td>\n",
       "      <td>...</td>\n",
       "      <td>...</td>\n",
       "      <td>...</td>\n",
       "      <td>...</td>\n",
       "      <td>...</td>\n",
       "    </tr>\n",
       "    <tr>\n",
       "      <th>500</th>\n",
       "      <td>XYL</td>\n",
       "      <td>Xylem Inc.</td>\n",
       "      <td>Industrials</td>\n",
       "      <td>70.24</td>\n",
       "      <td>30.94</td>\n",
       "      <td>1.170079</td>\n",
       "      <td>1.83</td>\n",
       "      <td>76.81</td>\n",
       "      <td>46.860</td>\n",
       "      <td>12915021000</td>\n",
       "      <td>7.220000e+08</td>\n",
       "      <td>2.726209</td>\n",
       "      <td>5.31</td>\n",
       "      <td>http://www.sec.gov/cgi-bin/browse-edgar?action...</td>\n",
       "    </tr>\n",
       "    <tr>\n",
       "      <th>501</th>\n",
       "      <td>YUM</td>\n",
       "      <td>Yum! Brands Inc</td>\n",
       "      <td>Consumer Discretionary</td>\n",
       "      <td>76.30</td>\n",
       "      <td>27.25</td>\n",
       "      <td>1.797080</td>\n",
       "      <td>4.07</td>\n",
       "      <td>86.93</td>\n",
       "      <td>62.850</td>\n",
       "      <td>27003303098</td>\n",
       "      <td>2.289000e+09</td>\n",
       "      <td>6.313636</td>\n",
       "      <td>212.08</td>\n",
       "      <td>http://www.sec.gov/cgi-bin/browse-edgar?action...</td>\n",
       "    </tr>\n",
       "    <tr>\n",
       "      <th>502</th>\n",
       "      <td>ZBH</td>\n",
       "      <td>Zimmer Biomet Holdings</td>\n",
       "      <td>Health Care</td>\n",
       "      <td>115.53</td>\n",
       "      <td>14.32</td>\n",
       "      <td>0.794834</td>\n",
       "      <td>9.01</td>\n",
       "      <td>133.49</td>\n",
       "      <td>108.170</td>\n",
       "      <td>24454698119</td>\n",
       "      <td>2.007400e+09</td>\n",
       "      <td>3.164895</td>\n",
       "      <td>2.39</td>\n",
       "      <td>http://www.sec.gov/cgi-bin/browse-edgar?action...</td>\n",
       "    </tr>\n",
       "    <tr>\n",
       "      <th>503</th>\n",
       "      <td>ZION</td>\n",
       "      <td>Zions Bancorp</td>\n",
       "      <td>Financials</td>\n",
       "      <td>50.71</td>\n",
       "      <td>17.73</td>\n",
       "      <td>1.480933</td>\n",
       "      <td>2.60</td>\n",
       "      <td>55.61</td>\n",
       "      <td>38.430</td>\n",
       "      <td>10670678640</td>\n",
       "      <td>0.000000e+00</td>\n",
       "      <td>3.794579</td>\n",
       "      <td>1.42</td>\n",
       "      <td>http://www.sec.gov/cgi-bin/browse-edgar?action...</td>\n",
       "    </tr>\n",
       "    <tr>\n",
       "      <th>504</th>\n",
       "      <td>ZTS</td>\n",
       "      <td>Zoetis</td>\n",
       "      <td>Health Care</td>\n",
       "      <td>71.51</td>\n",
       "      <td>32.80</td>\n",
       "      <td>0.682372</td>\n",
       "      <td>1.65</td>\n",
       "      <td>80.13</td>\n",
       "      <td>52.000</td>\n",
       "      <td>35991109776</td>\n",
       "      <td>1.734000e+09</td>\n",
       "      <td>9.280896</td>\n",
       "      <td>18.09</td>\n",
       "      <td>http://www.sec.gov/cgi-bin/browse-edgar?action...</td>\n",
       "    </tr>\n",
       "  </tbody>\n",
       "</table>\n",
       "<p>505 rows × 14 columns</p>\n",
       "</div>"
      ],
      "text/plain": [
       "    Symbol                    Name                  Sector   Price  \\\n",
       "0      MMM              3M Company             Industrials  222.89   \n",
       "1      AOS         A.O. Smith Corp             Industrials   60.24   \n",
       "2      ABT     Abbott Laboratories             Health Care   56.27   \n",
       "3     ABBV             AbbVie Inc.             Health Care  108.48   \n",
       "4      ACN           Accenture plc  Information Technology  150.51   \n",
       "..     ...                     ...                     ...     ...   \n",
       "500    XYL              Xylem Inc.             Industrials   70.24   \n",
       "501    YUM         Yum! Brands Inc  Consumer Discretionary   76.30   \n",
       "502    ZBH  Zimmer Biomet Holdings             Health Care  115.53   \n",
       "503   ZION           Zions Bancorp              Financials   50.71   \n",
       "504    ZTS                  Zoetis             Health Care   71.51   \n",
       "\n",
       "     Price/Earnings  Dividend Yield  Earnings/Share  52 Week Low  \\\n",
       "0             24.31        2.332862            7.92       259.77   \n",
       "1             27.76        1.147959            1.70        68.39   \n",
       "2             22.51        1.908982            0.26        64.60   \n",
       "3             19.41        2.499560            3.29       125.86   \n",
       "4             25.47        1.714470            5.44       162.60   \n",
       "..              ...             ...             ...          ...   \n",
       "500           30.94        1.170079            1.83        76.81   \n",
       "501           27.25        1.797080            4.07        86.93   \n",
       "502           14.32        0.794834            9.01       133.49   \n",
       "503           17.73        1.480933            2.60        55.61   \n",
       "504           32.80        0.682372            1.65        80.13   \n",
       "\n",
       "     52 Week High    Market Cap        EBITDA  Price/Sales  Price/Book  \\\n",
       "0         175.490  138721055226  9.048000e+09     4.390271       11.34   \n",
       "1          48.925   10783419933  6.010000e+08     3.575483        6.35   \n",
       "2          42.280  102121042306  5.744000e+09     3.740480        3.19   \n",
       "3          60.050  181386347059  1.031000e+10     6.291571       26.14   \n",
       "4         114.820   98765855553  5.643228e+09     2.604117       10.62   \n",
       "..            ...           ...           ...          ...         ...   \n",
       "500        46.860   12915021000  7.220000e+08     2.726209        5.31   \n",
       "501        62.850   27003303098  2.289000e+09     6.313636      212.08   \n",
       "502       108.170   24454698119  2.007400e+09     3.164895        2.39   \n",
       "503        38.430   10670678640  0.000000e+00     3.794579        1.42   \n",
       "504        52.000   35991109776  1.734000e+09     9.280896       18.09   \n",
       "\n",
       "                                           SEC Filings  \n",
       "0    http://www.sec.gov/cgi-bin/browse-edgar?action...  \n",
       "1    http://www.sec.gov/cgi-bin/browse-edgar?action...  \n",
       "2    http://www.sec.gov/cgi-bin/browse-edgar?action...  \n",
       "3    http://www.sec.gov/cgi-bin/browse-edgar?action...  \n",
       "4    http://www.sec.gov/cgi-bin/browse-edgar?action...  \n",
       "..                                                 ...  \n",
       "500  http://www.sec.gov/cgi-bin/browse-edgar?action...  \n",
       "501  http://www.sec.gov/cgi-bin/browse-edgar?action...  \n",
       "502  http://www.sec.gov/cgi-bin/browse-edgar?action...  \n",
       "503  http://www.sec.gov/cgi-bin/browse-edgar?action...  \n",
       "504  http://www.sec.gov/cgi-bin/browse-edgar?action...  \n",
       "\n",
       "[505 rows x 14 columns]"
      ]
     },
     "execution_count": 2,
     "metadata": {},
     "output_type": "execute_result"
    }
   ],
   "source": [
    "#creating dataframe for S&P 500 COMPANIES DATA\n",
    "data = pd.read_csv('/Users/tomit/sprint_4/constituents-financials_csv.csv')\n",
    "data = pd.DataFrame(data)\n",
    "data"
   ]
  },
  {
   "cell_type": "code",
   "execution_count": 3,
   "metadata": {},
   "outputs": [
    {
     "name": "stdout",
     "output_type": "stream",
     "text": [
      "<class 'pandas.core.frame.DataFrame'>\n",
      "RangeIndex: 505 entries, 0 to 504\n",
      "Data columns (total 14 columns):\n",
      " #   Column          Non-Null Count  Dtype  \n",
      "---  ------          --------------  -----  \n",
      " 0   Symbol          505 non-null    object \n",
      " 1   Name            505 non-null    object \n",
      " 2   Sector          505 non-null    object \n",
      " 3   Price           505 non-null    float64\n",
      " 4   Price/Earnings  503 non-null    float64\n",
      " 5   Dividend Yield  505 non-null    float64\n",
      " 6   Earnings/Share  505 non-null    float64\n",
      " 7   52 Week Low     505 non-null    float64\n",
      " 8   52 Week High    505 non-null    float64\n",
      " 9   Market Cap      505 non-null    int64  \n",
      " 10  EBITDA          505 non-null    float64\n",
      " 11  Price/Sales     505 non-null    float64\n",
      " 12  Price/Book      497 non-null    float64\n",
      " 13  SEC Filings     505 non-null    object \n",
      "dtypes: float64(9), int64(1), object(4)\n",
      "memory usage: 55.4+ KB\n"
     ]
    }
   ],
   "source": [
    "data.info()\n",
    "#need to clean up data \n",
    "\n",
    "#start off by lowercasing all column names\n",
    "data.columns = data.columns.str.lower()\n",
    "#lowercase all values within the sector column \n",
    "data['sector'] = data['sector'].str.lower()"
   ]
  },
  {
   "cell_type": "code",
   "execution_count": 96,
   "metadata": {},
   "outputs": [
    {
     "data": {
      "application/vnd.plotly.v1+json": {
       "config": {
        "plotlyServerURL": "https://plot.ly"
       },
       "data": [
        {
         "alignmentgroup": "True",
         "hovertemplate": "legend=symbol<br>sector=%{x}<br># of companies=%{y}<extra></extra>",
         "legendgroup": "symbol",
         "marker": {
          "color": "#000001",
          "pattern": {
           "shape": ""
          }
         },
         "name": "symbol",
         "offsetgroup": "symbol",
         "orientation": "v",
         "showlegend": true,
         "textposition": "auto",
         "type": "bar",
         "x": [
          "consumer discretionary",
          "consumer staples",
          "energy",
          "financials",
          "health care",
          "industrials",
          "information technology",
          "materials",
          "real estate",
          "telecommunication services",
          "utilities"
         ],
         "xaxis": "x",
         "y": [
          84,
          34,
          32,
          68,
          61,
          67,
          70,
          25,
          33,
          3,
          28
         ],
         "yaxis": "y"
        }
       ],
       "layout": {
        "barmode": "relative",
        "legend": {
         "title": {
          "text": "legend"
         },
         "tracegroupgap": 0
        },
        "template": {
         "data": {
          "candlestick": [
           {
            "decreasing": {
             "line": {
              "color": "#000033"
             }
            },
            "increasing": {
             "line": {
              "color": "#000032"
             }
            },
            "type": "candlestick"
           }
          ],
          "contour": [
           {
            "colorscale": [
             [
              0,
              "#000011"
             ],
             [
              0.1111111111111111,
              "#000012"
             ],
             [
              0.2222222222222222,
              "#000013"
             ],
             [
              0.3333333333333333,
              "#000014"
             ],
             [
              0.4444444444444444,
              "#000015"
             ],
             [
              0.5555555555555556,
              "#000016"
             ],
             [
              0.6666666666666666,
              "#000017"
             ],
             [
              0.7777777777777778,
              "#000018"
             ],
             [
              0.8888888888888888,
              "#000019"
             ],
             [
              1,
              "#000020"
             ]
            ],
            "type": "contour"
           }
          ],
          "contourcarpet": [
           {
            "colorscale": [
             [
              0,
              "#000011"
             ],
             [
              0.1111111111111111,
              "#000012"
             ],
             [
              0.2222222222222222,
              "#000013"
             ],
             [
              0.3333333333333333,
              "#000014"
             ],
             [
              0.4444444444444444,
              "#000015"
             ],
             [
              0.5555555555555556,
              "#000016"
             ],
             [
              0.6666666666666666,
              "#000017"
             ],
             [
              0.7777777777777778,
              "#000018"
             ],
             [
              0.8888888888888888,
              "#000019"
             ],
             [
              1,
              "#000020"
             ]
            ],
            "type": "contourcarpet"
           }
          ],
          "heatmap": [
           {
            "colorscale": [
             [
              0,
              "#000011"
             ],
             [
              0.1111111111111111,
              "#000012"
             ],
             [
              0.2222222222222222,
              "#000013"
             ],
             [
              0.3333333333333333,
              "#000014"
             ],
             [
              0.4444444444444444,
              "#000015"
             ],
             [
              0.5555555555555556,
              "#000016"
             ],
             [
              0.6666666666666666,
              "#000017"
             ],
             [
              0.7777777777777778,
              "#000018"
             ],
             [
              0.8888888888888888,
              "#000019"
             ],
             [
              1,
              "#000020"
             ]
            ],
            "type": "heatmap"
           }
          ],
          "histogram2d": [
           {
            "colorscale": [
             [
              0,
              "#000011"
             ],
             [
              0.1111111111111111,
              "#000012"
             ],
             [
              0.2222222222222222,
              "#000013"
             ],
             [
              0.3333333333333333,
              "#000014"
             ],
             [
              0.4444444444444444,
              "#000015"
             ],
             [
              0.5555555555555556,
              "#000016"
             ],
             [
              0.6666666666666666,
              "#000017"
             ],
             [
              0.7777777777777778,
              "#000018"
             ],
             [
              0.8888888888888888,
              "#000019"
             ],
             [
              1,
              "#000020"
             ]
            ],
            "type": "histogram2d"
           }
          ],
          "icicle": [
           {
            "textfont": {
             "color": "white"
            },
            "type": "icicle"
           }
          ],
          "sankey": [
           {
            "textfont": {
             "color": "#000036"
            },
            "type": "sankey"
           }
          ],
          "scatter": [
           {
            "marker": {
             "line": {
              "width": 0
             }
            },
            "type": "scatter"
           }
          ],
          "table": [
           {
            "cells": {
             "fill": {
              "color": "#000038"
             },
             "font": {
              "color": "#000037"
             },
             "line": {
              "color": "#000039"
             }
            },
            "header": {
             "fill": {
              "color": "#000040"
             },
             "font": {
              "color": "#000036"
             },
             "line": {
              "color": "#000039"
             }
            },
            "type": "table"
           }
          ],
          "waterfall": [
           {
            "connector": {
             "line": {
              "color": "#000036",
              "width": 2
             }
            },
            "decreasing": {
             "marker": {
              "color": "#000033"
             }
            },
            "increasing": {
             "marker": {
              "color": "#000032"
             }
            },
            "totals": {
             "marker": {
              "color": "#000034"
             }
            },
            "type": "waterfall"
           }
          ]
         },
         "layout": {
          "coloraxis": {
           "colorscale": [
            [
             0,
             "#000011"
            ],
            [
             0.1111111111111111,
             "#000012"
            ],
            [
             0.2222222222222222,
             "#000013"
            ],
            [
             0.3333333333333333,
             "#000014"
            ],
            [
             0.4444444444444444,
             "#000015"
            ],
            [
             0.5555555555555556,
             "#000016"
            ],
            [
             0.6666666666666666,
             "#000017"
            ],
            [
             0.7777777777777778,
             "#000018"
            ],
            [
             0.8888888888888888,
             "#000019"
            ],
            [
             1,
             "#000020"
            ]
           ]
          },
          "colorscale": {
           "diverging": [
            [
             0,
             "#000021"
            ],
            [
             0.1,
             "#000022"
            ],
            [
             0.2,
             "#000023"
            ],
            [
             0.3,
             "#000024"
            ],
            [
             0.4,
             "#000025"
            ],
            [
             0.5,
             "#000026"
            ],
            [
             0.6,
             "#000027"
            ],
            [
             0.7,
             "#000028"
            ],
            [
             0.8,
             "#000029"
            ],
            [
             0.9,
             "#000030"
            ],
            [
             1,
             "#000031"
            ]
           ],
           "sequential": [
            [
             0,
             "#000011"
            ],
            [
             0.1111111111111111,
             "#000012"
            ],
            [
             0.2222222222222222,
             "#000013"
            ],
            [
             0.3333333333333333,
             "#000014"
            ],
            [
             0.4444444444444444,
             "#000015"
            ],
            [
             0.5555555555555556,
             "#000016"
            ],
            [
             0.6666666666666666,
             "#000017"
            ],
            [
             0.7777777777777778,
             "#000018"
            ],
            [
             0.8888888888888888,
             "#000019"
            ],
            [
             1,
             "#000020"
            ]
           ],
           "sequentialminus": [
            [
             0,
             "#000011"
            ],
            [
             0.1111111111111111,
             "#000012"
            ],
            [
             0.2222222222222222,
             "#000013"
            ],
            [
             0.3333333333333333,
             "#000014"
            ],
            [
             0.4444444444444444,
             "#000015"
            ],
            [
             0.5555555555555556,
             "#000016"
            ],
            [
             0.6666666666666666,
             "#000017"
            ],
            [
             0.7777777777777778,
             "#000018"
            ],
            [
             0.8888888888888888,
             "#000019"
            ],
            [
             1,
             "#000020"
            ]
           ]
          },
          "colorway": [
           "#000001",
           "#000002",
           "#000003",
           "#000004",
           "#000005",
           "#000006",
           "#000007",
           "#000008",
           "#000009",
           "#000010"
          ]
         }
        },
        "title": {
         "text": "Distribution of Companies in the S&P500 by Sector"
        },
        "xaxis": {
         "anchor": "y",
         "domain": [
          0,
          1
         ],
         "title": {
          "text": "sector"
         }
        },
        "yaxis": {
         "anchor": "x",
         "domain": [
          0,
          1
         ],
         "title": {
          "text": "# of companies"
         }
        }
       }
      },
      "text/html": [
       "<div>                            <div id=\"ca1dee8e-506a-4322-9d24-3d40af49db50\" class=\"plotly-graph-div\" style=\"height:525px; width:100%;\"></div>            <script type=\"text/javascript\">                require([\"plotly\"], function(Plotly) {                    window.PLOTLYENV=window.PLOTLYENV || {};                                    if (document.getElementById(\"ca1dee8e-506a-4322-9d24-3d40af49db50\")) {                    Plotly.newPlot(                        \"ca1dee8e-506a-4322-9d24-3d40af49db50\",                        [{\"alignmentgroup\":\"True\",\"hovertemplate\":\"legend=symbol<br>sector=%{x}<br># of companies=%{y}<extra></extra>\",\"legendgroup\":\"symbol\",\"marker\":{\"color\":\"#000001\",\"pattern\":{\"shape\":\"\"}},\"name\":\"symbol\",\"offsetgroup\":\"symbol\",\"orientation\":\"v\",\"showlegend\":true,\"textposition\":\"auto\",\"x\":[\"consumer discretionary\",\"consumer staples\",\"energy\",\"financials\",\"health care\",\"industrials\",\"information technology\",\"materials\",\"real estate\",\"telecommunication services\",\"utilities\"],\"xaxis\":\"x\",\"y\":[84,34,32,68,61,67,70,25,33,3,28],\"yaxis\":\"y\",\"type\":\"bar\"}],                        {\"template\":{\"data\":{\"candlestick\":[{\"decreasing\":{\"line\":{\"color\":\"#000033\"}},\"increasing\":{\"line\":{\"color\":\"#000032\"}},\"type\":\"candlestick\"}],\"contourcarpet\":[{\"colorscale\":[[0.0,\"#000011\"],[0.1111111111111111,\"#000012\"],[0.2222222222222222,\"#000013\"],[0.3333333333333333,\"#000014\"],[0.4444444444444444,\"#000015\"],[0.5555555555555556,\"#000016\"],[0.6666666666666666,\"#000017\"],[0.7777777777777778,\"#000018\"],[0.8888888888888888,\"#000019\"],[1.0,\"#000020\"]],\"type\":\"contourcarpet\"}],\"contour\":[{\"colorscale\":[[0.0,\"#000011\"],[0.1111111111111111,\"#000012\"],[0.2222222222222222,\"#000013\"],[0.3333333333333333,\"#000014\"],[0.4444444444444444,\"#000015\"],[0.5555555555555556,\"#000016\"],[0.6666666666666666,\"#000017\"],[0.7777777777777778,\"#000018\"],[0.8888888888888888,\"#000019\"],[1.0,\"#000020\"]],\"type\":\"contour\"}],\"heatmap\":[{\"colorscale\":[[0.0,\"#000011\"],[0.1111111111111111,\"#000012\"],[0.2222222222222222,\"#000013\"],[0.3333333333333333,\"#000014\"],[0.4444444444444444,\"#000015\"],[0.5555555555555556,\"#000016\"],[0.6666666666666666,\"#000017\"],[0.7777777777777778,\"#000018\"],[0.8888888888888888,\"#000019\"],[1.0,\"#000020\"]],\"type\":\"heatmap\"}],\"histogram2d\":[{\"colorscale\":[[0.0,\"#000011\"],[0.1111111111111111,\"#000012\"],[0.2222222222222222,\"#000013\"],[0.3333333333333333,\"#000014\"],[0.4444444444444444,\"#000015\"],[0.5555555555555556,\"#000016\"],[0.6666666666666666,\"#000017\"],[0.7777777777777778,\"#000018\"],[0.8888888888888888,\"#000019\"],[1.0,\"#000020\"]],\"type\":\"histogram2d\"}],\"icicle\":[{\"textfont\":{\"color\":\"white\"},\"type\":\"icicle\"}],\"sankey\":[{\"textfont\":{\"color\":\"#000036\"},\"type\":\"sankey\"}],\"scatter\":[{\"marker\":{\"line\":{\"width\":0}},\"type\":\"scatter\"}],\"table\":[{\"cells\":{\"fill\":{\"color\":\"#000038\"},\"font\":{\"color\":\"#000037\"},\"line\":{\"color\":\"#000039\"}},\"header\":{\"fill\":{\"color\":\"#000040\"},\"font\":{\"color\":\"#000036\"},\"line\":{\"color\":\"#000039\"}},\"type\":\"table\"}],\"waterfall\":[{\"connector\":{\"line\":{\"color\":\"#000036\",\"width\":2}},\"decreasing\":{\"marker\":{\"color\":\"#000033\"}},\"increasing\":{\"marker\":{\"color\":\"#000032\"}},\"totals\":{\"marker\":{\"color\":\"#000034\"}},\"type\":\"waterfall\"}]},\"layout\":{\"coloraxis\":{\"colorscale\":[[0.0,\"#000011\"],[0.1111111111111111,\"#000012\"],[0.2222222222222222,\"#000013\"],[0.3333333333333333,\"#000014\"],[0.4444444444444444,\"#000015\"],[0.5555555555555556,\"#000016\"],[0.6666666666666666,\"#000017\"],[0.7777777777777778,\"#000018\"],[0.8888888888888888,\"#000019\"],[1.0,\"#000020\"]]},\"colorscale\":{\"diverging\":[[0.0,\"#000021\"],[0.1,\"#000022\"],[0.2,\"#000023\"],[0.3,\"#000024\"],[0.4,\"#000025\"],[0.5,\"#000026\"],[0.6,\"#000027\"],[0.7,\"#000028\"],[0.8,\"#000029\"],[0.9,\"#000030\"],[1.0,\"#000031\"]],\"sequential\":[[0.0,\"#000011\"],[0.1111111111111111,\"#000012\"],[0.2222222222222222,\"#000013\"],[0.3333333333333333,\"#000014\"],[0.4444444444444444,\"#000015\"],[0.5555555555555556,\"#000016\"],[0.6666666666666666,\"#000017\"],[0.7777777777777778,\"#000018\"],[0.8888888888888888,\"#000019\"],[1.0,\"#000020\"]],\"sequentialminus\":[[0.0,\"#000011\"],[0.1111111111111111,\"#000012\"],[0.2222222222222222,\"#000013\"],[0.3333333333333333,\"#000014\"],[0.4444444444444444,\"#000015\"],[0.5555555555555556,\"#000016\"],[0.6666666666666666,\"#000017\"],[0.7777777777777778,\"#000018\"],[0.8888888888888888,\"#000019\"],[1.0,\"#000020\"]]},\"colorway\":[\"#000001\",\"#000002\",\"#000003\",\"#000004\",\"#000005\",\"#000006\",\"#000007\",\"#000008\",\"#000009\",\"#000010\"]}},\"xaxis\":{\"anchor\":\"y\",\"domain\":[0.0,1.0],\"title\":{\"text\":\"sector\"}},\"yaxis\":{\"anchor\":\"x\",\"domain\":[0.0,1.0],\"title\":{\"text\":\"# of companies\"}},\"legend\":{\"title\":{\"text\":\"legend\"},\"tracegroupgap\":0},\"title\":{\"text\":\"Distribution of Companies in the S&P500 by Sector\"},\"barmode\":\"relative\"},                        {\"responsive\": true}                    ).then(function(){\n",
       "                            \n",
       "var gd = document.getElementById('ca1dee8e-506a-4322-9d24-3d40af49db50');\n",
       "var x = new MutationObserver(function (mutations, observer) {{\n",
       "        var display = window.getComputedStyle(gd).display;\n",
       "        if (!display || display === 'none') {{\n",
       "            console.log([gd, 'removed!']);\n",
       "            Plotly.purge(gd);\n",
       "            observer.disconnect();\n",
       "        }}\n",
       "}});\n",
       "\n",
       "// Listen for the removal of the full notebook cells\n",
       "var notebookContainer = gd.closest('#notebook-container');\n",
       "if (notebookContainer) {{\n",
       "    x.observe(notebookContainer, {childList: true});\n",
       "}}\n",
       "\n",
       "// Listen for the clearing of the current output cell\n",
       "var outputEl = gd.closest('.output');\n",
       "if (outputEl) {{\n",
       "    x.observe(outputEl, {childList: true});\n",
       "}}\n",
       "\n",
       "                        })                };                });            </script>        </div>"
      ]
     },
     "metadata": {},
     "output_type": "display_data"
    }
   ],
   "source": [
    "#Objective here is to group data by sector and create a bar chart of what types of companies make \n",
    "#up the S&P 500\n",
    "\n",
    "#creating a sectors variable and finding the number of symbols per sector using groupby and .agg \n",
    "sectors = data.groupby('sector').agg({'symbol':'count'}).sort_index(ascending = True)\n",
    "\n",
    "#Using plotly to create a bar chart to chart the number of companies per sector in the S&P 500\n",
    "sector_fig = px.bar(sectors, labels = {'value': '# of companies',\n",
    "                                       'variable':'legend',\n",
    "                                       'symbol':'# of symbols',},\n",
    "                                        title='Distribution of Companies in the S&P500 by Sector')\n",
    "\n",
    "sector_fig.show()\n"
   ]
  },
  {
   "cell_type": "code",
   "execution_count": 5,
   "metadata": {},
   "outputs": [
    {
     "data": {
      "application/vnd.plotly.v1+json": {
       "config": {
        "plotlyServerURL": "https://plot.ly"
       },
       "data": [
        {
         "alignmentgroup": "True",
         "hovertemplate": "Sector=%{x}<br>Market Cap=%{y}<extra></extra>",
         "legendgroup": "",
         "marker": {
          "color": "#000001",
          "pattern": {
           "shape": ""
          }
         },
         "name": "",
         "offsetgroup": "",
         "orientation": "v",
         "showlegend": false,
         "textposition": "auto",
         "type": "bar",
         "x": [
          "consumer discretionary",
          "consumer staples",
          "energy",
          "financials",
          "health care",
          "industrials",
          "information technology",
          "materials",
          "real estate",
          "telecommunication services",
          "utilities"
         ],
         "xaxis": "x",
         "y": [
          38256699372,
          61384599649,
          42416053523,
          50627198012,
          53186213825,
          35993151836,
          96101740013,
          27692010366,
          18948959926,
          151014247968,
          21844022802
         ],
         "yaxis": "y"
        }
       ],
       "layout": {
        "barmode": "relative",
        "legend": {
         "tracegroupgap": 0
        },
        "template": {
         "data": {
          "candlestick": [
           {
            "decreasing": {
             "line": {
              "color": "#000033"
             }
            },
            "increasing": {
             "line": {
              "color": "#000032"
             }
            },
            "type": "candlestick"
           }
          ],
          "contour": [
           {
            "colorscale": [
             [
              0,
              "#000011"
             ],
             [
              0.1111111111111111,
              "#000012"
             ],
             [
              0.2222222222222222,
              "#000013"
             ],
             [
              0.3333333333333333,
              "#000014"
             ],
             [
              0.4444444444444444,
              "#000015"
             ],
             [
              0.5555555555555556,
              "#000016"
             ],
             [
              0.6666666666666666,
              "#000017"
             ],
             [
              0.7777777777777778,
              "#000018"
             ],
             [
              0.8888888888888888,
              "#000019"
             ],
             [
              1,
              "#000020"
             ]
            ],
            "type": "contour"
           }
          ],
          "contourcarpet": [
           {
            "colorscale": [
             [
              0,
              "#000011"
             ],
             [
              0.1111111111111111,
              "#000012"
             ],
             [
              0.2222222222222222,
              "#000013"
             ],
             [
              0.3333333333333333,
              "#000014"
             ],
             [
              0.4444444444444444,
              "#000015"
             ],
             [
              0.5555555555555556,
              "#000016"
             ],
             [
              0.6666666666666666,
              "#000017"
             ],
             [
              0.7777777777777778,
              "#000018"
             ],
             [
              0.8888888888888888,
              "#000019"
             ],
             [
              1,
              "#000020"
             ]
            ],
            "type": "contourcarpet"
           }
          ],
          "heatmap": [
           {
            "colorscale": [
             [
              0,
              "#000011"
             ],
             [
              0.1111111111111111,
              "#000012"
             ],
             [
              0.2222222222222222,
              "#000013"
             ],
             [
              0.3333333333333333,
              "#000014"
             ],
             [
              0.4444444444444444,
              "#000015"
             ],
             [
              0.5555555555555556,
              "#000016"
             ],
             [
              0.6666666666666666,
              "#000017"
             ],
             [
              0.7777777777777778,
              "#000018"
             ],
             [
              0.8888888888888888,
              "#000019"
             ],
             [
              1,
              "#000020"
             ]
            ],
            "type": "heatmap"
           }
          ],
          "histogram2d": [
           {
            "colorscale": [
             [
              0,
              "#000011"
             ],
             [
              0.1111111111111111,
              "#000012"
             ],
             [
              0.2222222222222222,
              "#000013"
             ],
             [
              0.3333333333333333,
              "#000014"
             ],
             [
              0.4444444444444444,
              "#000015"
             ],
             [
              0.5555555555555556,
              "#000016"
             ],
             [
              0.6666666666666666,
              "#000017"
             ],
             [
              0.7777777777777778,
              "#000018"
             ],
             [
              0.8888888888888888,
              "#000019"
             ],
             [
              1,
              "#000020"
             ]
            ],
            "type": "histogram2d"
           }
          ],
          "icicle": [
           {
            "textfont": {
             "color": "white"
            },
            "type": "icicle"
           }
          ],
          "sankey": [
           {
            "textfont": {
             "color": "#000036"
            },
            "type": "sankey"
           }
          ],
          "scatter": [
           {
            "marker": {
             "line": {
              "width": 0
             }
            },
            "type": "scatter"
           }
          ],
          "table": [
           {
            "cells": {
             "fill": {
              "color": "#000038"
             },
             "font": {
              "color": "#000037"
             },
             "line": {
              "color": "#000039"
             }
            },
            "header": {
             "fill": {
              "color": "#000040"
             },
             "font": {
              "color": "#000036"
             },
             "line": {
              "color": "#000039"
             }
            },
            "type": "table"
           }
          ],
          "waterfall": [
           {
            "connector": {
             "line": {
              "color": "#000036",
              "width": 2
             }
            },
            "decreasing": {
             "marker": {
              "color": "#000033"
             }
            },
            "increasing": {
             "marker": {
              "color": "#000032"
             }
            },
            "totals": {
             "marker": {
              "color": "#000034"
             }
            },
            "type": "waterfall"
           }
          ]
         },
         "layout": {
          "coloraxis": {
           "colorscale": [
            [
             0,
             "#000011"
            ],
            [
             0.1111111111111111,
             "#000012"
            ],
            [
             0.2222222222222222,
             "#000013"
            ],
            [
             0.3333333333333333,
             "#000014"
            ],
            [
             0.4444444444444444,
             "#000015"
            ],
            [
             0.5555555555555556,
             "#000016"
            ],
            [
             0.6666666666666666,
             "#000017"
            ],
            [
             0.7777777777777778,
             "#000018"
            ],
            [
             0.8888888888888888,
             "#000019"
            ],
            [
             1,
             "#000020"
            ]
           ]
          },
          "colorscale": {
           "diverging": [
            [
             0,
             "#000021"
            ],
            [
             0.1,
             "#000022"
            ],
            [
             0.2,
             "#000023"
            ],
            [
             0.3,
             "#000024"
            ],
            [
             0.4,
             "#000025"
            ],
            [
             0.5,
             "#000026"
            ],
            [
             0.6,
             "#000027"
            ],
            [
             0.7,
             "#000028"
            ],
            [
             0.8,
             "#000029"
            ],
            [
             0.9,
             "#000030"
            ],
            [
             1,
             "#000031"
            ]
           ],
           "sequential": [
            [
             0,
             "#000011"
            ],
            [
             0.1111111111111111,
             "#000012"
            ],
            [
             0.2222222222222222,
             "#000013"
            ],
            [
             0.3333333333333333,
             "#000014"
            ],
            [
             0.4444444444444444,
             "#000015"
            ],
            [
             0.5555555555555556,
             "#000016"
            ],
            [
             0.6666666666666666,
             "#000017"
            ],
            [
             0.7777777777777778,
             "#000018"
            ],
            [
             0.8888888888888888,
             "#000019"
            ],
            [
             1,
             "#000020"
            ]
           ],
           "sequentialminus": [
            [
             0,
             "#000011"
            ],
            [
             0.1111111111111111,
             "#000012"
            ],
            [
             0.2222222222222222,
             "#000013"
            ],
            [
             0.3333333333333333,
             "#000014"
            ],
            [
             0.4444444444444444,
             "#000015"
            ],
            [
             0.5555555555555556,
             "#000016"
            ],
            [
             0.6666666666666666,
             "#000017"
            ],
            [
             0.7777777777777778,
             "#000018"
            ],
            [
             0.8888888888888888,
             "#000019"
            ],
            [
             1,
             "#000020"
            ]
           ]
          },
          "colorway": [
           "#000001",
           "#000002",
           "#000003",
           "#000004",
           "#000005",
           "#000006",
           "#000007",
           "#000008",
           "#000009",
           "#000010"
          ]
         }
        },
        "title": {
         "text": "Average Stock Market Cap of Each Sector"
        },
        "xaxis": {
         "anchor": "y",
         "domain": [
          0,
          1
         ],
         "title": {
          "text": "Sector"
         }
        },
        "yaxis": {
         "anchor": "x",
         "domain": [
          0,
          1
         ],
         "title": {
          "text": "Market Cap"
         }
        }
       }
      },
      "text/html": [
       "<div>                            <div id=\"09b6bb93-a1de-463f-8f74-08308f0d44ff\" class=\"plotly-graph-div\" style=\"height:525px; width:100%;\"></div>            <script type=\"text/javascript\">                require([\"plotly\"], function(Plotly) {                    window.PLOTLYENV=window.PLOTLYENV || {};                                    if (document.getElementById(\"09b6bb93-a1de-463f-8f74-08308f0d44ff\")) {                    Plotly.newPlot(                        \"09b6bb93-a1de-463f-8f74-08308f0d44ff\",                        [{\"alignmentgroup\":\"True\",\"hovertemplate\":\"Sector=%{x}<br>Market Cap=%{y}<extra></extra>\",\"legendgroup\":\"\",\"marker\":{\"color\":\"#000001\",\"pattern\":{\"shape\":\"\"}},\"name\":\"\",\"offsetgroup\":\"\",\"orientation\":\"v\",\"showlegend\":false,\"textposition\":\"auto\",\"x\":[\"consumer discretionary\",\"consumer staples\",\"energy\",\"financials\",\"health care\",\"industrials\",\"information technology\",\"materials\",\"real estate\",\"telecommunication services\",\"utilities\"],\"xaxis\":\"x\",\"y\":[38256699372,61384599649,42416053523,50627198012,53186213825,35993151836,96101740013,27692010366,18948959926,151014247968,21844022802],\"yaxis\":\"y\",\"type\":\"bar\"}],                        {\"template\":{\"data\":{\"candlestick\":[{\"decreasing\":{\"line\":{\"color\":\"#000033\"}},\"increasing\":{\"line\":{\"color\":\"#000032\"}},\"type\":\"candlestick\"}],\"contourcarpet\":[{\"colorscale\":[[0.0,\"#000011\"],[0.1111111111111111,\"#000012\"],[0.2222222222222222,\"#000013\"],[0.3333333333333333,\"#000014\"],[0.4444444444444444,\"#000015\"],[0.5555555555555556,\"#000016\"],[0.6666666666666666,\"#000017\"],[0.7777777777777778,\"#000018\"],[0.8888888888888888,\"#000019\"],[1.0,\"#000020\"]],\"type\":\"contourcarpet\"}],\"contour\":[{\"colorscale\":[[0.0,\"#000011\"],[0.1111111111111111,\"#000012\"],[0.2222222222222222,\"#000013\"],[0.3333333333333333,\"#000014\"],[0.4444444444444444,\"#000015\"],[0.5555555555555556,\"#000016\"],[0.6666666666666666,\"#000017\"],[0.7777777777777778,\"#000018\"],[0.8888888888888888,\"#000019\"],[1.0,\"#000020\"]],\"type\":\"contour\"}],\"heatmap\":[{\"colorscale\":[[0.0,\"#000011\"],[0.1111111111111111,\"#000012\"],[0.2222222222222222,\"#000013\"],[0.3333333333333333,\"#000014\"],[0.4444444444444444,\"#000015\"],[0.5555555555555556,\"#000016\"],[0.6666666666666666,\"#000017\"],[0.7777777777777778,\"#000018\"],[0.8888888888888888,\"#000019\"],[1.0,\"#000020\"]],\"type\":\"heatmap\"}],\"histogram2d\":[{\"colorscale\":[[0.0,\"#000011\"],[0.1111111111111111,\"#000012\"],[0.2222222222222222,\"#000013\"],[0.3333333333333333,\"#000014\"],[0.4444444444444444,\"#000015\"],[0.5555555555555556,\"#000016\"],[0.6666666666666666,\"#000017\"],[0.7777777777777778,\"#000018\"],[0.8888888888888888,\"#000019\"],[1.0,\"#000020\"]],\"type\":\"histogram2d\"}],\"icicle\":[{\"textfont\":{\"color\":\"white\"},\"type\":\"icicle\"}],\"sankey\":[{\"textfont\":{\"color\":\"#000036\"},\"type\":\"sankey\"}],\"scatter\":[{\"marker\":{\"line\":{\"width\":0}},\"type\":\"scatter\"}],\"table\":[{\"cells\":{\"fill\":{\"color\":\"#000038\"},\"font\":{\"color\":\"#000037\"},\"line\":{\"color\":\"#000039\"}},\"header\":{\"fill\":{\"color\":\"#000040\"},\"font\":{\"color\":\"#000036\"},\"line\":{\"color\":\"#000039\"}},\"type\":\"table\"}],\"waterfall\":[{\"connector\":{\"line\":{\"color\":\"#000036\",\"width\":2}},\"decreasing\":{\"marker\":{\"color\":\"#000033\"}},\"increasing\":{\"marker\":{\"color\":\"#000032\"}},\"totals\":{\"marker\":{\"color\":\"#000034\"}},\"type\":\"waterfall\"}]},\"layout\":{\"coloraxis\":{\"colorscale\":[[0.0,\"#000011\"],[0.1111111111111111,\"#000012\"],[0.2222222222222222,\"#000013\"],[0.3333333333333333,\"#000014\"],[0.4444444444444444,\"#000015\"],[0.5555555555555556,\"#000016\"],[0.6666666666666666,\"#000017\"],[0.7777777777777778,\"#000018\"],[0.8888888888888888,\"#000019\"],[1.0,\"#000020\"]]},\"colorscale\":{\"diverging\":[[0.0,\"#000021\"],[0.1,\"#000022\"],[0.2,\"#000023\"],[0.3,\"#000024\"],[0.4,\"#000025\"],[0.5,\"#000026\"],[0.6,\"#000027\"],[0.7,\"#000028\"],[0.8,\"#000029\"],[0.9,\"#000030\"],[1.0,\"#000031\"]],\"sequential\":[[0.0,\"#000011\"],[0.1111111111111111,\"#000012\"],[0.2222222222222222,\"#000013\"],[0.3333333333333333,\"#000014\"],[0.4444444444444444,\"#000015\"],[0.5555555555555556,\"#000016\"],[0.6666666666666666,\"#000017\"],[0.7777777777777778,\"#000018\"],[0.8888888888888888,\"#000019\"],[1.0,\"#000020\"]],\"sequentialminus\":[[0.0,\"#000011\"],[0.1111111111111111,\"#000012\"],[0.2222222222222222,\"#000013\"],[0.3333333333333333,\"#000014\"],[0.4444444444444444,\"#000015\"],[0.5555555555555556,\"#000016\"],[0.6666666666666666,\"#000017\"],[0.7777777777777778,\"#000018\"],[0.8888888888888888,\"#000019\"],[1.0,\"#000020\"]]},\"colorway\":[\"#000001\",\"#000002\",\"#000003\",\"#000004\",\"#000005\",\"#000006\",\"#000007\",\"#000008\",\"#000009\",\"#000010\"]}},\"xaxis\":{\"anchor\":\"y\",\"domain\":[0.0,1.0],\"title\":{\"text\":\"Sector\"}},\"yaxis\":{\"anchor\":\"x\",\"domain\":[0.0,1.0],\"title\":{\"text\":\"Market Cap\"}},\"legend\":{\"tracegroupgap\":0},\"title\":{\"text\":\"Average Stock Market Cap of Each Sector\"},\"barmode\":\"relative\"},                        {\"responsive\": true}                    ).then(function(){\n",
       "                            \n",
       "var gd = document.getElementById('09b6bb93-a1de-463f-8f74-08308f0d44ff');\n",
       "var x = new MutationObserver(function (mutations, observer) {{\n",
       "        var display = window.getComputedStyle(gd).display;\n",
       "        if (!display || display === 'none') {{\n",
       "            console.log([gd, 'removed!']);\n",
       "            Plotly.purge(gd);\n",
       "            observer.disconnect();\n",
       "        }}\n",
       "}});\n",
       "\n",
       "// Listen for the removal of the full notebook cells\n",
       "var notebookContainer = gd.closest('#notebook-container');\n",
       "if (notebookContainer) {{\n",
       "    x.observe(notebookContainer, {childList: true});\n",
       "}}\n",
       "\n",
       "// Listen for the clearing of the current output cell\n",
       "var outputEl = gd.closest('.output');\n",
       "if (outputEl) {{\n",
       "    x.observe(outputEl, {childList: true});\n",
       "}}\n",
       "\n",
       "                        })                };                });            </script>        </div>"
      ]
     },
     "metadata": {},
     "output_type": "display_data"
    }
   ],
   "source": [
    "\n",
    "#For 2nd chart, I will calculate the average market cap for each sector\n",
    "#to do this, i will group by sector and then calculate the mean values for each market cap\n",
    "\n",
    "#for some reason, finding the mean didnt work and gave me a higher number as a result. so resorted \n",
    "#to a different method to find the average market cap for each sector. \n",
    "\n",
    "#defining the sum() and count() of each market cap so I can divide them to get the average mkt cap.\n",
    "x = data.groupby('sector')['market cap'].count()\n",
    "y = data.groupby('sector')['market cap'].sum()\n",
    "\n",
    "# creating a new merged dataframe for x and y \n",
    "mean_market_cap = pd.merge(x, y, left_index=True, right_index=True)\n",
    "#\n",
    "mean_market_cap['average_cap'] = mean_market_cap['market cap_y']//mean_market_cap['market cap_x']\n",
    "\n",
    "avg_cap_fig = px.bar(mean_market_cap, y='average_cap',\n",
    "                    labels= {'average_cap':'Market Cap', \n",
    "                            'sector': 'Sector'},\n",
    "                    title = 'Average Stock Market Cap of Each Sector')\n",
    "avg_cap_fig.show()"
   ]
  },
  {
   "cell_type": "code",
   "execution_count": 17,
   "metadata": {},
   "outputs": [
    {
     "data": {
      "text/plain": [
       "2626102121"
      ]
     },
     "execution_count": 17,
     "metadata": {},
     "output_type": "execute_result"
    }
   ],
   "source": [
    "data\n",
    "\n",
    "data['market cap'].min()"
   ]
  },
  {
   "cell_type": "code",
   "execution_count": 91,
   "metadata": {},
   "outputs": [
    {
     "data": {
      "application/vnd.plotly.v1+json": {
       "config": {
        "plotlyServerURL": "https://plot.ly"
       },
       "data": [
        {
         "alignmentgroup": "True",
         "bingroup": "x",
         "hovertemplate": "sector=%{x}<br>count=%{y}<extra></extra>",
         "legendgroup": "",
         "marker": {
          "color": "#000001",
          "pattern": {
           "shape": ""
          }
         },
         "name": "",
         "offsetgroup": "",
         "orientation": "v",
         "showlegend": false,
         "type": "histogram",
         "x": [
          "industrials",
          "industrials",
          "health care",
          "health care",
          "information technology",
          "information technology",
          "industrials",
          "information technology",
          "consumer discretionary",
          "information technology",
          "utilities",
          "health care",
          "financials",
          "financials",
          "health care",
          "materials",
          "information technology",
          "industrials",
          "materials",
          "real estate",
          "health care",
          "health care",
          "industrials",
          "health care",
          "information technology",
          "utilities",
          "financials",
          "information technology",
          "information technology",
          "consumer staples",
          "consumer discretionary",
          "utilities",
          "industrials",
          "utilities",
          "financials",
          "financials",
          "real estate",
          "utilities",
          "financials",
          "health care",
          "industrials",
          "health care",
          "information technology",
          "energy",
          "information technology",
          "energy",
          "information technology",
          "health care",
          "financials",
          "energy",
          "real estate",
          "information technology",
          "information technology",
          "consumer discretionary",
          "consumer staples",
          "industrials",
          "financials",
          "financials",
          "telecommunication services",
          "information technology",
          "information technology",
          "consumer discretionary",
          "real estate",
          "materials",
          "energy",
          "materials",
          "financials",
          "health care",
          "financials",
          "health care",
          "financials",
          "consumer discretionary",
          "health care",
          "financials",
          "financials",
          "industrials",
          "consumer discretionary",
          "real estate",
          "health care",
          "financials",
          "health care",
          "information technology",
          "consumer staples",
          "industrials",
          "information technology",
          "energy",
          "information technology",
          "consumer staples",
          "financials",
          "health care",
          "consumer discretionary",
          "consumer discretionary",
          "industrials",
          "financials",
          "real estate",
          "consumer discretionary",
          "health care",
          "health care",
          "utilities",
          "telecommunication services",
          "health care",
          "materials",
          "financials",
          "consumer discretionary",
          "energy",
          "energy",
          "consumer discretionary",
          "financials",
          "consumer staples",
          "health care",
          "energy",
          "financials",
          "industrials",
          "information technology",
          "financials",
          "financials",
          "information technology",
          "financials",
          "utilities",
          "consumer staples",
          "information technology",
          "consumer staples",
          "consumer discretionary",
          "financials",
          "consumer staples",
          "energy",
          "energy",
          "utilities",
          "consumer staples",
          "information technology",
          "consumer staples",
          "consumer staples",
          "real estate",
          "information technology",
          "industrials",
          "industrials",
          "consumer staples",
          "consumer discretionary",
          "health care",
          "consumer discretionary",
          "health care",
          "industrials",
          "industrials",
          "health care",
          "energy",
          "real estate",
          "financials",
          "consumer discretionary",
          "consumer discretionary",
          "consumer discretionary",
          "consumer discretionary",
          "consumer discretionary",
          "utilities",
          "industrials",
          "materials",
          "consumer staples",
          "utilities",
          "utilities",
          "real estate",
          "information technology",
          "financials",
          "materials",
          "industrials",
          "information technology",
          "materials",
          "utilities",
          "health care",
          "information technology",
          "industrials",
          "utilities",
          "health care",
          "energy",
          "energy",
          "industrials",
          "real estate",
          "real estate",
          "real estate",
          "consumer staples",
          "financials",
          "utilities",
          "utilities",
          "consumer discretionary",
          "industrials",
          "health care",
          "real estate",
          "energy",
          "information technology",
          "information technology",
          "industrials",
          "real estate",
          "industrials",
          "information technology",
          "financials",
          "utilities",
          "information technology",
          "information technology",
          "industrials",
          "industrials",
          "materials",
          "consumer discretionary",
          "consumer discretionary",
          "industrials",
          "industrials",
          "financials",
          "materials",
          "consumer discretionary",
          "consumer discretionary",
          "information technology",
          "industrials",
          "industrials",
          "real estate",
          "consumer staples",
          "consumer discretionary",
          "consumer discretionary",
          "health care",
          "information technology",
          "financials",
          "consumer discretionary",
          "industrials",
          "energy",
          "consumer discretionary",
          "consumer discretionary",
          "information technology",
          "financials",
          "consumer discretionary",
          "health care",
          "real estate",
          "energy",
          "health care",
          "energy",
          "information technology",
          "consumer discretionary",
          "health care",
          "consumer discretionary",
          "industrials",
          "consumer staples",
          "real estate",
          "information technology",
          "health care",
          "financials",
          "industrials",
          "health care",
          "industrials",
          "industrials",
          "health care",
          "health care",
          "industrials",
          "information technology",
          "financials",
          "information technology",
          "materials",
          "consumer discretionary",
          "materials",
          "information technology",
          "health care",
          "financials",
          "health care",
          "real estate",
          "industrials",
          "industrials",
          "consumer staples",
          "health care",
          "industrials",
          "financials",
          "information technology",
          "industrials",
          "consumer staples",
          "financials",
          "consumer staples",
          "real estate",
          "energy",
          "information technology",
          "consumer discretionary",
          "consumer staples",
          "consumer staples",
          "consumer discretionary",
          "industrials",
          "health care",
          "information technology",
          "consumer discretionary",
          "consumer discretionary",
          "financials",
          "health care",
          "financials",
          "consumer discretionary",
          "industrials",
          "financials",
          "consumer discretionary",
          "materials",
          "financials",
          "real estate",
          "consumer discretionary",
          "energy",
          "energy",
          "consumer discretionary",
          "financials",
          "materials",
          "industrials",
          "information technology",
          "consumer discretionary",
          "consumer staples",
          "consumer discretionary",
          "health care",
          "health care",
          "health care",
          "financials",
          "health care",
          "consumer discretionary",
          "consumer discretionary",
          "information technology",
          "information technology",
          "information technology",
          "real estate",
          "consumer discretionary",
          "consumer staples",
          "consumer staples",
          "materials",
          "consumer staples",
          "financials",
          "financials",
          "information technology",
          "health care",
          "financials",
          "energy",
          "financials",
          "information technology",
          "information technology",
          "consumer discretionary",
          "energy",
          "materials",
          "consumer discretionary",
          "consumer discretionary",
          "utilities",
          "industrials",
          "consumer discretionary",
          "utilities",
          "energy",
          "consumer discretionary",
          "industrials",
          "financials",
          "industrials",
          "consumer discretionary",
          "utilities",
          "materials",
          "information technology",
          "consumer discretionary",
          "energy",
          "consumer discretionary",
          "energy",
          "information technology",
          "industrials",
          "materials",
          "industrials",
          "health care",
          "information technology",
          "information technology",
          "industrials",
          "financials",
          "consumer staples",
          "health care",
          "health care",
          "health care",
          "utilities",
          "consumer staples",
          "energy",
          "utilities",
          "energy",
          "financials",
          "consumer discretionary",
          "materials",
          "utilities",
          "materials",
          "consumer discretionary",
          "financials",
          "consumer staples",
          "financials",
          "real estate",
          "financials",
          "utilities",
          "real estate",
          "consumer discretionary",
          "consumer discretionary",
          "information technology",
          "information technology",
          "industrials",
          "health care",
          "energy",
          "financials",
          "industrials",
          "real estate",
          "information technology",
          "real estate",
          "health care",
          "financials",
          "industrials",
          "health care",
          "industrials",
          "industrials",
          "industrials",
          "industrials",
          "consumer discretionary",
          "consumer discretionary",
          "financials",
          "information technology",
          "real estate",
          "utilities",
          "energy",
          "consumer discretionary",
          "information technology",
          "materials",
          "utilities",
          "materials",
          "consumer discretionary",
          "real estate",
          "information technology",
          "real estate",
          "consumer discretionary",
          "utilities",
          "industrials",
          "consumer discretionary",
          "consumer discretionary",
          "financials",
          "industrials",
          "health care",
          "financials",
          "information technology",
          "financials",
          "information technology",
          "consumer staples",
          "financials",
          "consumer discretionary",
          "consumer discretionary",
          "information technology",
          "energy",
          "information technology",
          "industrials",
          "financials",
          "consumer staples",
          "health care",
          "consumer staples",
          "materials",
          "financials",
          "consumer discretionary",
          "health care",
          "consumer discretionary",
          "consumer discretionary",
          "consumer discretionary",
          "financials",
          "information technology",
          "consumer discretionary",
          "industrials",
          "consumer discretionary",
          "consumer discretionary",
          "consumer discretionary",
          "consumer staples",
          "financials",
          "real estate",
          "consumer discretionary",
          "consumer discretionary",
          "consumer discretionary",
          "industrials",
          "industrials",
          "health care",
          "industrials",
          "industrials",
          "industrials",
          "health care",
          "financials",
          "consumer discretionary",
          "energy",
          "health care",
          "real estate",
          "information technology",
          "industrials",
          "telecommunication services",
          "health care",
          "consumer discretionary",
          "information technology",
          "real estate",
          "materials",
          "consumer staples",
          "consumer staples",
          "industrials",
          "health care",
          "utilities",
          "financials",
          "real estate",
          "information technology",
          "information technology",
          "materials",
          "real estate",
          "consumer discretionary",
          "energy",
          "financials",
          "consumer discretionary",
          "consumer discretionary",
          "utilities",
          "information technology",
          "information technology",
          "financials",
          "industrials",
          "consumer discretionary",
          "health care",
          "financials",
          "health care"
         ],
         "xaxis": "x",
         "yaxis": "y"
        }
       ],
       "layout": {
        "barmode": "relative",
        "legend": {
         "tracegroupgap": 0
        },
        "margin": {
         "t": 60
        },
        "template": {
         "data": {
          "candlestick": [
           {
            "decreasing": {
             "line": {
              "color": "#000033"
             }
            },
            "increasing": {
             "line": {
              "color": "#000032"
             }
            },
            "type": "candlestick"
           }
          ],
          "contour": [
           {
            "colorscale": [
             [
              0,
              "#000011"
             ],
             [
              0.1111111111111111,
              "#000012"
             ],
             [
              0.2222222222222222,
              "#000013"
             ],
             [
              0.3333333333333333,
              "#000014"
             ],
             [
              0.4444444444444444,
              "#000015"
             ],
             [
              0.5555555555555556,
              "#000016"
             ],
             [
              0.6666666666666666,
              "#000017"
             ],
             [
              0.7777777777777778,
              "#000018"
             ],
             [
              0.8888888888888888,
              "#000019"
             ],
             [
              1,
              "#000020"
             ]
            ],
            "type": "contour"
           }
          ],
          "contourcarpet": [
           {
            "colorscale": [
             [
              0,
              "#000011"
             ],
             [
              0.1111111111111111,
              "#000012"
             ],
             [
              0.2222222222222222,
              "#000013"
             ],
             [
              0.3333333333333333,
              "#000014"
             ],
             [
              0.4444444444444444,
              "#000015"
             ],
             [
              0.5555555555555556,
              "#000016"
             ],
             [
              0.6666666666666666,
              "#000017"
             ],
             [
              0.7777777777777778,
              "#000018"
             ],
             [
              0.8888888888888888,
              "#000019"
             ],
             [
              1,
              "#000020"
             ]
            ],
            "type": "contourcarpet"
           }
          ],
          "heatmap": [
           {
            "colorscale": [
             [
              0,
              "#000011"
             ],
             [
              0.1111111111111111,
              "#000012"
             ],
             [
              0.2222222222222222,
              "#000013"
             ],
             [
              0.3333333333333333,
              "#000014"
             ],
             [
              0.4444444444444444,
              "#000015"
             ],
             [
              0.5555555555555556,
              "#000016"
             ],
             [
              0.6666666666666666,
              "#000017"
             ],
             [
              0.7777777777777778,
              "#000018"
             ],
             [
              0.8888888888888888,
              "#000019"
             ],
             [
              1,
              "#000020"
             ]
            ],
            "type": "heatmap"
           }
          ],
          "histogram2d": [
           {
            "colorscale": [
             [
              0,
              "#000011"
             ],
             [
              0.1111111111111111,
              "#000012"
             ],
             [
              0.2222222222222222,
              "#000013"
             ],
             [
              0.3333333333333333,
              "#000014"
             ],
             [
              0.4444444444444444,
              "#000015"
             ],
             [
              0.5555555555555556,
              "#000016"
             ],
             [
              0.6666666666666666,
              "#000017"
             ],
             [
              0.7777777777777778,
              "#000018"
             ],
             [
              0.8888888888888888,
              "#000019"
             ],
             [
              1,
              "#000020"
             ]
            ],
            "type": "histogram2d"
           }
          ],
          "icicle": [
           {
            "textfont": {
             "color": "white"
            },
            "type": "icicle"
           }
          ],
          "sankey": [
           {
            "textfont": {
             "color": "#000036"
            },
            "type": "sankey"
           }
          ],
          "scatter": [
           {
            "marker": {
             "line": {
              "width": 0
             }
            },
            "type": "scatter"
           }
          ],
          "table": [
           {
            "cells": {
             "fill": {
              "color": "#000038"
             },
             "font": {
              "color": "#000037"
             },
             "line": {
              "color": "#000039"
             }
            },
            "header": {
             "fill": {
              "color": "#000040"
             },
             "font": {
              "color": "#000036"
             },
             "line": {
              "color": "#000039"
             }
            },
            "type": "table"
           }
          ],
          "waterfall": [
           {
            "connector": {
             "line": {
              "color": "#000036",
              "width": 2
             }
            },
            "decreasing": {
             "marker": {
              "color": "#000033"
             }
            },
            "increasing": {
             "marker": {
              "color": "#000032"
             }
            },
            "totals": {
             "marker": {
              "color": "#000034"
             }
            },
            "type": "waterfall"
           }
          ]
         },
         "layout": {
          "coloraxis": {
           "colorscale": [
            [
             0,
             "#000011"
            ],
            [
             0.1111111111111111,
             "#000012"
            ],
            [
             0.2222222222222222,
             "#000013"
            ],
            [
             0.3333333333333333,
             "#000014"
            ],
            [
             0.4444444444444444,
             "#000015"
            ],
            [
             0.5555555555555556,
             "#000016"
            ],
            [
             0.6666666666666666,
             "#000017"
            ],
            [
             0.7777777777777778,
             "#000018"
            ],
            [
             0.8888888888888888,
             "#000019"
            ],
            [
             1,
             "#000020"
            ]
           ]
          },
          "colorscale": {
           "diverging": [
            [
             0,
             "#000021"
            ],
            [
             0.1,
             "#000022"
            ],
            [
             0.2,
             "#000023"
            ],
            [
             0.3,
             "#000024"
            ],
            [
             0.4,
             "#000025"
            ],
            [
             0.5,
             "#000026"
            ],
            [
             0.6,
             "#000027"
            ],
            [
             0.7,
             "#000028"
            ],
            [
             0.8,
             "#000029"
            ],
            [
             0.9,
             "#000030"
            ],
            [
             1,
             "#000031"
            ]
           ],
           "sequential": [
            [
             0,
             "#000011"
            ],
            [
             0.1111111111111111,
             "#000012"
            ],
            [
             0.2222222222222222,
             "#000013"
            ],
            [
             0.3333333333333333,
             "#000014"
            ],
            [
             0.4444444444444444,
             "#000015"
            ],
            [
             0.5555555555555556,
             "#000016"
            ],
            [
             0.6666666666666666,
             "#000017"
            ],
            [
             0.7777777777777778,
             "#000018"
            ],
            [
             0.8888888888888888,
             "#000019"
            ],
            [
             1,
             "#000020"
            ]
           ],
           "sequentialminus": [
            [
             0,
             "#000011"
            ],
            [
             0.1111111111111111,
             "#000012"
            ],
            [
             0.2222222222222222,
             "#000013"
            ],
            [
             0.3333333333333333,
             "#000014"
            ],
            [
             0.4444444444444444,
             "#000015"
            ],
            [
             0.5555555555555556,
             "#000016"
            ],
            [
             0.6666666666666666,
             "#000017"
            ],
            [
             0.7777777777777778,
             "#000018"
            ],
            [
             0.8888888888888888,
             "#000019"
            ],
            [
             1,
             "#000020"
            ]
           ]
          },
          "colorway": [
           "#000001",
           "#000002",
           "#000003",
           "#000004",
           "#000005",
           "#000006",
           "#000007",
           "#000008",
           "#000009",
           "#000010"
          ]
         }
        },
        "xaxis": {
         "anchor": "y",
         "domain": [
          0,
          1
         ],
         "title": {
          "text": "sector"
         }
        },
        "yaxis": {
         "anchor": "x",
         "domain": [
          0,
          1
         ],
         "title": {
          "text": "count"
         }
        }
       }
      },
      "text/html": [
       "<div>                            <div id=\"165e0b21-8ec9-45e0-a35d-9e41cb154e15\" class=\"plotly-graph-div\" style=\"height:525px; width:100%;\"></div>            <script type=\"text/javascript\">                require([\"plotly\"], function(Plotly) {                    window.PLOTLYENV=window.PLOTLYENV || {};                                    if (document.getElementById(\"165e0b21-8ec9-45e0-a35d-9e41cb154e15\")) {                    Plotly.newPlot(                        \"165e0b21-8ec9-45e0-a35d-9e41cb154e15\",                        [{\"alignmentgroup\":\"True\",\"bingroup\":\"x\",\"hovertemplate\":\"sector=%{x}<br>count=%{y}<extra></extra>\",\"legendgroup\":\"\",\"marker\":{\"color\":\"#000001\",\"pattern\":{\"shape\":\"\"}},\"name\":\"\",\"offsetgroup\":\"\",\"orientation\":\"v\",\"showlegend\":false,\"x\":[\"industrials\",\"industrials\",\"health care\",\"health care\",\"information technology\",\"information technology\",\"industrials\",\"information technology\",\"consumer discretionary\",\"information technology\",\"utilities\",\"health care\",\"financials\",\"financials\",\"health care\",\"materials\",\"information technology\",\"industrials\",\"materials\",\"real estate\",\"health care\",\"health care\",\"industrials\",\"health care\",\"information technology\",\"utilities\",\"financials\",\"information technology\",\"information technology\",\"consumer staples\",\"consumer discretionary\",\"utilities\",\"industrials\",\"utilities\",\"financials\",\"financials\",\"real estate\",\"utilities\",\"financials\",\"health care\",\"industrials\",\"health care\",\"information technology\",\"energy\",\"information technology\",\"energy\",\"information technology\",\"health care\",\"financials\",\"energy\",\"real estate\",\"information technology\",\"information technology\",\"consumer discretionary\",\"consumer staples\",\"industrials\",\"financials\",\"financials\",\"telecommunication services\",\"information technology\",\"information technology\",\"consumer discretionary\",\"real estate\",\"materials\",\"energy\",\"materials\",\"financials\",\"health care\",\"financials\",\"health care\",\"financials\",\"consumer discretionary\",\"health care\",\"financials\",\"financials\",\"industrials\",\"consumer discretionary\",\"real estate\",\"health care\",\"financials\",\"health care\",\"information technology\",\"consumer staples\",\"industrials\",\"information technology\",\"energy\",\"information technology\",\"consumer staples\",\"financials\",\"health care\",\"consumer discretionary\",\"consumer discretionary\",\"industrials\",\"financials\",\"real estate\",\"consumer discretionary\",\"health care\",\"health care\",\"utilities\",\"telecommunication services\",\"health care\",\"materials\",\"financials\",\"consumer discretionary\",\"energy\",\"energy\",\"consumer discretionary\",\"financials\",\"consumer staples\",\"health care\",\"energy\",\"financials\",\"industrials\",\"information technology\",\"financials\",\"financials\",\"information technology\",\"financials\",\"utilities\",\"consumer staples\",\"information technology\",\"consumer staples\",\"consumer discretionary\",\"financials\",\"consumer staples\",\"energy\",\"energy\",\"utilities\",\"consumer staples\",\"information technology\",\"consumer staples\",\"consumer staples\",\"real estate\",\"information technology\",\"industrials\",\"industrials\",\"consumer staples\",\"consumer discretionary\",\"health care\",\"consumer discretionary\",\"health care\",\"industrials\",\"industrials\",\"health care\",\"energy\",\"real estate\",\"financials\",\"consumer discretionary\",\"consumer discretionary\",\"consumer discretionary\",\"consumer discretionary\",\"consumer discretionary\",\"utilities\",\"industrials\",\"materials\",\"consumer staples\",\"utilities\",\"utilities\",\"real estate\",\"information technology\",\"financials\",\"materials\",\"industrials\",\"information technology\",\"materials\",\"utilities\",\"health care\",\"information technology\",\"industrials\",\"utilities\",\"health care\",\"energy\",\"energy\",\"industrials\",\"real estate\",\"real estate\",\"real estate\",\"consumer staples\",\"financials\",\"utilities\",\"utilities\",\"consumer discretionary\",\"industrials\",\"health care\",\"real estate\",\"energy\",\"information technology\",\"information technology\",\"industrials\",\"real estate\",\"industrials\",\"information technology\",\"financials\",\"utilities\",\"information technology\",\"information technology\",\"industrials\",\"industrials\",\"materials\",\"consumer discretionary\",\"consumer discretionary\",\"industrials\",\"industrials\",\"financials\",\"materials\",\"consumer discretionary\",\"consumer discretionary\",\"information technology\",\"industrials\",\"industrials\",\"real estate\",\"consumer staples\",\"consumer discretionary\",\"consumer discretionary\",\"health care\",\"information technology\",\"financials\",\"consumer discretionary\",\"industrials\",\"energy\",\"consumer discretionary\",\"consumer discretionary\",\"information technology\",\"financials\",\"consumer discretionary\",\"health care\",\"real estate\",\"energy\",\"health care\",\"energy\",\"information technology\",\"consumer discretionary\",\"health care\",\"consumer discretionary\",\"industrials\",\"consumer staples\",\"real estate\",\"information technology\",\"health care\",\"financials\",\"industrials\",\"health care\",\"industrials\",\"industrials\",\"health care\",\"health care\",\"industrials\",\"information technology\",\"financials\",\"information technology\",\"materials\",\"consumer discretionary\",\"materials\",\"information technology\",\"health care\",\"financials\",\"health care\",\"real estate\",\"industrials\",\"industrials\",\"consumer staples\",\"health care\",\"industrials\",\"financials\",\"information technology\",\"industrials\",\"consumer staples\",\"financials\",\"consumer staples\",\"real estate\",\"energy\",\"information technology\",\"consumer discretionary\",\"consumer staples\",\"consumer staples\",\"consumer discretionary\",\"industrials\",\"health care\",\"information technology\",\"consumer discretionary\",\"consumer discretionary\",\"financials\",\"health care\",\"financials\",\"consumer discretionary\",\"industrials\",\"financials\",\"consumer discretionary\",\"materials\",\"financials\",\"real estate\",\"consumer discretionary\",\"energy\",\"energy\",\"consumer discretionary\",\"financials\",\"materials\",\"industrials\",\"information technology\",\"consumer discretionary\",\"consumer staples\",\"consumer discretionary\",\"health care\",\"health care\",\"health care\",\"financials\",\"health care\",\"consumer discretionary\",\"consumer discretionary\",\"information technology\",\"information technology\",\"information technology\",\"real estate\",\"consumer discretionary\",\"consumer staples\",\"consumer staples\",\"materials\",\"consumer staples\",\"financials\",\"financials\",\"information technology\",\"health care\",\"financials\",\"energy\",\"financials\",\"information technology\",\"information technology\",\"consumer discretionary\",\"energy\",\"materials\",\"consumer discretionary\",\"consumer discretionary\",\"utilities\",\"industrials\",\"consumer discretionary\",\"utilities\",\"energy\",\"consumer discretionary\",\"industrials\",\"financials\",\"industrials\",\"consumer discretionary\",\"utilities\",\"materials\",\"information technology\",\"consumer discretionary\",\"energy\",\"consumer discretionary\",\"energy\",\"information technology\",\"industrials\",\"materials\",\"industrials\",\"health care\",\"information technology\",\"information technology\",\"industrials\",\"financials\",\"consumer staples\",\"health care\",\"health care\",\"health care\",\"utilities\",\"consumer staples\",\"energy\",\"utilities\",\"energy\",\"financials\",\"consumer discretionary\",\"materials\",\"utilities\",\"materials\",\"consumer discretionary\",\"financials\",\"consumer staples\",\"financials\",\"real estate\",\"financials\",\"utilities\",\"real estate\",\"consumer discretionary\",\"consumer discretionary\",\"information technology\",\"information technology\",\"industrials\",\"health care\",\"energy\",\"financials\",\"industrials\",\"real estate\",\"information technology\",\"real estate\",\"health care\",\"financials\",\"industrials\",\"health care\",\"industrials\",\"industrials\",\"industrials\",\"industrials\",\"consumer discretionary\",\"consumer discretionary\",\"financials\",\"information technology\",\"real estate\",\"utilities\",\"energy\",\"consumer discretionary\",\"information technology\",\"materials\",\"utilities\",\"materials\",\"consumer discretionary\",\"real estate\",\"information technology\",\"real estate\",\"consumer discretionary\",\"utilities\",\"industrials\",\"consumer discretionary\",\"consumer discretionary\",\"financials\",\"industrials\",\"health care\",\"financials\",\"information technology\",\"financials\",\"information technology\",\"consumer staples\",\"financials\",\"consumer discretionary\",\"consumer discretionary\",\"information technology\",\"energy\",\"information technology\",\"industrials\",\"financials\",\"consumer staples\",\"health care\",\"consumer staples\",\"materials\",\"financials\",\"consumer discretionary\",\"health care\",\"consumer discretionary\",\"consumer discretionary\",\"consumer discretionary\",\"financials\",\"information technology\",\"consumer discretionary\",\"industrials\",\"consumer discretionary\",\"consumer discretionary\",\"consumer discretionary\",\"consumer staples\",\"financials\",\"real estate\",\"consumer discretionary\",\"consumer discretionary\",\"consumer discretionary\",\"industrials\",\"industrials\",\"health care\",\"industrials\",\"industrials\",\"industrials\",\"health care\",\"financials\",\"consumer discretionary\",\"energy\",\"health care\",\"real estate\",\"information technology\",\"industrials\",\"telecommunication services\",\"health care\",\"consumer discretionary\",\"information technology\",\"real estate\",\"materials\",\"consumer staples\",\"consumer staples\",\"industrials\",\"health care\",\"utilities\",\"financials\",\"real estate\",\"information technology\",\"information technology\",\"materials\",\"real estate\",\"consumer discretionary\",\"energy\",\"financials\",\"consumer discretionary\",\"consumer discretionary\",\"utilities\",\"information technology\",\"information technology\",\"financials\",\"industrials\",\"consumer discretionary\",\"health care\",\"financials\",\"health care\"],\"xaxis\":\"x\",\"yaxis\":\"y\",\"type\":\"histogram\"}],                        {\"template\":{\"data\":{\"candlestick\":[{\"decreasing\":{\"line\":{\"color\":\"#000033\"}},\"increasing\":{\"line\":{\"color\":\"#000032\"}},\"type\":\"candlestick\"}],\"contourcarpet\":[{\"colorscale\":[[0.0,\"#000011\"],[0.1111111111111111,\"#000012\"],[0.2222222222222222,\"#000013\"],[0.3333333333333333,\"#000014\"],[0.4444444444444444,\"#000015\"],[0.5555555555555556,\"#000016\"],[0.6666666666666666,\"#000017\"],[0.7777777777777778,\"#000018\"],[0.8888888888888888,\"#000019\"],[1.0,\"#000020\"]],\"type\":\"contourcarpet\"}],\"contour\":[{\"colorscale\":[[0.0,\"#000011\"],[0.1111111111111111,\"#000012\"],[0.2222222222222222,\"#000013\"],[0.3333333333333333,\"#000014\"],[0.4444444444444444,\"#000015\"],[0.5555555555555556,\"#000016\"],[0.6666666666666666,\"#000017\"],[0.7777777777777778,\"#000018\"],[0.8888888888888888,\"#000019\"],[1.0,\"#000020\"]],\"type\":\"contour\"}],\"heatmap\":[{\"colorscale\":[[0.0,\"#000011\"],[0.1111111111111111,\"#000012\"],[0.2222222222222222,\"#000013\"],[0.3333333333333333,\"#000014\"],[0.4444444444444444,\"#000015\"],[0.5555555555555556,\"#000016\"],[0.6666666666666666,\"#000017\"],[0.7777777777777778,\"#000018\"],[0.8888888888888888,\"#000019\"],[1.0,\"#000020\"]],\"type\":\"heatmap\"}],\"histogram2d\":[{\"colorscale\":[[0.0,\"#000011\"],[0.1111111111111111,\"#000012\"],[0.2222222222222222,\"#000013\"],[0.3333333333333333,\"#000014\"],[0.4444444444444444,\"#000015\"],[0.5555555555555556,\"#000016\"],[0.6666666666666666,\"#000017\"],[0.7777777777777778,\"#000018\"],[0.8888888888888888,\"#000019\"],[1.0,\"#000020\"]],\"type\":\"histogram2d\"}],\"icicle\":[{\"textfont\":{\"color\":\"white\"},\"type\":\"icicle\"}],\"sankey\":[{\"textfont\":{\"color\":\"#000036\"},\"type\":\"sankey\"}],\"scatter\":[{\"marker\":{\"line\":{\"width\":0}},\"type\":\"scatter\"}],\"table\":[{\"cells\":{\"fill\":{\"color\":\"#000038\"},\"font\":{\"color\":\"#000037\"},\"line\":{\"color\":\"#000039\"}},\"header\":{\"fill\":{\"color\":\"#000040\"},\"font\":{\"color\":\"#000036\"},\"line\":{\"color\":\"#000039\"}},\"type\":\"table\"}],\"waterfall\":[{\"connector\":{\"line\":{\"color\":\"#000036\",\"width\":2}},\"decreasing\":{\"marker\":{\"color\":\"#000033\"}},\"increasing\":{\"marker\":{\"color\":\"#000032\"}},\"totals\":{\"marker\":{\"color\":\"#000034\"}},\"type\":\"waterfall\"}]},\"layout\":{\"coloraxis\":{\"colorscale\":[[0.0,\"#000011\"],[0.1111111111111111,\"#000012\"],[0.2222222222222222,\"#000013\"],[0.3333333333333333,\"#000014\"],[0.4444444444444444,\"#000015\"],[0.5555555555555556,\"#000016\"],[0.6666666666666666,\"#000017\"],[0.7777777777777778,\"#000018\"],[0.8888888888888888,\"#000019\"],[1.0,\"#000020\"]]},\"colorscale\":{\"diverging\":[[0.0,\"#000021\"],[0.1,\"#000022\"],[0.2,\"#000023\"],[0.3,\"#000024\"],[0.4,\"#000025\"],[0.5,\"#000026\"],[0.6,\"#000027\"],[0.7,\"#000028\"],[0.8,\"#000029\"],[0.9,\"#000030\"],[1.0,\"#000031\"]],\"sequential\":[[0.0,\"#000011\"],[0.1111111111111111,\"#000012\"],[0.2222222222222222,\"#000013\"],[0.3333333333333333,\"#000014\"],[0.4444444444444444,\"#000015\"],[0.5555555555555556,\"#000016\"],[0.6666666666666666,\"#000017\"],[0.7777777777777778,\"#000018\"],[0.8888888888888888,\"#000019\"],[1.0,\"#000020\"]],\"sequentialminus\":[[0.0,\"#000011\"],[0.1111111111111111,\"#000012\"],[0.2222222222222222,\"#000013\"],[0.3333333333333333,\"#000014\"],[0.4444444444444444,\"#000015\"],[0.5555555555555556,\"#000016\"],[0.6666666666666666,\"#000017\"],[0.7777777777777778,\"#000018\"],[0.8888888888888888,\"#000019\"],[1.0,\"#000020\"]]},\"colorway\":[\"#000001\",\"#000002\",\"#000003\",\"#000004\",\"#000005\",\"#000006\",\"#000007\",\"#000008\",\"#000009\",\"#000010\"]}},\"xaxis\":{\"anchor\":\"y\",\"domain\":[0.0,1.0],\"title\":{\"text\":\"sector\"}},\"yaxis\":{\"anchor\":\"x\",\"domain\":[0.0,1.0],\"title\":{\"text\":\"count\"}},\"legend\":{\"tracegroupgap\":0},\"margin\":{\"t\":60},\"barmode\":\"relative\"},                        {\"responsive\": true}                    ).then(function(){\n",
       "                            \n",
       "var gd = document.getElementById('165e0b21-8ec9-45e0-a35d-9e41cb154e15');\n",
       "var x = new MutationObserver(function (mutations, observer) {{\n",
       "        var display = window.getComputedStyle(gd).display;\n",
       "        if (!display || display === 'none') {{\n",
       "            console.log([gd, 'removed!']);\n",
       "            Plotly.purge(gd);\n",
       "            observer.disconnect();\n",
       "        }}\n",
       "}});\n",
       "\n",
       "// Listen for the removal of the full notebook cells\n",
       "var notebookContainer = gd.closest('#notebook-container');\n",
       "if (notebookContainer) {{\n",
       "    x.observe(notebookContainer, {childList: true});\n",
       "}}\n",
       "\n",
       "// Listen for the clearing of the current output cell\n",
       "var outputEl = gd.closest('.output');\n",
       "if (outputEl) {{\n",
       "    x.observe(outputEl, {childList: true});\n",
       "}}\n",
       "\n",
       "                        })                };                });            </script>        </div>"
      ]
     },
     "metadata": {},
     "output_type": "display_data"
    }
   ],
   "source": [
    "#creating a histogram using px using market cap\n",
    "\n",
    "#because I can't groupby market cap by itself, I am going to create a new column called categories \n",
    "#where I will categorize each market cap by an individual range using a function called categorize\n",
    "\n",
    "#min/max values \n",
    "# 809,508,034,020 max \n",
    "# 2,626,102,121 min\n",
    "def categorize(row): \n",
    "    \"\"\"\n",
    "    making a function where the market cap column (integers) is put in and is \n",
    "    categorized into ranges \n",
    "    \"\"\"\n",
    "    mkt_cap = row['market cap'] \n",
    "    \n",
    "    if mkt_cap <= 10000000000:\n",
    "        return 10\n",
    "    if mkt_cap <= 20000000000:\n",
    "        return 20\n",
    "    if mkt_cap <= 30000000000:\n",
    "        return 30\n",
    "    if mkt_cap <= 40000000000:\n",
    "        return 40\n",
    "    if mkt_cap <= 50000000000: \n",
    "        return 50\n",
    "    if mkt_cap <= 60000000000: \n",
    "        return 60\n",
    "    if mkt_cap <= 70000000000: \n",
    "        return 70\n",
    "    if mkt_cap <= 80000000000: \n",
    "        return 80\n",
    "    if mkt_cap <= 90000000000: \n",
    "        return 90\n",
    "    if mkt_cap <= 100000000000:\n",
    "        return 100\n",
    "    if mkt_cap <= 150000000000:\n",
    "        return 150\n",
    "    if mkt_cap <= 200000000000:\n",
    "        return 200\n",
    "    if mkt_cap <= 250000000000:\n",
    "        return 250\n",
    "    if mkt_cap <= 300000000000:\n",
    "        return 300\n",
    "    if mkt_cap <= 350000000000:\n",
    "        return 350\n",
    "    if mkt_cap <= 400000000000:\n",
    "        return 400\n",
    "    if mkt_cap <= 400000000000:\n",
    "        return 450\n",
    "    if mkt_cap <= 500000000000:\n",
    "        return 500\n",
    "    if mkt_cap <= 1000000000000:\n",
    "        return 1000\n",
    "\n",
    "#create a new column called categories and applying function within it\n",
    "data['categories'] = data.apply(categorize, axis = 1)\n",
    "\n",
    "hist_mkt = data.groupby('categories').agg({'symbol':'count'})\n",
    "\n",
    "hist_mkt = hist_mkt.reset_index(drop=False).sort_index()\n",
    "\n",
    "px.histogram(hist_mkt, nbins=25)\n",
    "\n",
    "\"\"\"\n",
    "hist_mkt['categories'] = hist_mkt['categories'].reindex(['10','20','30','40','50','60','70','80','90',\n",
    "                                                          '100','150','200','250','300','350','400','1000'])\n",
    "\"\"\"\n",
    "#hist_mkt['categories'] = hist_mkt.iloc[[0, 4, 7, 10, 12, 13, 14, 15, 16, 1, 3, 5, 6, 8, 9, 11, 2]]\n",
    "\n",
    "\n",
    "data\n",
    "\n",
    "px.histogram(data, x='sector')"
   ]
  },
  {
   "cell_type": "code",
   "execution_count": 98,
   "metadata": {},
   "outputs": [
    {
     "data": {
      "application/vnd.plotly.v1+json": {
       "config": {
        "plotlyServerURL": "https://plot.ly"
       },
       "data": [
        {
         "alignmentgroup": "True",
         "bingroup": "x",
         "hovertemplate": "Sector=%{x}<br>count=%{y}<extra></extra>",
         "legendgroup": "",
         "marker": {
          "color": "#000001",
          "pattern": {
           "shape": ""
          }
         },
         "name": "",
         "offsetgroup": "",
         "orientation": "v",
         "showlegend": false,
         "type": "histogram",
         "x": [
          "industrials",
          "industrials",
          "health care",
          "health care",
          "information technology",
          "information technology",
          "industrials",
          "information technology",
          "consumer discretionary",
          "information technology",
          "utilities",
          "health care",
          "financials",
          "financials",
          "health care",
          "materials",
          "information technology",
          "industrials",
          "materials",
          "real estate",
          "health care",
          "health care",
          "industrials",
          "health care",
          "information technology",
          "utilities",
          "financials",
          "information technology",
          "information technology",
          "consumer staples",
          "consumer discretionary",
          "utilities",
          "industrials",
          "utilities",
          "financials",
          "financials",
          "real estate",
          "utilities",
          "financials",
          "health care",
          "industrials",
          "health care",
          "information technology",
          "energy",
          "information technology",
          "energy",
          "information technology",
          "health care",
          "financials",
          "energy",
          "real estate",
          "information technology",
          "information technology",
          "consumer discretionary",
          "consumer staples",
          "industrials",
          "financials",
          "financials",
          "telecommunication services",
          "information technology",
          "information technology",
          "consumer discretionary",
          "real estate",
          "materials",
          "energy",
          "materials",
          "financials",
          "health care",
          "financials",
          "health care",
          "financials",
          "consumer discretionary",
          "health care",
          "financials",
          "financials",
          "industrials",
          "consumer discretionary",
          "real estate",
          "health care",
          "financials",
          "health care",
          "information technology",
          "consumer staples",
          "industrials",
          "information technology",
          "energy",
          "information technology",
          "consumer staples",
          "financials",
          "health care",
          "consumer discretionary",
          "consumer discretionary",
          "industrials",
          "financials",
          "real estate",
          "consumer discretionary",
          "health care",
          "health care",
          "utilities",
          "telecommunication services",
          "health care",
          "materials",
          "financials",
          "consumer discretionary",
          "energy",
          "energy",
          "consumer discretionary",
          "financials",
          "consumer staples",
          "health care",
          "energy",
          "financials",
          "industrials",
          "information technology",
          "financials",
          "financials",
          "information technology",
          "financials",
          "utilities",
          "consumer staples",
          "information technology",
          "consumer staples",
          "consumer discretionary",
          "financials",
          "consumer staples",
          "energy",
          "energy",
          "utilities",
          "consumer staples",
          "information technology",
          "consumer staples",
          "consumer staples",
          "real estate",
          "information technology",
          "industrials",
          "industrials",
          "consumer staples",
          "consumer discretionary",
          "health care",
          "consumer discretionary",
          "health care",
          "industrials",
          "industrials",
          "health care",
          "energy",
          "real estate",
          "financials",
          "consumer discretionary",
          "consumer discretionary",
          "consumer discretionary",
          "consumer discretionary",
          "consumer discretionary",
          "utilities",
          "industrials",
          "materials",
          "consumer staples",
          "utilities",
          "utilities",
          "real estate",
          "information technology",
          "financials",
          "materials",
          "industrials",
          "information technology",
          "materials",
          "utilities",
          "health care",
          "information technology",
          "industrials",
          "utilities",
          "health care",
          "energy",
          "energy",
          "industrials",
          "real estate",
          "real estate",
          "real estate",
          "consumer staples",
          "financials",
          "utilities",
          "utilities",
          "consumer discretionary",
          "industrials",
          "health care",
          "real estate",
          "energy",
          "information technology",
          "information technology",
          "industrials",
          "real estate",
          "industrials",
          "information technology",
          "financials",
          "utilities",
          "information technology",
          "information technology",
          "industrials",
          "industrials",
          "materials",
          "consumer discretionary",
          "consumer discretionary",
          "industrials",
          "industrials",
          "financials",
          "materials",
          "consumer discretionary",
          "consumer discretionary",
          "information technology",
          "industrials",
          "industrials",
          "real estate",
          "consumer staples",
          "consumer discretionary",
          "consumer discretionary",
          "health care",
          "information technology",
          "financials",
          "consumer discretionary",
          "industrials",
          "energy",
          "consumer discretionary",
          "consumer discretionary",
          "information technology",
          "financials",
          "consumer discretionary",
          "health care",
          "real estate",
          "energy",
          "health care",
          "energy",
          "information technology",
          "consumer discretionary",
          "health care",
          "consumer discretionary",
          "industrials",
          "consumer staples",
          "real estate",
          "information technology",
          "health care",
          "financials",
          "industrials",
          "health care",
          "industrials",
          "industrials",
          "health care",
          "health care",
          "industrials",
          "information technology",
          "financials",
          "information technology",
          "materials",
          "consumer discretionary",
          "materials",
          "information technology",
          "health care",
          "financials",
          "health care",
          "real estate",
          "industrials",
          "industrials",
          "consumer staples",
          "health care",
          "industrials",
          "financials",
          "information technology",
          "industrials",
          "consumer staples",
          "financials",
          "consumer staples",
          "real estate",
          "energy",
          "information technology",
          "consumer discretionary",
          "consumer staples",
          "consumer staples",
          "consumer discretionary",
          "industrials",
          "health care",
          "information technology",
          "consumer discretionary",
          "consumer discretionary",
          "financials",
          "health care",
          "financials",
          "consumer discretionary",
          "industrials",
          "financials",
          "consumer discretionary",
          "materials",
          "financials",
          "real estate",
          "consumer discretionary",
          "energy",
          "energy",
          "consumer discretionary",
          "financials",
          "materials",
          "industrials",
          "information technology",
          "consumer discretionary",
          "consumer staples",
          "consumer discretionary",
          "health care",
          "health care",
          "health care",
          "financials",
          "health care",
          "consumer discretionary",
          "consumer discretionary",
          "information technology",
          "information technology",
          "information technology",
          "real estate",
          "consumer discretionary",
          "consumer staples",
          "consumer staples",
          "materials",
          "consumer staples",
          "financials",
          "financials",
          "information technology",
          "health care",
          "financials",
          "energy",
          "financials",
          "information technology",
          "information technology",
          "consumer discretionary",
          "energy",
          "materials",
          "consumer discretionary",
          "consumer discretionary",
          "utilities",
          "industrials",
          "consumer discretionary",
          "utilities",
          "energy",
          "consumer discretionary",
          "industrials",
          "financials",
          "industrials",
          "consumer discretionary",
          "utilities",
          "materials",
          "information technology",
          "consumer discretionary",
          "energy",
          "consumer discretionary",
          "energy",
          "information technology",
          "industrials",
          "materials",
          "industrials",
          "health care",
          "information technology",
          "information technology",
          "industrials",
          "financials",
          "consumer staples",
          "health care",
          "health care",
          "health care",
          "utilities",
          "consumer staples",
          "energy",
          "utilities",
          "energy",
          "financials",
          "consumer discretionary",
          "materials",
          "utilities",
          "materials",
          "consumer discretionary",
          "financials",
          "consumer staples",
          "financials",
          "real estate",
          "financials",
          "utilities",
          "real estate",
          "consumer discretionary",
          "consumer discretionary",
          "information technology",
          "information technology",
          "industrials",
          "health care",
          "energy",
          "financials",
          "industrials",
          "real estate",
          "information technology",
          "real estate",
          "health care",
          "financials",
          "industrials",
          "health care",
          "industrials",
          "industrials",
          "industrials",
          "industrials",
          "consumer discretionary",
          "consumer discretionary",
          "financials",
          "information technology",
          "real estate",
          "utilities",
          "energy",
          "consumer discretionary",
          "information technology",
          "materials",
          "utilities",
          "materials",
          "consumer discretionary",
          "real estate",
          "information technology",
          "real estate",
          "consumer discretionary",
          "utilities",
          "industrials",
          "consumer discretionary",
          "consumer discretionary",
          "financials",
          "industrials",
          "health care",
          "financials",
          "information technology",
          "financials",
          "information technology",
          "consumer staples",
          "financials",
          "consumer discretionary",
          "consumer discretionary",
          "information technology",
          "energy",
          "information technology",
          "industrials",
          "financials",
          "consumer staples",
          "health care",
          "consumer staples",
          "materials",
          "financials",
          "consumer discretionary",
          "health care",
          "consumer discretionary",
          "consumer discretionary",
          "consumer discretionary",
          "financials",
          "information technology",
          "consumer discretionary",
          "industrials",
          "consumer discretionary",
          "consumer discretionary",
          "consumer discretionary",
          "consumer staples",
          "financials",
          "real estate",
          "consumer discretionary",
          "consumer discretionary",
          "consumer discretionary",
          "industrials",
          "industrials",
          "health care",
          "industrials",
          "industrials",
          "industrials",
          "health care",
          "financials",
          "consumer discretionary",
          "energy",
          "health care",
          "real estate",
          "information technology",
          "industrials",
          "telecommunication services",
          "health care",
          "consumer discretionary",
          "information technology",
          "real estate",
          "materials",
          "consumer staples",
          "consumer staples",
          "industrials",
          "health care",
          "utilities",
          "financials",
          "real estate",
          "information technology",
          "information technology",
          "materials",
          "real estate",
          "consumer discretionary",
          "energy",
          "financials",
          "consumer discretionary",
          "consumer discretionary",
          "utilities",
          "information technology",
          "information technology",
          "financials",
          "industrials",
          "consumer discretionary",
          "health care",
          "financials",
          "health care"
         ],
         "xaxis": "x",
         "yaxis": "y"
        }
       ],
       "layout": {
        "barmode": "relative",
        "legend": {
         "tracegroupgap": 0
        },
        "template": {
         "data": {
          "candlestick": [
           {
            "decreasing": {
             "line": {
              "color": "#000033"
             }
            },
            "increasing": {
             "line": {
              "color": "#000032"
             }
            },
            "type": "candlestick"
           }
          ],
          "contour": [
           {
            "colorscale": [
             [
              0,
              "#000011"
             ],
             [
              0.1111111111111111,
              "#000012"
             ],
             [
              0.2222222222222222,
              "#000013"
             ],
             [
              0.3333333333333333,
              "#000014"
             ],
             [
              0.4444444444444444,
              "#000015"
             ],
             [
              0.5555555555555556,
              "#000016"
             ],
             [
              0.6666666666666666,
              "#000017"
             ],
             [
              0.7777777777777778,
              "#000018"
             ],
             [
              0.8888888888888888,
              "#000019"
             ],
             [
              1,
              "#000020"
             ]
            ],
            "type": "contour"
           }
          ],
          "contourcarpet": [
           {
            "colorscale": [
             [
              0,
              "#000011"
             ],
             [
              0.1111111111111111,
              "#000012"
             ],
             [
              0.2222222222222222,
              "#000013"
             ],
             [
              0.3333333333333333,
              "#000014"
             ],
             [
              0.4444444444444444,
              "#000015"
             ],
             [
              0.5555555555555556,
              "#000016"
             ],
             [
              0.6666666666666666,
              "#000017"
             ],
             [
              0.7777777777777778,
              "#000018"
             ],
             [
              0.8888888888888888,
              "#000019"
             ],
             [
              1,
              "#000020"
             ]
            ],
            "type": "contourcarpet"
           }
          ],
          "heatmap": [
           {
            "colorscale": [
             [
              0,
              "#000011"
             ],
             [
              0.1111111111111111,
              "#000012"
             ],
             [
              0.2222222222222222,
              "#000013"
             ],
             [
              0.3333333333333333,
              "#000014"
             ],
             [
              0.4444444444444444,
              "#000015"
             ],
             [
              0.5555555555555556,
              "#000016"
             ],
             [
              0.6666666666666666,
              "#000017"
             ],
             [
              0.7777777777777778,
              "#000018"
             ],
             [
              0.8888888888888888,
              "#000019"
             ],
             [
              1,
              "#000020"
             ]
            ],
            "type": "heatmap"
           }
          ],
          "histogram2d": [
           {
            "colorscale": [
             [
              0,
              "#000011"
             ],
             [
              0.1111111111111111,
              "#000012"
             ],
             [
              0.2222222222222222,
              "#000013"
             ],
             [
              0.3333333333333333,
              "#000014"
             ],
             [
              0.4444444444444444,
              "#000015"
             ],
             [
              0.5555555555555556,
              "#000016"
             ],
             [
              0.6666666666666666,
              "#000017"
             ],
             [
              0.7777777777777778,
              "#000018"
             ],
             [
              0.8888888888888888,
              "#000019"
             ],
             [
              1,
              "#000020"
             ]
            ],
            "type": "histogram2d"
           }
          ],
          "icicle": [
           {
            "textfont": {
             "color": "white"
            },
            "type": "icicle"
           }
          ],
          "sankey": [
           {
            "textfont": {
             "color": "#000036"
            },
            "type": "sankey"
           }
          ],
          "scatter": [
           {
            "marker": {
             "line": {
              "width": 0
             }
            },
            "type": "scatter"
           }
          ],
          "table": [
           {
            "cells": {
             "fill": {
              "color": "#000038"
             },
             "font": {
              "color": "#000037"
             },
             "line": {
              "color": "#000039"
             }
            },
            "header": {
             "fill": {
              "color": "#000040"
             },
             "font": {
              "color": "#000036"
             },
             "line": {
              "color": "#000039"
             }
            },
            "type": "table"
           }
          ],
          "waterfall": [
           {
            "connector": {
             "line": {
              "color": "#000036",
              "width": 2
             }
            },
            "decreasing": {
             "marker": {
              "color": "#000033"
             }
            },
            "increasing": {
             "marker": {
              "color": "#000032"
             }
            },
            "totals": {
             "marker": {
              "color": "#000034"
             }
            },
            "type": "waterfall"
           }
          ]
         },
         "layout": {
          "coloraxis": {
           "colorscale": [
            [
             0,
             "#000011"
            ],
            [
             0.1111111111111111,
             "#000012"
            ],
            [
             0.2222222222222222,
             "#000013"
            ],
            [
             0.3333333333333333,
             "#000014"
            ],
            [
             0.4444444444444444,
             "#000015"
            ],
            [
             0.5555555555555556,
             "#000016"
            ],
            [
             0.6666666666666666,
             "#000017"
            ],
            [
             0.7777777777777778,
             "#000018"
            ],
            [
             0.8888888888888888,
             "#000019"
            ],
            [
             1,
             "#000020"
            ]
           ]
          },
          "colorscale": {
           "diverging": [
            [
             0,
             "#000021"
            ],
            [
             0.1,
             "#000022"
            ],
            [
             0.2,
             "#000023"
            ],
            [
             0.3,
             "#000024"
            ],
            [
             0.4,
             "#000025"
            ],
            [
             0.5,
             "#000026"
            ],
            [
             0.6,
             "#000027"
            ],
            [
             0.7,
             "#000028"
            ],
            [
             0.8,
             "#000029"
            ],
            [
             0.9,
             "#000030"
            ],
            [
             1,
             "#000031"
            ]
           ],
           "sequential": [
            [
             0,
             "#000011"
            ],
            [
             0.1111111111111111,
             "#000012"
            ],
            [
             0.2222222222222222,
             "#000013"
            ],
            [
             0.3333333333333333,
             "#000014"
            ],
            [
             0.4444444444444444,
             "#000015"
            ],
            [
             0.5555555555555556,
             "#000016"
            ],
            [
             0.6666666666666666,
             "#000017"
            ],
            [
             0.7777777777777778,
             "#000018"
            ],
            [
             0.8888888888888888,
             "#000019"
            ],
            [
             1,
             "#000020"
            ]
           ],
           "sequentialminus": [
            [
             0,
             "#000011"
            ],
            [
             0.1111111111111111,
             "#000012"
            ],
            [
             0.2222222222222222,
             "#000013"
            ],
            [
             0.3333333333333333,
             "#000014"
            ],
            [
             0.4444444444444444,
             "#000015"
            ],
            [
             0.5555555555555556,
             "#000016"
            ],
            [
             0.6666666666666666,
             "#000017"
            ],
            [
             0.7777777777777778,
             "#000018"
            ],
            [
             0.8888888888888888,
             "#000019"
            ],
            [
             1,
             "#000020"
            ]
           ]
          },
          "colorway": [
           "#000001",
           "#000002",
           "#000003",
           "#000004",
           "#000005",
           "#000006",
           "#000007",
           "#000008",
           "#000009",
           "#000010"
          ]
         }
        },
        "title": {
         "text": "Number of Companies per Sector in the S&p 500"
        },
        "xaxis": {
         "anchor": "y",
         "domain": [
          0,
          1
         ],
         "title": {
          "text": "Sector"
         }
        },
        "yaxis": {
         "anchor": "x",
         "domain": [
          0,
          1
         ],
         "title": {
          "text": "count"
         }
        }
       }
      },
      "text/html": [
       "<div>                            <div id=\"5c1ca9fd-1863-4017-9001-7be244da4f4a\" class=\"plotly-graph-div\" style=\"height:525px; width:100%;\"></div>            <script type=\"text/javascript\">                require([\"plotly\"], function(Plotly) {                    window.PLOTLYENV=window.PLOTLYENV || {};                                    if (document.getElementById(\"5c1ca9fd-1863-4017-9001-7be244da4f4a\")) {                    Plotly.newPlot(                        \"5c1ca9fd-1863-4017-9001-7be244da4f4a\",                        [{\"alignmentgroup\":\"True\",\"bingroup\":\"x\",\"hovertemplate\":\"Sector=%{x}<br>count=%{y}<extra></extra>\",\"legendgroup\":\"\",\"marker\":{\"color\":\"#000001\",\"pattern\":{\"shape\":\"\"}},\"name\":\"\",\"offsetgroup\":\"\",\"orientation\":\"v\",\"showlegend\":false,\"x\":[\"industrials\",\"industrials\",\"health care\",\"health care\",\"information technology\",\"information technology\",\"industrials\",\"information technology\",\"consumer discretionary\",\"information technology\",\"utilities\",\"health care\",\"financials\",\"financials\",\"health care\",\"materials\",\"information technology\",\"industrials\",\"materials\",\"real estate\",\"health care\",\"health care\",\"industrials\",\"health care\",\"information technology\",\"utilities\",\"financials\",\"information technology\",\"information technology\",\"consumer staples\",\"consumer discretionary\",\"utilities\",\"industrials\",\"utilities\",\"financials\",\"financials\",\"real estate\",\"utilities\",\"financials\",\"health care\",\"industrials\",\"health care\",\"information technology\",\"energy\",\"information technology\",\"energy\",\"information technology\",\"health care\",\"financials\",\"energy\",\"real estate\",\"information technology\",\"information technology\",\"consumer discretionary\",\"consumer staples\",\"industrials\",\"financials\",\"financials\",\"telecommunication services\",\"information technology\",\"information technology\",\"consumer discretionary\",\"real estate\",\"materials\",\"energy\",\"materials\",\"financials\",\"health care\",\"financials\",\"health care\",\"financials\",\"consumer discretionary\",\"health care\",\"financials\",\"financials\",\"industrials\",\"consumer discretionary\",\"real estate\",\"health care\",\"financials\",\"health care\",\"information technology\",\"consumer staples\",\"industrials\",\"information technology\",\"energy\",\"information technology\",\"consumer staples\",\"financials\",\"health care\",\"consumer discretionary\",\"consumer discretionary\",\"industrials\",\"financials\",\"real estate\",\"consumer discretionary\",\"health care\",\"health care\",\"utilities\",\"telecommunication services\",\"health care\",\"materials\",\"financials\",\"consumer discretionary\",\"energy\",\"energy\",\"consumer discretionary\",\"financials\",\"consumer staples\",\"health care\",\"energy\",\"financials\",\"industrials\",\"information technology\",\"financials\",\"financials\",\"information technology\",\"financials\",\"utilities\",\"consumer staples\",\"information technology\",\"consumer staples\",\"consumer discretionary\",\"financials\",\"consumer staples\",\"energy\",\"energy\",\"utilities\",\"consumer staples\",\"information technology\",\"consumer staples\",\"consumer staples\",\"real estate\",\"information technology\",\"industrials\",\"industrials\",\"consumer staples\",\"consumer discretionary\",\"health care\",\"consumer discretionary\",\"health care\",\"industrials\",\"industrials\",\"health care\",\"energy\",\"real estate\",\"financials\",\"consumer discretionary\",\"consumer discretionary\",\"consumer discretionary\",\"consumer discretionary\",\"consumer discretionary\",\"utilities\",\"industrials\",\"materials\",\"consumer staples\",\"utilities\",\"utilities\",\"real estate\",\"information technology\",\"financials\",\"materials\",\"industrials\",\"information technology\",\"materials\",\"utilities\",\"health care\",\"information technology\",\"industrials\",\"utilities\",\"health care\",\"energy\",\"energy\",\"industrials\",\"real estate\",\"real estate\",\"real estate\",\"consumer staples\",\"financials\",\"utilities\",\"utilities\",\"consumer discretionary\",\"industrials\",\"health care\",\"real estate\",\"energy\",\"information technology\",\"information technology\",\"industrials\",\"real estate\",\"industrials\",\"information technology\",\"financials\",\"utilities\",\"information technology\",\"information technology\",\"industrials\",\"industrials\",\"materials\",\"consumer discretionary\",\"consumer discretionary\",\"industrials\",\"industrials\",\"financials\",\"materials\",\"consumer discretionary\",\"consumer discretionary\",\"information technology\",\"industrials\",\"industrials\",\"real estate\",\"consumer staples\",\"consumer discretionary\",\"consumer discretionary\",\"health care\",\"information technology\",\"financials\",\"consumer discretionary\",\"industrials\",\"energy\",\"consumer discretionary\",\"consumer discretionary\",\"information technology\",\"financials\",\"consumer discretionary\",\"health care\",\"real estate\",\"energy\",\"health care\",\"energy\",\"information technology\",\"consumer discretionary\",\"health care\",\"consumer discretionary\",\"industrials\",\"consumer staples\",\"real estate\",\"information technology\",\"health care\",\"financials\",\"industrials\",\"health care\",\"industrials\",\"industrials\",\"health care\",\"health care\",\"industrials\",\"information technology\",\"financials\",\"information technology\",\"materials\",\"consumer discretionary\",\"materials\",\"information technology\",\"health care\",\"financials\",\"health care\",\"real estate\",\"industrials\",\"industrials\",\"consumer staples\",\"health care\",\"industrials\",\"financials\",\"information technology\",\"industrials\",\"consumer staples\",\"financials\",\"consumer staples\",\"real estate\",\"energy\",\"information technology\",\"consumer discretionary\",\"consumer staples\",\"consumer staples\",\"consumer discretionary\",\"industrials\",\"health care\",\"information technology\",\"consumer discretionary\",\"consumer discretionary\",\"financials\",\"health care\",\"financials\",\"consumer discretionary\",\"industrials\",\"financials\",\"consumer discretionary\",\"materials\",\"financials\",\"real estate\",\"consumer discretionary\",\"energy\",\"energy\",\"consumer discretionary\",\"financials\",\"materials\",\"industrials\",\"information technology\",\"consumer discretionary\",\"consumer staples\",\"consumer discretionary\",\"health care\",\"health care\",\"health care\",\"financials\",\"health care\",\"consumer discretionary\",\"consumer discretionary\",\"information technology\",\"information technology\",\"information technology\",\"real estate\",\"consumer discretionary\",\"consumer staples\",\"consumer staples\",\"materials\",\"consumer staples\",\"financials\",\"financials\",\"information technology\",\"health care\",\"financials\",\"energy\",\"financials\",\"information technology\",\"information technology\",\"consumer discretionary\",\"energy\",\"materials\",\"consumer discretionary\",\"consumer discretionary\",\"utilities\",\"industrials\",\"consumer discretionary\",\"utilities\",\"energy\",\"consumer discretionary\",\"industrials\",\"financials\",\"industrials\",\"consumer discretionary\",\"utilities\",\"materials\",\"information technology\",\"consumer discretionary\",\"energy\",\"consumer discretionary\",\"energy\",\"information technology\",\"industrials\",\"materials\",\"industrials\",\"health care\",\"information technology\",\"information technology\",\"industrials\",\"financials\",\"consumer staples\",\"health care\",\"health care\",\"health care\",\"utilities\",\"consumer staples\",\"energy\",\"utilities\",\"energy\",\"financials\",\"consumer discretionary\",\"materials\",\"utilities\",\"materials\",\"consumer discretionary\",\"financials\",\"consumer staples\",\"financials\",\"real estate\",\"financials\",\"utilities\",\"real estate\",\"consumer discretionary\",\"consumer discretionary\",\"information technology\",\"information technology\",\"industrials\",\"health care\",\"energy\",\"financials\",\"industrials\",\"real estate\",\"information technology\",\"real estate\",\"health care\",\"financials\",\"industrials\",\"health care\",\"industrials\",\"industrials\",\"industrials\",\"industrials\",\"consumer discretionary\",\"consumer discretionary\",\"financials\",\"information technology\",\"real estate\",\"utilities\",\"energy\",\"consumer discretionary\",\"information technology\",\"materials\",\"utilities\",\"materials\",\"consumer discretionary\",\"real estate\",\"information technology\",\"real estate\",\"consumer discretionary\",\"utilities\",\"industrials\",\"consumer discretionary\",\"consumer discretionary\",\"financials\",\"industrials\",\"health care\",\"financials\",\"information technology\",\"financials\",\"information technology\",\"consumer staples\",\"financials\",\"consumer discretionary\",\"consumer discretionary\",\"information technology\",\"energy\",\"information technology\",\"industrials\",\"financials\",\"consumer staples\",\"health care\",\"consumer staples\",\"materials\",\"financials\",\"consumer discretionary\",\"health care\",\"consumer discretionary\",\"consumer discretionary\",\"consumer discretionary\",\"financials\",\"information technology\",\"consumer discretionary\",\"industrials\",\"consumer discretionary\",\"consumer discretionary\",\"consumer discretionary\",\"consumer staples\",\"financials\",\"real estate\",\"consumer discretionary\",\"consumer discretionary\",\"consumer discretionary\",\"industrials\",\"industrials\",\"health care\",\"industrials\",\"industrials\",\"industrials\",\"health care\",\"financials\",\"consumer discretionary\",\"energy\",\"health care\",\"real estate\",\"information technology\",\"industrials\",\"telecommunication services\",\"health care\",\"consumer discretionary\",\"information technology\",\"real estate\",\"materials\",\"consumer staples\",\"consumer staples\",\"industrials\",\"health care\",\"utilities\",\"financials\",\"real estate\",\"information technology\",\"information technology\",\"materials\",\"real estate\",\"consumer discretionary\",\"energy\",\"financials\",\"consumer discretionary\",\"consumer discretionary\",\"utilities\",\"information technology\",\"information technology\",\"financials\",\"industrials\",\"consumer discretionary\",\"health care\",\"financials\",\"health care\"],\"xaxis\":\"x\",\"yaxis\":\"y\",\"type\":\"histogram\"}],                        {\"template\":{\"data\":{\"candlestick\":[{\"decreasing\":{\"line\":{\"color\":\"#000033\"}},\"increasing\":{\"line\":{\"color\":\"#000032\"}},\"type\":\"candlestick\"}],\"contourcarpet\":[{\"colorscale\":[[0.0,\"#000011\"],[0.1111111111111111,\"#000012\"],[0.2222222222222222,\"#000013\"],[0.3333333333333333,\"#000014\"],[0.4444444444444444,\"#000015\"],[0.5555555555555556,\"#000016\"],[0.6666666666666666,\"#000017\"],[0.7777777777777778,\"#000018\"],[0.8888888888888888,\"#000019\"],[1.0,\"#000020\"]],\"type\":\"contourcarpet\"}],\"contour\":[{\"colorscale\":[[0.0,\"#000011\"],[0.1111111111111111,\"#000012\"],[0.2222222222222222,\"#000013\"],[0.3333333333333333,\"#000014\"],[0.4444444444444444,\"#000015\"],[0.5555555555555556,\"#000016\"],[0.6666666666666666,\"#000017\"],[0.7777777777777778,\"#000018\"],[0.8888888888888888,\"#000019\"],[1.0,\"#000020\"]],\"type\":\"contour\"}],\"heatmap\":[{\"colorscale\":[[0.0,\"#000011\"],[0.1111111111111111,\"#000012\"],[0.2222222222222222,\"#000013\"],[0.3333333333333333,\"#000014\"],[0.4444444444444444,\"#000015\"],[0.5555555555555556,\"#000016\"],[0.6666666666666666,\"#000017\"],[0.7777777777777778,\"#000018\"],[0.8888888888888888,\"#000019\"],[1.0,\"#000020\"]],\"type\":\"heatmap\"}],\"histogram2d\":[{\"colorscale\":[[0.0,\"#000011\"],[0.1111111111111111,\"#000012\"],[0.2222222222222222,\"#000013\"],[0.3333333333333333,\"#000014\"],[0.4444444444444444,\"#000015\"],[0.5555555555555556,\"#000016\"],[0.6666666666666666,\"#000017\"],[0.7777777777777778,\"#000018\"],[0.8888888888888888,\"#000019\"],[1.0,\"#000020\"]],\"type\":\"histogram2d\"}],\"icicle\":[{\"textfont\":{\"color\":\"white\"},\"type\":\"icicle\"}],\"sankey\":[{\"textfont\":{\"color\":\"#000036\"},\"type\":\"sankey\"}],\"scatter\":[{\"marker\":{\"line\":{\"width\":0}},\"type\":\"scatter\"}],\"table\":[{\"cells\":{\"fill\":{\"color\":\"#000038\"},\"font\":{\"color\":\"#000037\"},\"line\":{\"color\":\"#000039\"}},\"header\":{\"fill\":{\"color\":\"#000040\"},\"font\":{\"color\":\"#000036\"},\"line\":{\"color\":\"#000039\"}},\"type\":\"table\"}],\"waterfall\":[{\"connector\":{\"line\":{\"color\":\"#000036\",\"width\":2}},\"decreasing\":{\"marker\":{\"color\":\"#000033\"}},\"increasing\":{\"marker\":{\"color\":\"#000032\"}},\"totals\":{\"marker\":{\"color\":\"#000034\"}},\"type\":\"waterfall\"}]},\"layout\":{\"coloraxis\":{\"colorscale\":[[0.0,\"#000011\"],[0.1111111111111111,\"#000012\"],[0.2222222222222222,\"#000013\"],[0.3333333333333333,\"#000014\"],[0.4444444444444444,\"#000015\"],[0.5555555555555556,\"#000016\"],[0.6666666666666666,\"#000017\"],[0.7777777777777778,\"#000018\"],[0.8888888888888888,\"#000019\"],[1.0,\"#000020\"]]},\"colorscale\":{\"diverging\":[[0.0,\"#000021\"],[0.1,\"#000022\"],[0.2,\"#000023\"],[0.3,\"#000024\"],[0.4,\"#000025\"],[0.5,\"#000026\"],[0.6,\"#000027\"],[0.7,\"#000028\"],[0.8,\"#000029\"],[0.9,\"#000030\"],[1.0,\"#000031\"]],\"sequential\":[[0.0,\"#000011\"],[0.1111111111111111,\"#000012\"],[0.2222222222222222,\"#000013\"],[0.3333333333333333,\"#000014\"],[0.4444444444444444,\"#000015\"],[0.5555555555555556,\"#000016\"],[0.6666666666666666,\"#000017\"],[0.7777777777777778,\"#000018\"],[0.8888888888888888,\"#000019\"],[1.0,\"#000020\"]],\"sequentialminus\":[[0.0,\"#000011\"],[0.1111111111111111,\"#000012\"],[0.2222222222222222,\"#000013\"],[0.3333333333333333,\"#000014\"],[0.4444444444444444,\"#000015\"],[0.5555555555555556,\"#000016\"],[0.6666666666666666,\"#000017\"],[0.7777777777777778,\"#000018\"],[0.8888888888888888,\"#000019\"],[1.0,\"#000020\"]]},\"colorway\":[\"#000001\",\"#000002\",\"#000003\",\"#000004\",\"#000005\",\"#000006\",\"#000007\",\"#000008\",\"#000009\",\"#000010\"]}},\"xaxis\":{\"anchor\":\"y\",\"domain\":[0.0,1.0],\"title\":{\"text\":\"Sector\"}},\"yaxis\":{\"anchor\":\"x\",\"domain\":[0.0,1.0],\"title\":{\"text\":\"count\"}},\"legend\":{\"tracegroupgap\":0},\"title\":{\"text\":\"Number of Companies per Sector in the S&p 500\"},\"barmode\":\"relative\"},                        {\"responsive\": true}                    ).then(function(){\n",
       "                            \n",
       "var gd = document.getElementById('5c1ca9fd-1863-4017-9001-7be244da4f4a');\n",
       "var x = new MutationObserver(function (mutations, observer) {{\n",
       "        var display = window.getComputedStyle(gd).display;\n",
       "        if (!display || display === 'none') {{\n",
       "            console.log([gd, 'removed!']);\n",
       "            Plotly.purge(gd);\n",
       "            observer.disconnect();\n",
       "        }}\n",
       "}});\n",
       "\n",
       "// Listen for the removal of the full notebook cells\n",
       "var notebookContainer = gd.closest('#notebook-container');\n",
       "if (notebookContainer) {{\n",
       "    x.observe(notebookContainer, {childList: true});\n",
       "}}\n",
       "\n",
       "// Listen for the clearing of the current output cell\n",
       "var outputEl = gd.closest('.output');\n",
       "if (outputEl) {{\n",
       "    x.observe(outputEl, {childList: true});\n",
       "}}\n",
       "\n",
       "                        })                };                });            </script>        </div>"
      ]
     },
     "metadata": {},
     "output_type": "display_data"
    }
   ],
   "source": [
    "\n",
    "#creating a histogram based on number of companies per sector in the S&P\n",
    "sector_histogram = px.histogram(data, x='sector',\n",
    "                    labels= {'count':'Number of Companies', \n",
    "                            'sector': 'Sector'},\n",
    "                    title = 'Number of Companies per Sector in the S&p 500')\n",
    "sector_histogram.show()"
   ]
  },
  {
   "cell_type": "code",
   "execution_count": null,
   "metadata": {},
   "outputs": [],
   "source": []
  }
 ],
 "metadata": {
  "kernelspec": {
   "display_name": "Python 3 (ipykernel)",
   "language": "python",
   "name": "python3"
  },
  "language_info": {
   "codemirror_mode": {
    "name": "ipython",
    "version": 3
   },
   "file_extension": ".py",
   "mimetype": "text/x-python",
   "name": "python",
   "nbconvert_exporter": "python",
   "pygments_lexer": "ipython3",
   "version": "3.9.13"
  },
  "vscode": {
   "interpreter": {
    "hash": "e12320fd61506440e74dc62b9ec518144111e503bed4a3726a41a0f42b3b0164"
   }
  }
 },
 "nbformat": 4,
 "nbformat_minor": 2
}
