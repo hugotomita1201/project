{
 "cells": [
  {
   "cell_type": "code",
   "execution_count": 7,
   "metadata": {},
   "outputs": [],
   "source": [
    "#DATA ANALYSIS FOR SPY.CSV DATAFRAME\n",
    "#The point of this ipynb is to clean up the data and to create charts to illustrate differences of stocks in the SPY500 index\n",
    "#My goals will be to: \n",
    "#1. clean up data so no missing values are found\n",
    "#2. create a chart filtering number of stocks per sector\n",
    "#3. create a chart showing average market cap of each stock per sector\n",
    "#4. create scatter plots showing the distribution of market caps in the spy 500\n",
    "\n",
    "\n",
    "#changes #4 \n",
    "# I filled all na values with data['price/book'] = data['price/book'].fillna(0) and all missing values were \n",
    "# filled for me in the dataframe.\n",
    "# The last section has my conclusion\n",
    "# all datatypes seem to be correct for me. I checked with data.info\n",
    "\n",
    "import streamlit as st\n",
    "import pandas as pd\n",
    "import base64\n",
    "import matplotlib.pyplot as plt\n",
    "import seaborn as sns\n",
    "import numpy as np\n",
    "import plotly.express as px\n"
   ]
  },
  {
   "cell_type": "code",
   "execution_count": 8,
   "metadata": {},
   "outputs": [
    {
     "data": {
      "text/html": [
       "<div>\n",
       "<style scoped>\n",
       "    .dataframe tbody tr th:only-of-type {\n",
       "        vertical-align: middle;\n",
       "    }\n",
       "\n",
       "    .dataframe tbody tr th {\n",
       "        vertical-align: top;\n",
       "    }\n",
       "\n",
       "    .dataframe thead th {\n",
       "        text-align: right;\n",
       "    }\n",
       "</style>\n",
       "<table border=\"1\" class=\"dataframe\">\n",
       "  <thead>\n",
       "    <tr style=\"text-align: right;\">\n",
       "      <th></th>\n",
       "      <th>Symbol</th>\n",
       "      <th>Name</th>\n",
       "      <th>Sector</th>\n",
       "      <th>Price</th>\n",
       "      <th>Price/Earnings</th>\n",
       "      <th>Dividend Yield</th>\n",
       "      <th>Earnings/Share</th>\n",
       "      <th>52 Week Low</th>\n",
       "      <th>52 Week High</th>\n",
       "      <th>Market Cap</th>\n",
       "      <th>EBITDA</th>\n",
       "      <th>Price/Sales</th>\n",
       "      <th>Price/Book</th>\n",
       "      <th>SEC Filings</th>\n",
       "    </tr>\n",
       "  </thead>\n",
       "  <tbody>\n",
       "    <tr>\n",
       "      <th>0</th>\n",
       "      <td>MMM</td>\n",
       "      <td>3M Company</td>\n",
       "      <td>Industrials</td>\n",
       "      <td>222.89</td>\n",
       "      <td>24.31</td>\n",
       "      <td>2.332862</td>\n",
       "      <td>7.92</td>\n",
       "      <td>259.77</td>\n",
       "      <td>175.490</td>\n",
       "      <td>138721055226</td>\n",
       "      <td>9.048000e+09</td>\n",
       "      <td>4.390271</td>\n",
       "      <td>11.34</td>\n",
       "      <td>http://www.sec.gov/cgi-bin/browse-edgar?action...</td>\n",
       "    </tr>\n",
       "    <tr>\n",
       "      <th>1</th>\n",
       "      <td>AOS</td>\n",
       "      <td>A.O. Smith Corp</td>\n",
       "      <td>Industrials</td>\n",
       "      <td>60.24</td>\n",
       "      <td>27.76</td>\n",
       "      <td>1.147959</td>\n",
       "      <td>1.70</td>\n",
       "      <td>68.39</td>\n",
       "      <td>48.925</td>\n",
       "      <td>10783419933</td>\n",
       "      <td>6.010000e+08</td>\n",
       "      <td>3.575483</td>\n",
       "      <td>6.35</td>\n",
       "      <td>http://www.sec.gov/cgi-bin/browse-edgar?action...</td>\n",
       "    </tr>\n",
       "    <tr>\n",
       "      <th>2</th>\n",
       "      <td>ABT</td>\n",
       "      <td>Abbott Laboratories</td>\n",
       "      <td>Health Care</td>\n",
       "      <td>56.27</td>\n",
       "      <td>22.51</td>\n",
       "      <td>1.908982</td>\n",
       "      <td>0.26</td>\n",
       "      <td>64.60</td>\n",
       "      <td>42.280</td>\n",
       "      <td>102121042306</td>\n",
       "      <td>5.744000e+09</td>\n",
       "      <td>3.740480</td>\n",
       "      <td>3.19</td>\n",
       "      <td>http://www.sec.gov/cgi-bin/browse-edgar?action...</td>\n",
       "    </tr>\n",
       "    <tr>\n",
       "      <th>3</th>\n",
       "      <td>ABBV</td>\n",
       "      <td>AbbVie Inc.</td>\n",
       "      <td>Health Care</td>\n",
       "      <td>108.48</td>\n",
       "      <td>19.41</td>\n",
       "      <td>2.499560</td>\n",
       "      <td>3.29</td>\n",
       "      <td>125.86</td>\n",
       "      <td>60.050</td>\n",
       "      <td>181386347059</td>\n",
       "      <td>1.031000e+10</td>\n",
       "      <td>6.291571</td>\n",
       "      <td>26.14</td>\n",
       "      <td>http://www.sec.gov/cgi-bin/browse-edgar?action...</td>\n",
       "    </tr>\n",
       "    <tr>\n",
       "      <th>4</th>\n",
       "      <td>ACN</td>\n",
       "      <td>Accenture plc</td>\n",
       "      <td>Information Technology</td>\n",
       "      <td>150.51</td>\n",
       "      <td>25.47</td>\n",
       "      <td>1.714470</td>\n",
       "      <td>5.44</td>\n",
       "      <td>162.60</td>\n",
       "      <td>114.820</td>\n",
       "      <td>98765855553</td>\n",
       "      <td>5.643228e+09</td>\n",
       "      <td>2.604117</td>\n",
       "      <td>10.62</td>\n",
       "      <td>http://www.sec.gov/cgi-bin/browse-edgar?action...</td>\n",
       "    </tr>\n",
       "    <tr>\n",
       "      <th>...</th>\n",
       "      <td>...</td>\n",
       "      <td>...</td>\n",
       "      <td>...</td>\n",
       "      <td>...</td>\n",
       "      <td>...</td>\n",
       "      <td>...</td>\n",
       "      <td>...</td>\n",
       "      <td>...</td>\n",
       "      <td>...</td>\n",
       "      <td>...</td>\n",
       "      <td>...</td>\n",
       "      <td>...</td>\n",
       "      <td>...</td>\n",
       "      <td>...</td>\n",
       "    </tr>\n",
       "    <tr>\n",
       "      <th>500</th>\n",
       "      <td>XYL</td>\n",
       "      <td>Xylem Inc.</td>\n",
       "      <td>Industrials</td>\n",
       "      <td>70.24</td>\n",
       "      <td>30.94</td>\n",
       "      <td>1.170079</td>\n",
       "      <td>1.83</td>\n",
       "      <td>76.81</td>\n",
       "      <td>46.860</td>\n",
       "      <td>12915021000</td>\n",
       "      <td>7.220000e+08</td>\n",
       "      <td>2.726209</td>\n",
       "      <td>5.31</td>\n",
       "      <td>http://www.sec.gov/cgi-bin/browse-edgar?action...</td>\n",
       "    </tr>\n",
       "    <tr>\n",
       "      <th>501</th>\n",
       "      <td>YUM</td>\n",
       "      <td>Yum! Brands Inc</td>\n",
       "      <td>Consumer Discretionary</td>\n",
       "      <td>76.30</td>\n",
       "      <td>27.25</td>\n",
       "      <td>1.797080</td>\n",
       "      <td>4.07</td>\n",
       "      <td>86.93</td>\n",
       "      <td>62.850</td>\n",
       "      <td>27003303098</td>\n",
       "      <td>2.289000e+09</td>\n",
       "      <td>6.313636</td>\n",
       "      <td>212.08</td>\n",
       "      <td>http://www.sec.gov/cgi-bin/browse-edgar?action...</td>\n",
       "    </tr>\n",
       "    <tr>\n",
       "      <th>502</th>\n",
       "      <td>ZBH</td>\n",
       "      <td>Zimmer Biomet Holdings</td>\n",
       "      <td>Health Care</td>\n",
       "      <td>115.53</td>\n",
       "      <td>14.32</td>\n",
       "      <td>0.794834</td>\n",
       "      <td>9.01</td>\n",
       "      <td>133.49</td>\n",
       "      <td>108.170</td>\n",
       "      <td>24454698119</td>\n",
       "      <td>2.007400e+09</td>\n",
       "      <td>3.164895</td>\n",
       "      <td>2.39</td>\n",
       "      <td>http://www.sec.gov/cgi-bin/browse-edgar?action...</td>\n",
       "    </tr>\n",
       "    <tr>\n",
       "      <th>503</th>\n",
       "      <td>ZION</td>\n",
       "      <td>Zions Bancorp</td>\n",
       "      <td>Financials</td>\n",
       "      <td>50.71</td>\n",
       "      <td>17.73</td>\n",
       "      <td>1.480933</td>\n",
       "      <td>2.60</td>\n",
       "      <td>55.61</td>\n",
       "      <td>38.430</td>\n",
       "      <td>10670678640</td>\n",
       "      <td>0.000000e+00</td>\n",
       "      <td>3.794579</td>\n",
       "      <td>1.42</td>\n",
       "      <td>http://www.sec.gov/cgi-bin/browse-edgar?action...</td>\n",
       "    </tr>\n",
       "    <tr>\n",
       "      <th>504</th>\n",
       "      <td>ZTS</td>\n",
       "      <td>Zoetis</td>\n",
       "      <td>Health Care</td>\n",
       "      <td>71.51</td>\n",
       "      <td>32.80</td>\n",
       "      <td>0.682372</td>\n",
       "      <td>1.65</td>\n",
       "      <td>80.13</td>\n",
       "      <td>52.000</td>\n",
       "      <td>35991109776</td>\n",
       "      <td>1.734000e+09</td>\n",
       "      <td>9.280896</td>\n",
       "      <td>18.09</td>\n",
       "      <td>http://www.sec.gov/cgi-bin/browse-edgar?action...</td>\n",
       "    </tr>\n",
       "  </tbody>\n",
       "</table>\n",
       "<p>505 rows × 14 columns</p>\n",
       "</div>"
      ],
      "text/plain": [
       "    Symbol                    Name                  Sector   Price  \\\n",
       "0      MMM              3M Company             Industrials  222.89   \n",
       "1      AOS         A.O. Smith Corp             Industrials   60.24   \n",
       "2      ABT     Abbott Laboratories             Health Care   56.27   \n",
       "3     ABBV             AbbVie Inc.             Health Care  108.48   \n",
       "4      ACN           Accenture plc  Information Technology  150.51   \n",
       "..     ...                     ...                     ...     ...   \n",
       "500    XYL              Xylem Inc.             Industrials   70.24   \n",
       "501    YUM         Yum! Brands Inc  Consumer Discretionary   76.30   \n",
       "502    ZBH  Zimmer Biomet Holdings             Health Care  115.53   \n",
       "503   ZION           Zions Bancorp              Financials   50.71   \n",
       "504    ZTS                  Zoetis             Health Care   71.51   \n",
       "\n",
       "     Price/Earnings  Dividend Yield  Earnings/Share  52 Week Low  \\\n",
       "0             24.31        2.332862            7.92       259.77   \n",
       "1             27.76        1.147959            1.70        68.39   \n",
       "2             22.51        1.908982            0.26        64.60   \n",
       "3             19.41        2.499560            3.29       125.86   \n",
       "4             25.47        1.714470            5.44       162.60   \n",
       "..              ...             ...             ...          ...   \n",
       "500           30.94        1.170079            1.83        76.81   \n",
       "501           27.25        1.797080            4.07        86.93   \n",
       "502           14.32        0.794834            9.01       133.49   \n",
       "503           17.73        1.480933            2.60        55.61   \n",
       "504           32.80        0.682372            1.65        80.13   \n",
       "\n",
       "     52 Week High    Market Cap        EBITDA  Price/Sales  Price/Book  \\\n",
       "0         175.490  138721055226  9.048000e+09     4.390271       11.34   \n",
       "1          48.925   10783419933  6.010000e+08     3.575483        6.35   \n",
       "2          42.280  102121042306  5.744000e+09     3.740480        3.19   \n",
       "3          60.050  181386347059  1.031000e+10     6.291571       26.14   \n",
       "4         114.820   98765855553  5.643228e+09     2.604117       10.62   \n",
       "..            ...           ...           ...          ...         ...   \n",
       "500        46.860   12915021000  7.220000e+08     2.726209        5.31   \n",
       "501        62.850   27003303098  2.289000e+09     6.313636      212.08   \n",
       "502       108.170   24454698119  2.007400e+09     3.164895        2.39   \n",
       "503        38.430   10670678640  0.000000e+00     3.794579        1.42   \n",
       "504        52.000   35991109776  1.734000e+09     9.280896       18.09   \n",
       "\n",
       "                                           SEC Filings  \n",
       "0    http://www.sec.gov/cgi-bin/browse-edgar?action...  \n",
       "1    http://www.sec.gov/cgi-bin/browse-edgar?action...  \n",
       "2    http://www.sec.gov/cgi-bin/browse-edgar?action...  \n",
       "3    http://www.sec.gov/cgi-bin/browse-edgar?action...  \n",
       "4    http://www.sec.gov/cgi-bin/browse-edgar?action...  \n",
       "..                                                 ...  \n",
       "500  http://www.sec.gov/cgi-bin/browse-edgar?action...  \n",
       "501  http://www.sec.gov/cgi-bin/browse-edgar?action...  \n",
       "502  http://www.sec.gov/cgi-bin/browse-edgar?action...  \n",
       "503  http://www.sec.gov/cgi-bin/browse-edgar?action...  \n",
       "504  http://www.sec.gov/cgi-bin/browse-edgar?action...  \n",
       "\n",
       "[505 rows x 14 columns]"
      ]
     },
     "execution_count": 8,
     "metadata": {},
     "output_type": "execute_result"
    }
   ],
   "source": [
    "#creating dataframe for S&P 500 COMPANIES DATA\n",
    "data = pd.read_csv(r'/Users/hugo/python_projects/spy_distribution/spy.csv')\n",
    "data = pd.DataFrame(data)\n",
    "data"
   ]
  },
  {
   "attachments": {},
   "cell_type": "markdown",
   "metadata": {},
   "source": [
    "### Cleaning up data\n",
    "Please check where I fill na values in. this is where all the missing values in price/book were turned into 0 integer values. "
   ]
  },
  {
   "cell_type": "code",
   "execution_count": 28,
   "metadata": {},
   "outputs": [
    {
     "name": "stdout",
     "output_type": "stream",
     "text": [
      "<class 'pandas.core.frame.DataFrame'>\n",
      "RangeIndex: 505 entries, 0 to 504\n",
      "Data columns (total 14 columns):\n",
      " #   Column          Non-Null Count  Dtype  \n",
      "---  ------          --------------  -----  \n",
      " 0   symbol          505 non-null    object \n",
      " 1   name            505 non-null    object \n",
      " 2   sector          505 non-null    object \n",
      " 3   price           505 non-null    float64\n",
      " 4   price/earnings  503 non-null    float64\n",
      " 5   dividend yield  505 non-null    float64\n",
      " 6   earnings/share  505 non-null    float64\n",
      " 7   52 week low     505 non-null    float64\n",
      " 8   52 week high    505 non-null    float64\n",
      " 9   market cap      505 non-null    int64  \n",
      " 10  ebitda          505 non-null    float64\n",
      " 11  price/sales     505 non-null    float64\n",
      " 12  price/book      505 non-null    float64\n",
      " 13  sec filings     505 non-null    object \n",
      "dtypes: float64(9), int64(1), object(4)\n",
      "memory usage: 55.4+ KB\n"
     ]
    }
   ],
   "source": [
    "data.info()\n",
    "#need to clean up data \n",
    "\n",
    "#start off by lowercasing all column names\n",
    "data.columns = data.columns.str.lower()\n",
    "\n",
    "#lowercase all values within the sector column \n",
    "data['sector'] = data['sector'].str.lower()\n",
    "\n",
    "# filling all na values in price/book. filling with 0 because\n",
    "# only 5 values and we are not going to use those values anyways\n",
    "data['price/book'] = data['price/book'].fillna(0)"
   ]
  },
  {
   "attachments": {},
   "cell_type": "markdown",
   "metadata": {},
   "source": [
    "### Charts section using px."
   ]
  },
  {
   "cell_type": "code",
   "execution_count": 10,
   "metadata": {},
   "outputs": [
    {
     "data": {
      "application/vnd.plotly.v1+json": {
       "config": {
        "plotlyServerURL": "https://plot.ly"
       },
       "data": [
        {
         "alignmentgroup": "True",
         "hovertemplate": "legend=symbol<br>sector=%{x}<br># of companies=%{y}<extra></extra>",
         "legendgroup": "symbol",
         "marker": {
          "color": "#000001",
          "pattern": {
           "shape": ""
          }
         },
         "name": "symbol",
         "offsetgroup": "symbol",
         "orientation": "v",
         "showlegend": true,
         "textposition": "auto",
         "type": "bar",
         "x": [
          "consumer discretionary",
          "consumer staples",
          "energy",
          "financials",
          "health care",
          "industrials",
          "information technology",
          "materials",
          "real estate",
          "telecommunication services",
          "utilities"
         ],
         "xaxis": "x",
         "y": [
          84,
          34,
          32,
          68,
          61,
          67,
          70,
          25,
          33,
          3,
          28
         ],
         "yaxis": "y"
        }
       ],
       "layout": {
        "barmode": "relative",
        "legend": {
         "title": {
          "text": "legend"
         },
         "tracegroupgap": 0
        },
        "template": {
         "data": {
          "candlestick": [
           {
            "decreasing": {
             "line": {
              "color": "#000033"
             }
            },
            "increasing": {
             "line": {
              "color": "#000032"
             }
            },
            "type": "candlestick"
           }
          ],
          "contour": [
           {
            "colorscale": [
             [
              0,
              "#000011"
             ],
             [
              0.1111111111111111,
              "#000012"
             ],
             [
              0.2222222222222222,
              "#000013"
             ],
             [
              0.3333333333333333,
              "#000014"
             ],
             [
              0.4444444444444444,
              "#000015"
             ],
             [
              0.5555555555555556,
              "#000016"
             ],
             [
              0.6666666666666666,
              "#000017"
             ],
             [
              0.7777777777777778,
              "#000018"
             ],
             [
              0.8888888888888888,
              "#000019"
             ],
             [
              1,
              "#000020"
             ]
            ],
            "type": "contour"
           }
          ],
          "contourcarpet": [
           {
            "colorscale": [
             [
              0,
              "#000011"
             ],
             [
              0.1111111111111111,
              "#000012"
             ],
             [
              0.2222222222222222,
              "#000013"
             ],
             [
              0.3333333333333333,
              "#000014"
             ],
             [
              0.4444444444444444,
              "#000015"
             ],
             [
              0.5555555555555556,
              "#000016"
             ],
             [
              0.6666666666666666,
              "#000017"
             ],
             [
              0.7777777777777778,
              "#000018"
             ],
             [
              0.8888888888888888,
              "#000019"
             ],
             [
              1,
              "#000020"
             ]
            ],
            "type": "contourcarpet"
           }
          ],
          "heatmap": [
           {
            "colorscale": [
             [
              0,
              "#000011"
             ],
             [
              0.1111111111111111,
              "#000012"
             ],
             [
              0.2222222222222222,
              "#000013"
             ],
             [
              0.3333333333333333,
              "#000014"
             ],
             [
              0.4444444444444444,
              "#000015"
             ],
             [
              0.5555555555555556,
              "#000016"
             ],
             [
              0.6666666666666666,
              "#000017"
             ],
             [
              0.7777777777777778,
              "#000018"
             ],
             [
              0.8888888888888888,
              "#000019"
             ],
             [
              1,
              "#000020"
             ]
            ],
            "type": "heatmap"
           }
          ],
          "histogram2d": [
           {
            "colorscale": [
             [
              0,
              "#000011"
             ],
             [
              0.1111111111111111,
              "#000012"
             ],
             [
              0.2222222222222222,
              "#000013"
             ],
             [
              0.3333333333333333,
              "#000014"
             ],
             [
              0.4444444444444444,
              "#000015"
             ],
             [
              0.5555555555555556,
              "#000016"
             ],
             [
              0.6666666666666666,
              "#000017"
             ],
             [
              0.7777777777777778,
              "#000018"
             ],
             [
              0.8888888888888888,
              "#000019"
             ],
             [
              1,
              "#000020"
             ]
            ],
            "type": "histogram2d"
           }
          ],
          "icicle": [
           {
            "textfont": {
             "color": "white"
            },
            "type": "icicle"
           }
          ],
          "sankey": [
           {
            "textfont": {
             "color": "#000036"
            },
            "type": "sankey"
           }
          ],
          "scatter": [
           {
            "marker": {
             "line": {
              "width": 0
             }
            },
            "type": "scatter"
           }
          ],
          "table": [
           {
            "cells": {
             "fill": {
              "color": "#000038"
             },
             "font": {
              "color": "#000037"
             },
             "line": {
              "color": "#000039"
             }
            },
            "header": {
             "fill": {
              "color": "#000040"
             },
             "font": {
              "color": "#000036"
             },
             "line": {
              "color": "#000039"
             }
            },
            "type": "table"
           }
          ],
          "waterfall": [
           {
            "connector": {
             "line": {
              "color": "#000036",
              "width": 2
             }
            },
            "decreasing": {
             "marker": {
              "color": "#000033"
             }
            },
            "increasing": {
             "marker": {
              "color": "#000032"
             }
            },
            "totals": {
             "marker": {
              "color": "#000034"
             }
            },
            "type": "waterfall"
           }
          ]
         },
         "layout": {
          "coloraxis": {
           "colorscale": [
            [
             0,
             "#000011"
            ],
            [
             0.1111111111111111,
             "#000012"
            ],
            [
             0.2222222222222222,
             "#000013"
            ],
            [
             0.3333333333333333,
             "#000014"
            ],
            [
             0.4444444444444444,
             "#000015"
            ],
            [
             0.5555555555555556,
             "#000016"
            ],
            [
             0.6666666666666666,
             "#000017"
            ],
            [
             0.7777777777777778,
             "#000018"
            ],
            [
             0.8888888888888888,
             "#000019"
            ],
            [
             1,
             "#000020"
            ]
           ]
          },
          "colorscale": {
           "diverging": [
            [
             0,
             "#000021"
            ],
            [
             0.1,
             "#000022"
            ],
            [
             0.2,
             "#000023"
            ],
            [
             0.3,
             "#000024"
            ],
            [
             0.4,
             "#000025"
            ],
            [
             0.5,
             "#000026"
            ],
            [
             0.6,
             "#000027"
            ],
            [
             0.7,
             "#000028"
            ],
            [
             0.8,
             "#000029"
            ],
            [
             0.9,
             "#000030"
            ],
            [
             1,
             "#000031"
            ]
           ],
           "sequential": [
            [
             0,
             "#000011"
            ],
            [
             0.1111111111111111,
             "#000012"
            ],
            [
             0.2222222222222222,
             "#000013"
            ],
            [
             0.3333333333333333,
             "#000014"
            ],
            [
             0.4444444444444444,
             "#000015"
            ],
            [
             0.5555555555555556,
             "#000016"
            ],
            [
             0.6666666666666666,
             "#000017"
            ],
            [
             0.7777777777777778,
             "#000018"
            ],
            [
             0.8888888888888888,
             "#000019"
            ],
            [
             1,
             "#000020"
            ]
           ],
           "sequentialminus": [
            [
             0,
             "#000011"
            ],
            [
             0.1111111111111111,
             "#000012"
            ],
            [
             0.2222222222222222,
             "#000013"
            ],
            [
             0.3333333333333333,
             "#000014"
            ],
            [
             0.4444444444444444,
             "#000015"
            ],
            [
             0.5555555555555556,
             "#000016"
            ],
            [
             0.6666666666666666,
             "#000017"
            ],
            [
             0.7777777777777778,
             "#000018"
            ],
            [
             0.8888888888888888,
             "#000019"
            ],
            [
             1,
             "#000020"
            ]
           ]
          },
          "colorway": [
           "#000001",
           "#000002",
           "#000003",
           "#000004",
           "#000005",
           "#000006",
           "#000007",
           "#000008",
           "#000009",
           "#000010"
          ]
         }
        },
        "title": {
         "text": "Distribution of Companies in the S&P500 by Sector"
        },
        "xaxis": {
         "anchor": "y",
         "domain": [
          0,
          1
         ],
         "title": {
          "text": "sector"
         }
        },
        "yaxis": {
         "anchor": "x",
         "domain": [
          0,
          1
         ],
         "title": {
          "text": "# of companies"
         }
        }
       }
      }
     },
     "metadata": {},
     "output_type": "display_data"
    }
   ],
   "source": [
    "#Objective here is to group data by sector and create a bar chart of what types of companies make \n",
    "#up the S&P 500\n",
    "\n",
    "#creating a sectors variable and finding the number of symbols per sector using groupby and .agg \n",
    "sectors = data.groupby('sector').agg({'symbol':'count'}).sort_index(ascending = True)\n",
    "\n",
    "#Using plotly to create a bar chart to chart the number of companies per sector in the S&P 500\n",
    "sector_fig = px.bar(sectors, labels = {'value': '# of companies',\n",
    "                                       'variable':'legend',\n",
    "                                       'symbol':'# of symbols',},\n",
    "                                        title='Distribution of Companies in the S&P500 by Sector')\n",
    "\n",
    "sector_fig.show()\n"
   ]
  },
  {
   "cell_type": "code",
   "execution_count": 11,
   "metadata": {},
   "outputs": [
    {
     "data": {
      "application/vnd.plotly.v1+json": {
       "config": {
        "plotlyServerURL": "https://plot.ly"
       },
       "data": [
        {
         "alignmentgroup": "True",
         "hovertemplate": "Sector=%{x}<br>Market Cap=%{y}<extra></extra>",
         "legendgroup": "",
         "marker": {
          "color": "#000001",
          "pattern": {
           "shape": ""
          }
         },
         "name": "",
         "offsetgroup": "",
         "orientation": "v",
         "showlegend": false,
         "textposition": "auto",
         "type": "bar",
         "x": [
          "consumer discretionary",
          "consumer staples",
          "energy",
          "financials",
          "health care",
          "industrials",
          "information technology",
          "materials",
          "real estate",
          "telecommunication services",
          "utilities"
         ],
         "xaxis": "x",
         "y": [
          38256699372,
          61384599649,
          42416053523,
          50627198012,
          53186213825,
          35993151836,
          96101740013,
          27692010366,
          18948959926,
          151014247968,
          21844022802
         ],
         "yaxis": "y"
        }
       ],
       "layout": {
        "barmode": "relative",
        "legend": {
         "tracegroupgap": 0
        },
        "template": {
         "data": {
          "candlestick": [
           {
            "decreasing": {
             "line": {
              "color": "#000033"
             }
            },
            "increasing": {
             "line": {
              "color": "#000032"
             }
            },
            "type": "candlestick"
           }
          ],
          "contour": [
           {
            "colorscale": [
             [
              0,
              "#000011"
             ],
             [
              0.1111111111111111,
              "#000012"
             ],
             [
              0.2222222222222222,
              "#000013"
             ],
             [
              0.3333333333333333,
              "#000014"
             ],
             [
              0.4444444444444444,
              "#000015"
             ],
             [
              0.5555555555555556,
              "#000016"
             ],
             [
              0.6666666666666666,
              "#000017"
             ],
             [
              0.7777777777777778,
              "#000018"
             ],
             [
              0.8888888888888888,
              "#000019"
             ],
             [
              1,
              "#000020"
             ]
            ],
            "type": "contour"
           }
          ],
          "contourcarpet": [
           {
            "colorscale": [
             [
              0,
              "#000011"
             ],
             [
              0.1111111111111111,
              "#000012"
             ],
             [
              0.2222222222222222,
              "#000013"
             ],
             [
              0.3333333333333333,
              "#000014"
             ],
             [
              0.4444444444444444,
              "#000015"
             ],
             [
              0.5555555555555556,
              "#000016"
             ],
             [
              0.6666666666666666,
              "#000017"
             ],
             [
              0.7777777777777778,
              "#000018"
             ],
             [
              0.8888888888888888,
              "#000019"
             ],
             [
              1,
              "#000020"
             ]
            ],
            "type": "contourcarpet"
           }
          ],
          "heatmap": [
           {
            "colorscale": [
             [
              0,
              "#000011"
             ],
             [
              0.1111111111111111,
              "#000012"
             ],
             [
              0.2222222222222222,
              "#000013"
             ],
             [
              0.3333333333333333,
              "#000014"
             ],
             [
              0.4444444444444444,
              "#000015"
             ],
             [
              0.5555555555555556,
              "#000016"
             ],
             [
              0.6666666666666666,
              "#000017"
             ],
             [
              0.7777777777777778,
              "#000018"
             ],
             [
              0.8888888888888888,
              "#000019"
             ],
             [
              1,
              "#000020"
             ]
            ],
            "type": "heatmap"
           }
          ],
          "histogram2d": [
           {
            "colorscale": [
             [
              0,
              "#000011"
             ],
             [
              0.1111111111111111,
              "#000012"
             ],
             [
              0.2222222222222222,
              "#000013"
             ],
             [
              0.3333333333333333,
              "#000014"
             ],
             [
              0.4444444444444444,
              "#000015"
             ],
             [
              0.5555555555555556,
              "#000016"
             ],
             [
              0.6666666666666666,
              "#000017"
             ],
             [
              0.7777777777777778,
              "#000018"
             ],
             [
              0.8888888888888888,
              "#000019"
             ],
             [
              1,
              "#000020"
             ]
            ],
            "type": "histogram2d"
           }
          ],
          "icicle": [
           {
            "textfont": {
             "color": "white"
            },
            "type": "icicle"
           }
          ],
          "sankey": [
           {
            "textfont": {
             "color": "#000036"
            },
            "type": "sankey"
           }
          ],
          "scatter": [
           {
            "marker": {
             "line": {
              "width": 0
             }
            },
            "type": "scatter"
           }
          ],
          "table": [
           {
            "cells": {
             "fill": {
              "color": "#000038"
             },
             "font": {
              "color": "#000037"
             },
             "line": {
              "color": "#000039"
             }
            },
            "header": {
             "fill": {
              "color": "#000040"
             },
             "font": {
              "color": "#000036"
             },
             "line": {
              "color": "#000039"
             }
            },
            "type": "table"
           }
          ],
          "waterfall": [
           {
            "connector": {
             "line": {
              "color": "#000036",
              "width": 2
             }
            },
            "decreasing": {
             "marker": {
              "color": "#000033"
             }
            },
            "increasing": {
             "marker": {
              "color": "#000032"
             }
            },
            "totals": {
             "marker": {
              "color": "#000034"
             }
            },
            "type": "waterfall"
           }
          ]
         },
         "layout": {
          "coloraxis": {
           "colorscale": [
            [
             0,
             "#000011"
            ],
            [
             0.1111111111111111,
             "#000012"
            ],
            [
             0.2222222222222222,
             "#000013"
            ],
            [
             0.3333333333333333,
             "#000014"
            ],
            [
             0.4444444444444444,
             "#000015"
            ],
            [
             0.5555555555555556,
             "#000016"
            ],
            [
             0.6666666666666666,
             "#000017"
            ],
            [
             0.7777777777777778,
             "#000018"
            ],
            [
             0.8888888888888888,
             "#000019"
            ],
            [
             1,
             "#000020"
            ]
           ]
          },
          "colorscale": {
           "diverging": [
            [
             0,
             "#000021"
            ],
            [
             0.1,
             "#000022"
            ],
            [
             0.2,
             "#000023"
            ],
            [
             0.3,
             "#000024"
            ],
            [
             0.4,
             "#000025"
            ],
            [
             0.5,
             "#000026"
            ],
            [
             0.6,
             "#000027"
            ],
            [
             0.7,
             "#000028"
            ],
            [
             0.8,
             "#000029"
            ],
            [
             0.9,
             "#000030"
            ],
            [
             1,
             "#000031"
            ]
           ],
           "sequential": [
            [
             0,
             "#000011"
            ],
            [
             0.1111111111111111,
             "#000012"
            ],
            [
             0.2222222222222222,
             "#000013"
            ],
            [
             0.3333333333333333,
             "#000014"
            ],
            [
             0.4444444444444444,
             "#000015"
            ],
            [
             0.5555555555555556,
             "#000016"
            ],
            [
             0.6666666666666666,
             "#000017"
            ],
            [
             0.7777777777777778,
             "#000018"
            ],
            [
             0.8888888888888888,
             "#000019"
            ],
            [
             1,
             "#000020"
            ]
           ],
           "sequentialminus": [
            [
             0,
             "#000011"
            ],
            [
             0.1111111111111111,
             "#000012"
            ],
            [
             0.2222222222222222,
             "#000013"
            ],
            [
             0.3333333333333333,
             "#000014"
            ],
            [
             0.4444444444444444,
             "#000015"
            ],
            [
             0.5555555555555556,
             "#000016"
            ],
            [
             0.6666666666666666,
             "#000017"
            ],
            [
             0.7777777777777778,
             "#000018"
            ],
            [
             0.8888888888888888,
             "#000019"
            ],
            [
             1,
             "#000020"
            ]
           ]
          },
          "colorway": [
           "#000001",
           "#000002",
           "#000003",
           "#000004",
           "#000005",
           "#000006",
           "#000007",
           "#000008",
           "#000009",
           "#000010"
          ]
         }
        },
        "title": {
         "text": "Average Stock Market Cap of Each Sector"
        },
        "xaxis": {
         "anchor": "y",
         "domain": [
          0,
          1
         ],
         "title": {
          "text": "Sector"
         }
        },
        "yaxis": {
         "anchor": "x",
         "domain": [
          0,
          1
         ],
         "title": {
          "text": "Market Cap"
         }
        }
       }
      }
     },
     "metadata": {},
     "output_type": "display_data"
    }
   ],
   "source": [
    "\n",
    "#For 2nd chart, I will calculate the average market cap for each sector\n",
    "#to do this, i will group by sector and then calculate the mean values for each market cap\n",
    "\n",
    "#for some reason, finding the mean didnt work and gave me a higher number as a result. so resorted \n",
    "#to a different method to find the average market cap for each sector. \n",
    "\n",
    "#defining the sum() and count() of each market cap so I can divide them to get the average mkt cap.\n",
    "x = data.groupby('sector')['market cap'].count()\n",
    "y = data.groupby('sector')['market cap'].sum()\n",
    "\n",
    "# creating a new merged dataframe for x and y \n",
    "mean_market_cap = pd.merge(x, y, left_index=True, right_index=True)\n",
    "#\n",
    "mean_market_cap['average_cap'] = mean_market_cap['market cap_y']//mean_market_cap['market cap_x']\n",
    "\n",
    "avg_cap_fig = px.bar(mean_market_cap, y='average_cap',\n",
    "                    labels= {'average_cap':'Market Cap', \n",
    "                            'sector': 'Sector'},\n",
    "                    title = 'Average Stock Market Cap of Each Sector')\n",
    "avg_cap_fig.show()"
   ]
  },
  {
   "cell_type": "code",
   "execution_count": null,
   "metadata": {},
   "outputs": [],
   "source": []
  },
  {
   "cell_type": "code",
   "execution_count": null,
   "metadata": {},
   "outputs": [],
   "source": []
  },
  {
   "cell_type": "code",
   "execution_count": 12,
   "metadata": {},
   "outputs": [
    {
     "data": {
      "application/vnd.plotly.v1+json": {
       "config": {
        "plotlyServerURL": "https://plot.ly"
       },
       "data": [
        {
         "alignmentgroup": "True",
         "bingroup": "x",
         "hovertemplate": "Sector=%{x}<br>count=%{y}<extra></extra>",
         "legendgroup": "",
         "marker": {
          "color": "#000001",
          "pattern": {
           "shape": ""
          }
         },
         "name": "",
         "offsetgroup": "",
         "orientation": "v",
         "showlegend": false,
         "type": "histogram",
         "x": [
          "industrials",
          "industrials",
          "health care",
          "health care",
          "information technology",
          "information technology",
          "industrials",
          "information technology",
          "consumer discretionary",
          "information technology",
          "utilities",
          "health care",
          "financials",
          "financials",
          "health care",
          "materials",
          "information technology",
          "industrials",
          "materials",
          "real estate",
          "health care",
          "health care",
          "industrials",
          "health care",
          "information technology",
          "utilities",
          "financials",
          "information technology",
          "information technology",
          "consumer staples",
          "consumer discretionary",
          "utilities",
          "industrials",
          "utilities",
          "financials",
          "financials",
          "real estate",
          "utilities",
          "financials",
          "health care",
          "industrials",
          "health care",
          "information technology",
          "energy",
          "information technology",
          "energy",
          "information technology",
          "health care",
          "financials",
          "energy",
          "real estate",
          "information technology",
          "information technology",
          "consumer discretionary",
          "consumer staples",
          "industrials",
          "financials",
          "financials",
          "telecommunication services",
          "information technology",
          "information technology",
          "consumer discretionary",
          "real estate",
          "materials",
          "energy",
          "materials",
          "financials",
          "health care",
          "financials",
          "health care",
          "financials",
          "consumer discretionary",
          "health care",
          "financials",
          "financials",
          "industrials",
          "consumer discretionary",
          "real estate",
          "health care",
          "financials",
          "health care",
          "information technology",
          "consumer staples",
          "industrials",
          "information technology",
          "energy",
          "information technology",
          "consumer staples",
          "financials",
          "health care",
          "consumer discretionary",
          "consumer discretionary",
          "industrials",
          "financials",
          "real estate",
          "consumer discretionary",
          "health care",
          "health care",
          "utilities",
          "telecommunication services",
          "health care",
          "materials",
          "financials",
          "consumer discretionary",
          "energy",
          "energy",
          "consumer discretionary",
          "financials",
          "consumer staples",
          "health care",
          "energy",
          "financials",
          "industrials",
          "information technology",
          "financials",
          "financials",
          "information technology",
          "financials",
          "utilities",
          "consumer staples",
          "information technology",
          "consumer staples",
          "consumer discretionary",
          "financials",
          "consumer staples",
          "energy",
          "energy",
          "utilities",
          "consumer staples",
          "information technology",
          "consumer staples",
          "consumer staples",
          "real estate",
          "information technology",
          "industrials",
          "industrials",
          "consumer staples",
          "consumer discretionary",
          "health care",
          "consumer discretionary",
          "health care",
          "industrials",
          "industrials",
          "health care",
          "energy",
          "real estate",
          "financials",
          "consumer discretionary",
          "consumer discretionary",
          "consumer discretionary",
          "consumer discretionary",
          "consumer discretionary",
          "utilities",
          "industrials",
          "materials",
          "consumer staples",
          "utilities",
          "utilities",
          "real estate",
          "information technology",
          "financials",
          "materials",
          "industrials",
          "information technology",
          "materials",
          "utilities",
          "health care",
          "information technology",
          "industrials",
          "utilities",
          "health care",
          "energy",
          "energy",
          "industrials",
          "real estate",
          "real estate",
          "real estate",
          "consumer staples",
          "financials",
          "utilities",
          "utilities",
          "consumer discretionary",
          "industrials",
          "health care",
          "real estate",
          "energy",
          "information technology",
          "information technology",
          "industrials",
          "real estate",
          "industrials",
          "information technology",
          "financials",
          "utilities",
          "information technology",
          "information technology",
          "industrials",
          "industrials",
          "materials",
          "consumer discretionary",
          "consumer discretionary",
          "industrials",
          "industrials",
          "financials",
          "materials",
          "consumer discretionary",
          "consumer discretionary",
          "information technology",
          "industrials",
          "industrials",
          "real estate",
          "consumer staples",
          "consumer discretionary",
          "consumer discretionary",
          "health care",
          "information technology",
          "financials",
          "consumer discretionary",
          "industrials",
          "energy",
          "consumer discretionary",
          "consumer discretionary",
          "information technology",
          "financials",
          "consumer discretionary",
          "health care",
          "real estate",
          "energy",
          "health care",
          "energy",
          "information technology",
          "consumer discretionary",
          "health care",
          "consumer discretionary",
          "industrials",
          "consumer staples",
          "real estate",
          "information technology",
          "health care",
          "financials",
          "industrials",
          "health care",
          "industrials",
          "industrials",
          "health care",
          "health care",
          "industrials",
          "information technology",
          "financials",
          "information technology",
          "materials",
          "consumer discretionary",
          "materials",
          "information technology",
          "health care",
          "financials",
          "health care",
          "real estate",
          "industrials",
          "industrials",
          "consumer staples",
          "health care",
          "industrials",
          "financials",
          "information technology",
          "industrials",
          "consumer staples",
          "financials",
          "consumer staples",
          "real estate",
          "energy",
          "information technology",
          "consumer discretionary",
          "consumer staples",
          "consumer staples",
          "consumer discretionary",
          "industrials",
          "health care",
          "information technology",
          "consumer discretionary",
          "consumer discretionary",
          "financials",
          "health care",
          "financials",
          "consumer discretionary",
          "industrials",
          "financials",
          "consumer discretionary",
          "materials",
          "financials",
          "real estate",
          "consumer discretionary",
          "energy",
          "energy",
          "consumer discretionary",
          "financials",
          "materials",
          "industrials",
          "information technology",
          "consumer discretionary",
          "consumer staples",
          "consumer discretionary",
          "health care",
          "health care",
          "health care",
          "financials",
          "health care",
          "consumer discretionary",
          "consumer discretionary",
          "information technology",
          "information technology",
          "information technology",
          "real estate",
          "consumer discretionary",
          "consumer staples",
          "consumer staples",
          "materials",
          "consumer staples",
          "financials",
          "financials",
          "information technology",
          "health care",
          "financials",
          "energy",
          "financials",
          "information technology",
          "information technology",
          "consumer discretionary",
          "energy",
          "materials",
          "consumer discretionary",
          "consumer discretionary",
          "utilities",
          "industrials",
          "consumer discretionary",
          "utilities",
          "energy",
          "consumer discretionary",
          "industrials",
          "financials",
          "industrials",
          "consumer discretionary",
          "utilities",
          "materials",
          "information technology",
          "consumer discretionary",
          "energy",
          "consumer discretionary",
          "energy",
          "information technology",
          "industrials",
          "materials",
          "industrials",
          "health care",
          "information technology",
          "information technology",
          "industrials",
          "financials",
          "consumer staples",
          "health care",
          "health care",
          "health care",
          "utilities",
          "consumer staples",
          "energy",
          "utilities",
          "energy",
          "financials",
          "consumer discretionary",
          "materials",
          "utilities",
          "materials",
          "consumer discretionary",
          "financials",
          "consumer staples",
          "financials",
          "real estate",
          "financials",
          "utilities",
          "real estate",
          "consumer discretionary",
          "consumer discretionary",
          "information technology",
          "information technology",
          "industrials",
          "health care",
          "energy",
          "financials",
          "industrials",
          "real estate",
          "information technology",
          "real estate",
          "health care",
          "financials",
          "industrials",
          "health care",
          "industrials",
          "industrials",
          "industrials",
          "industrials",
          "consumer discretionary",
          "consumer discretionary",
          "financials",
          "information technology",
          "real estate",
          "utilities",
          "energy",
          "consumer discretionary",
          "information technology",
          "materials",
          "utilities",
          "materials",
          "consumer discretionary",
          "real estate",
          "information technology",
          "real estate",
          "consumer discretionary",
          "utilities",
          "industrials",
          "consumer discretionary",
          "consumer discretionary",
          "financials",
          "industrials",
          "health care",
          "financials",
          "information technology",
          "financials",
          "information technology",
          "consumer staples",
          "financials",
          "consumer discretionary",
          "consumer discretionary",
          "information technology",
          "energy",
          "information technology",
          "industrials",
          "financials",
          "consumer staples",
          "health care",
          "consumer staples",
          "materials",
          "financials",
          "consumer discretionary",
          "health care",
          "consumer discretionary",
          "consumer discretionary",
          "consumer discretionary",
          "financials",
          "information technology",
          "consumer discretionary",
          "industrials",
          "consumer discretionary",
          "consumer discretionary",
          "consumer discretionary",
          "consumer staples",
          "financials",
          "real estate",
          "consumer discretionary",
          "consumer discretionary",
          "consumer discretionary",
          "industrials",
          "industrials",
          "health care",
          "industrials",
          "industrials",
          "industrials",
          "health care",
          "financials",
          "consumer discretionary",
          "energy",
          "health care",
          "real estate",
          "information technology",
          "industrials",
          "telecommunication services",
          "health care",
          "consumer discretionary",
          "information technology",
          "real estate",
          "materials",
          "consumer staples",
          "consumer staples",
          "industrials",
          "health care",
          "utilities",
          "financials",
          "real estate",
          "information technology",
          "information technology",
          "materials",
          "real estate",
          "consumer discretionary",
          "energy",
          "financials",
          "consumer discretionary",
          "consumer discretionary",
          "utilities",
          "information technology",
          "information technology",
          "financials",
          "industrials",
          "consumer discretionary",
          "health care",
          "financials",
          "health care"
         ],
         "xaxis": "x",
         "yaxis": "y"
        }
       ],
       "layout": {
        "barmode": "relative",
        "legend": {
         "tracegroupgap": 0
        },
        "template": {
         "data": {
          "candlestick": [
           {
            "decreasing": {
             "line": {
              "color": "#000033"
             }
            },
            "increasing": {
             "line": {
              "color": "#000032"
             }
            },
            "type": "candlestick"
           }
          ],
          "contour": [
           {
            "colorscale": [
             [
              0,
              "#000011"
             ],
             [
              0.1111111111111111,
              "#000012"
             ],
             [
              0.2222222222222222,
              "#000013"
             ],
             [
              0.3333333333333333,
              "#000014"
             ],
             [
              0.4444444444444444,
              "#000015"
             ],
             [
              0.5555555555555556,
              "#000016"
             ],
             [
              0.6666666666666666,
              "#000017"
             ],
             [
              0.7777777777777778,
              "#000018"
             ],
             [
              0.8888888888888888,
              "#000019"
             ],
             [
              1,
              "#000020"
             ]
            ],
            "type": "contour"
           }
          ],
          "contourcarpet": [
           {
            "colorscale": [
             [
              0,
              "#000011"
             ],
             [
              0.1111111111111111,
              "#000012"
             ],
             [
              0.2222222222222222,
              "#000013"
             ],
             [
              0.3333333333333333,
              "#000014"
             ],
             [
              0.4444444444444444,
              "#000015"
             ],
             [
              0.5555555555555556,
              "#000016"
             ],
             [
              0.6666666666666666,
              "#000017"
             ],
             [
              0.7777777777777778,
              "#000018"
             ],
             [
              0.8888888888888888,
              "#000019"
             ],
             [
              1,
              "#000020"
             ]
            ],
            "type": "contourcarpet"
           }
          ],
          "heatmap": [
           {
            "colorscale": [
             [
              0,
              "#000011"
             ],
             [
              0.1111111111111111,
              "#000012"
             ],
             [
              0.2222222222222222,
              "#000013"
             ],
             [
              0.3333333333333333,
              "#000014"
             ],
             [
              0.4444444444444444,
              "#000015"
             ],
             [
              0.5555555555555556,
              "#000016"
             ],
             [
              0.6666666666666666,
              "#000017"
             ],
             [
              0.7777777777777778,
              "#000018"
             ],
             [
              0.8888888888888888,
              "#000019"
             ],
             [
              1,
              "#000020"
             ]
            ],
            "type": "heatmap"
           }
          ],
          "histogram2d": [
           {
            "colorscale": [
             [
              0,
              "#000011"
             ],
             [
              0.1111111111111111,
              "#000012"
             ],
             [
              0.2222222222222222,
              "#000013"
             ],
             [
              0.3333333333333333,
              "#000014"
             ],
             [
              0.4444444444444444,
              "#000015"
             ],
             [
              0.5555555555555556,
              "#000016"
             ],
             [
              0.6666666666666666,
              "#000017"
             ],
             [
              0.7777777777777778,
              "#000018"
             ],
             [
              0.8888888888888888,
              "#000019"
             ],
             [
              1,
              "#000020"
             ]
            ],
            "type": "histogram2d"
           }
          ],
          "icicle": [
           {
            "textfont": {
             "color": "white"
            },
            "type": "icicle"
           }
          ],
          "sankey": [
           {
            "textfont": {
             "color": "#000036"
            },
            "type": "sankey"
           }
          ],
          "scatter": [
           {
            "marker": {
             "line": {
              "width": 0
             }
            },
            "type": "scatter"
           }
          ],
          "table": [
           {
            "cells": {
             "fill": {
              "color": "#000038"
             },
             "font": {
              "color": "#000037"
             },
             "line": {
              "color": "#000039"
             }
            },
            "header": {
             "fill": {
              "color": "#000040"
             },
             "font": {
              "color": "#000036"
             },
             "line": {
              "color": "#000039"
             }
            },
            "type": "table"
           }
          ],
          "waterfall": [
           {
            "connector": {
             "line": {
              "color": "#000036",
              "width": 2
             }
            },
            "decreasing": {
             "marker": {
              "color": "#000033"
             }
            },
            "increasing": {
             "marker": {
              "color": "#000032"
             }
            },
            "totals": {
             "marker": {
              "color": "#000034"
             }
            },
            "type": "waterfall"
           }
          ]
         },
         "layout": {
          "coloraxis": {
           "colorscale": [
            [
             0,
             "#000011"
            ],
            [
             0.1111111111111111,
             "#000012"
            ],
            [
             0.2222222222222222,
             "#000013"
            ],
            [
             0.3333333333333333,
             "#000014"
            ],
            [
             0.4444444444444444,
             "#000015"
            ],
            [
             0.5555555555555556,
             "#000016"
            ],
            [
             0.6666666666666666,
             "#000017"
            ],
            [
             0.7777777777777778,
             "#000018"
            ],
            [
             0.8888888888888888,
             "#000019"
            ],
            [
             1,
             "#000020"
            ]
           ]
          },
          "colorscale": {
           "diverging": [
            [
             0,
             "#000021"
            ],
            [
             0.1,
             "#000022"
            ],
            [
             0.2,
             "#000023"
            ],
            [
             0.3,
             "#000024"
            ],
            [
             0.4,
             "#000025"
            ],
            [
             0.5,
             "#000026"
            ],
            [
             0.6,
             "#000027"
            ],
            [
             0.7,
             "#000028"
            ],
            [
             0.8,
             "#000029"
            ],
            [
             0.9,
             "#000030"
            ],
            [
             1,
             "#000031"
            ]
           ],
           "sequential": [
            [
             0,
             "#000011"
            ],
            [
             0.1111111111111111,
             "#000012"
            ],
            [
             0.2222222222222222,
             "#000013"
            ],
            [
             0.3333333333333333,
             "#000014"
            ],
            [
             0.4444444444444444,
             "#000015"
            ],
            [
             0.5555555555555556,
             "#000016"
            ],
            [
             0.6666666666666666,
             "#000017"
            ],
            [
             0.7777777777777778,
             "#000018"
            ],
            [
             0.8888888888888888,
             "#000019"
            ],
            [
             1,
             "#000020"
            ]
           ],
           "sequentialminus": [
            [
             0,
             "#000011"
            ],
            [
             0.1111111111111111,
             "#000012"
            ],
            [
             0.2222222222222222,
             "#000013"
            ],
            [
             0.3333333333333333,
             "#000014"
            ],
            [
             0.4444444444444444,
             "#000015"
            ],
            [
             0.5555555555555556,
             "#000016"
            ],
            [
             0.6666666666666666,
             "#000017"
            ],
            [
             0.7777777777777778,
             "#000018"
            ],
            [
             0.8888888888888888,
             "#000019"
            ],
            [
             1,
             "#000020"
            ]
           ]
          },
          "colorway": [
           "#000001",
           "#000002",
           "#000003",
           "#000004",
           "#000005",
           "#000006",
           "#000007",
           "#000008",
           "#000009",
           "#000010"
          ]
         }
        },
        "title": {
         "text": "Number of Companies per Sector in the S&p 500"
        },
        "xaxis": {
         "anchor": "y",
         "domain": [
          0,
          1
         ],
         "title": {
          "text": "Sector"
         }
        },
        "yaxis": {
         "anchor": "x",
         "domain": [
          0,
          1
         ],
         "title": {
          "text": "count"
         }
        }
       }
      }
     },
     "metadata": {},
     "output_type": "display_data"
    }
   ],
   "source": [
    "#creating a histogram based on number of companies per sector in the S&P\n",
    "#this data is exactly the same as the bar chart but since the project requirement is to create a \n",
    "#hist, i will create it again but using hist method\n",
    "sector_histogram = px.histogram(data, x='sector',\n",
    "                    labels= {'count':'Number of Companies', \n",
    "                            'sector': 'Sector'},\n",
    "                    title = 'Number of Companies per Sector in the S&p 500')\n",
    "sector_histogram.show()"
   ]
  },
  {
   "cell_type": "code",
   "execution_count": 13,
   "metadata": {},
   "outputs": [
    {
     "data": {
      "application/vnd.plotly.v1+json": {
       "config": {
        "plotlyServerURL": "https://plot.ly"
       },
       "data": [
        {
         "hovertemplate": "Price=%{x}<br>Market Cap=%{y}<extra></extra>",
         "legendgroup": "",
         "marker": {
          "color": "#000001",
          "opacity": 0.7,
          "symbol": "circle"
         },
         "mode": "markers",
         "name": "",
         "orientation": "v",
         "showlegend": false,
         "type": "scatter",
         "x": [
          222.89,
          60.24,
          56.27,
          108.48,
          150.51,
          65.83,
          145.41,
          185.16,
          109.63,
          11.22,
          10.06,
          178,
          179.11,
          83.25,
          65.05,
          152.8,
          62.49,
          64.04,
          105.18,
          114.58,
          108.47,
          220.71,
          77.32,
          164.2,
          240.6,
          37.14,
          90.06,
          1007.71,
          1001.52,
          64.05,
          1350.5,
          52.59,
          48.6,
          63.38,
          88.34,
          58.28,
          133.57,
          76.06,
          152.5,
          91.55,
          72.05,
          173.12,
          84.44,
          56.2,
          82.68,
          96.9,
          148.84,
          230.57,
          136.05,
          37.73,
          38.21,
          155.15,
          45.75,
          89.27,
          41.35,
          24.45,
          64.4,
          85.16,
          35.57,
          104.81,
          108.25,
          718.57,
          154.94,
          110.77,
          27.5,
          38.44,
          29.74,
          62.56,
          51.07,
          211.44,
          191.42,
          68.79,
          311.79,
          509.38,
          25.19,
          329.66,
          51.94,
          112.09,
          25.2,
          55.44,
          62.69,
          229.57,
          63.33,
          90.47,
          32.66,
          23.01,
          36.82,
          44.83,
          91.8,
          66.63,
          64.34,
          66.76,
          145.99,
          111.15,
          41.92,
          51.8,
          91.02,
          100.36,
          25.85,
          16.2,
          61.22,
          37.46,
          48.9,
          348.65,
          2.82,
          112.3,
          266.01,
          140.39,
          47.38,
          189.27,
          100.19,
          70.34,
          149.32,
          38.77,
          71.87,
          42.19,
          84.53,
          153.04,
          41.77,
          43.1,
          75.16,
          68.95,
          38.19,
          89.18,
          35.49,
          140.09,
          53.24,
          74.73,
          208.73,
          28.45,
          178.61,
          19.96,
          103.81,
          30.85,
          50.47,
          165.73,
          70.55,
          44.55,
          92.16,
          91.33,
          71.91,
          153.66,
          51.23,
          56.85,
          34.94,
          98.96,
          72.4,
          22.87,
          21.58,
          43.77,
          95.1,
          101.58,
          73.31,
          96.2,
          68.21,
          116.93,
          98.49,
          74.32,
          24.52,
          91.92,
          48.48,
          93.57,
          79.41,
          41.02,
          127.76,
          58.07,
          123.78,
          116.54,
          66.4,
          72.02,
          35.34,
          101.04,
          46.25,
          114,
          409.98,
          55.26,
          218.28,
          131.46,
          241.06,
          56.11,
          35.98,
          123.03,
          60.36,
          73.35,
          77.56,
          76.07,
          137.25,
          171.58,
          52.15,
          108.11,
          239.27,
          92.74,
          31.1,
          30.64,
          133.05,
          46.46,
          40.82,
          55.31,
          80.87,
          45.88,
          10.43,
          69.14,
          62.44,
          38,
          17.16,
          31.17,
          61.13,
          114.26,
          206.05,
          14.45,
          21.62,
          53.99,
          40.75,
          96.31,
          78.22,
          100.59,
          246.35,
          30.75,
          258.6,
          47.41,
          19.57,
          47.54,
          149.84,
          53.34,
          96.48,
          95.97,
          22.64,
          64.87,
          70.85,
          43,
          15.04,
          78.66,
          38.8,
          181.22,
          146.02,
          32.21,
          18.75,
          19.92,
          262.37,
          15.1,
          225.37,
          169.28,
          43.73,
          156.15,
          209.54,
          83.92,
          87.6,
          42.75,
          67,
          147.59,
          56.05,
          21.34,
          138,
          152.75,
          381.87,
          31.92,
          95.23,
          32.07,
          114.81,
          62.82,
          118.37,
          126.36,
          36.55,
          107.88,
          24.66,
          103.53,
          65.98,
          20.08,
          111.69,
          14.01,
          16.8,
          98.54,
          60.34,
          71.58,
          27.57,
          47.77,
          198.79,
          165.46,
          162.23,
          43.99,
          59.11,
          23.86,
          74.21,
          73.86,
          38.86,
          334.3,
          46.05,
          95.01,
          105.79,
          178.35,
          58.36,
          24,
          15.68,
          62.79,
          133.88,
          79.31,
          208.42,
          40.7,
          160.62,
          16,
          101.36,
          158.97,
          150.23,
          78.38,
          54.73,
          44.28,
          601,
          33.5,
          60.03,
          79.9,
          40,
          85.01,
          85.39,
          256.57,
          74.51,
          42.68,
          119.08,
          61.99,
          152.14,
          51.79,
          98.74,
          39.25,
          75.21,
          32.64,
          13.38,
          55.85,
          250.1,
          27.91,
          26.38,
          36.61,
          15.65,
          15.85,
          145.29,
          33.9,
          62.49,
          22.51,
          25.43,
          47.23,
          136.89,
          96.2,
          324.01,
          56.01,
          24,
          60.38,
          217.52,
          252.22,
          68.47,
          75.91,
          54.4,
          46.84,
          66.98,
          111.95,
          174.51,
          32.88,
          61.86,
          72.32,
          66.67,
          18.56,
          110.15,
          72.06,
          84.44,
          33.63,
          38.24,
          100.39,
          92.44,
          74.34,
          169.16,
          149.38,
          101.32,
          110.3,
          29.52,
          144.07,
          1806.06,
          60.38,
          80.22,
          51.07,
          58.33,
          103.38,
          46.73,
          180.49,
          28.67,
          142.68,
          76.85,
          62.42,
          33.51,
          96.42,
          12.82,
          86.06,
          198.74,
          47.56,
          124.65,
          55.58,
          322.62,
          17.9,
          62.72,
          89.26,
          52.26,
          178.73,
          133.31,
          259.4,
          75.06,
          122.45,
          173.31,
          104.03,
          159.85,
          35.6,
          67.4,
          86.46,
          47.44,
          42.62,
          103.36,
          387.65,
          49.38,
          152.18,
          99.04,
          90.61,
          156.72,
          43.4,
          55.63,
          152.86,
          53.77,
          98.54,
          70.55,
          148.01,
          65.8,
          25.59,
          34.98,
          82.62,
          57,
          101.99,
          48.85,
          71.11,
          95.27,
          29.1,
          97.66,
          55.54,
          53.29,
          127.76,
          223.17,
          97.65,
          24.13,
          135.01,
          101.35,
          198.73,
          99.62,
          93.02,
          74.36,
          80.52,
          81.17,
          65.94,
          283,
          40.05,
          34.56,
          34.09,
          73.92,
          52.65,
          32.92,
          209.09,
          13.14,
          11.95,
          124.86,
          63.37,
          216.46,
          109.28,
          161.99,
          127.48,
          114.87,
          47.87,
          78.75,
          86.77,
          112.82,
          50.92,
          105.62,
          92.28,
          49.04,
          151.6,
          32.71,
          113.86,
          66.18,
          121.47,
          100.02,
          68.22,
          79.12,
          191.79,
          59.5,
          55.4,
          54.67,
          80.09,
          18.81,
          60.93,
          33.6,
          164.95,
          28.56,
          152.36,
          113.56,
          169.28,
          42.44,
          29.8,
          62.82,
          41.26,
          70.24,
          76.3,
          115.53,
          50.71,
          71.51
         ],
         "xaxis": "x",
         "y": [
          138721055226,
          10783419933,
          102121042306,
          181386347059,
          98765855553,
          52518668144,
          6242377704,
          94550214268,
          8123611867,
          11191663795,
          6920851212,
          59197016353,
          10442174371,
          33422948000,
          21984606918,
          34638387128,
          10906904066,
          7903173734,
          11782151266,
          12043374429,
          26172439795,
          18788041378,
          7599609494,
          56668833898,
          13632608582,
          8670163500,
          34759468905,
          733823966137,
          728535558140,
          126985101434,
          685873374731,
          12905744906,
          24594852352,
          31701916517,
          80410990000,
          54360073164,
          59213892640,
          13906146184,
          23472126000,
          20587704101,
          17139651923,
          128133340000,
          26955335395,
          32129091747,
          31811578855,
          15696449735,
          13155919129,
          61221978627,
          35123123422,
          15066280977,
          6156884142,
          809508034020,
          51296481503,
          24906530300,
          23594770663,
          12123300000,
          11968488290,
          4653993594,
          226713270000,
          24348294504,
          50337702249,
          19922021415,
          21856547430,
          10104814319,
          32995712852,
          13767688518,
          321478200969,
          35713732553,
          42087562920,
          50910180308,
          261401203633,
          20831186176,
          69157726427,
          85907759858,
          5381433872,
          205617405233,
          11596117445,
          17799878487,
          36142506007,
          7066613254,
          102506501960,
          92791974933,
          5498033502,
          12932483889,
          14175422936,
          10808821635,
          10890625200,
          13467193376,
          47637260000,
          20493281175,
          11827453706,
          49180044050,
          91822049046,
          12998295607,
          14440591731,
          20431395736,
          74921079154,
          18012494506,
          11362043297,
          18237196861,
          21101697598,
          9209106695,
          69750188843,
          86708878113,
          2626102121,
          218978820159,
          7685283970,
          68424670566,
          11838963451,
          47680910480,
          10089082025,
          11916533018,
          16676145923,
          199425716482,
          192709302000,
          22008050974,
          13199167493,
          54423298745,
          11873960824,
          189855335601,
          45119684067,
          61616643498,
          186476996883,
          16274969256,
          14379717835,
          22021882339,
          65482462410,
          23335777662,
          41697453163,
          25759280346,
          80439804508,
          13101112504,
          44183023189,
          5134501276,
          47340511707,
          28669230787,
          75323141722,
          17390873686,
          66351150000,
          11745595320,
          13685178000,
          52186628646,
          38393603535,
          13390513478,
          19317380000,
          21400952517,
          27433540000,
          8763756733,
          8320262123,
          21032719056,
          26580644874,
          25151198417,
          47543571860,
          15566645713,
          165203312427,
          21209783858,
          17808073691,
          52078185682,
          9035293365,
          27408621020,
          13754977266,
          14226830813,
          35961772000,
          44216696399,
          38460272282,
          19447670886,
          27447099863,
          37890226992,
          44040298425,
          13116894887,
          4212729247,
          61164030149,
          12638828950,
          14121334618,
          33333813618,
          20925508143,
          14383525286,
          49543264457,
          10131892523,
          18027633617,
          34734816899,
          19722178609,
          11040678071,
          42449656350,
          10133547517,
          326148660000,
          8744185796,
          523423036576,
          15311373377,
          8077368506,
          67280478816,
          32308459680,
          22437653700,
          13706075072,
          26918949723,
          6706992926,
          5427884956,
          7978485059,
          11273961835,
          5819080328,
          42414328338,
          24916503061,
          9624169008,
          21759187973,
          25853969330,
          12684517721,
          11840331607,
          10828314389,
          64180390701,
          132249296250,
          21018887283,
          31098243069,
          61536606173,
          14554321748,
          108106822109,
          16920023264,
          96978500251,
          8244568238,
          14639308205,
          43356557470,
          8006268615,
          8158949890,
          18140726600,
          19926305632,
          12732072001,
          34449052800,
          10967755538,
          7345243806,
          11452961984,
          14016129999,
          24800859640,
          26242415796,
          11181493750,
          223378633329,
          114422168609,
          17338613096,
          14394715334,
          34895294088,
          36973617235,
          16766497291,
          10628247899,
          15422885020,
          17969275816,
          55994378108,
          32295200000,
          18220961259,
          22785450609,
          211536000000,
          41373051167,
          142433003505,
          24465996443,
          8277363031,
          11270040447,
          41233771565,
          44866621303,
          13620847614,
          20426488713,
          9410249279,
          12945366350,
          9326484316,
          13612394896,
          353062464971,
          34822224800,
          386613611000,
          9267350000,
          11037040988,
          22182794875,
          22589744920,
          39449596000,
          6180487499,
          38612712234,
          16078622033,
          10570861198,
          89618309338,
          25471355847,
          13862042842,
          16229343134,
          17271388000,
          27967534829,
          6034600480,
          14615967194,
          8910389431,
          84475986228,
          17123031000,
          12469931896,
          98102120000,
          16111166935,
          82909678852,
          43556650000,
          27840827434,
          8473119166,
          7541063495,
          13875005314,
          31633740000,
          50910130358,
          41819440000,
          13756812736,
          13428792315,
          187102014193,
          5843402350,
          13459353253,
          132101623787,
          31534840262,
          110107062300,
          152241530340,
          48679364276,
          16420774443,
          19633674337,
          10053919023,
          19393095636,
          48576791974,
          689978437468,
          9992628990,
          19897356456,
          12396862128,
          65827817742,
          53076824328,
          36403831015,
          30189978000,
          97535400000,
          16626039679,
          21698849265,
          12844304115,
          12940096785,
          3692691330,
          15375210915,
          114805404842,
          14438346000,
          5695123080,
          19749449484,
          9356906461,
          9496735699,
          69661177770,
          13377670080,
          106776113744,
          7776566371,
          13177325251,
          8212509855,
          40543547441,
          22908130223,
          58782413951,
          13191507318,
          8030036023,
          20003317128,
          138652800000,
          21433781860,
          53467692395,
          17377551986,
          21988472489,
          202302349740,
          24152102921,
          11051273948,
          24421668509,
          3209792400,
          23253666810,
          90708000000,
          12466660892,
          6527616000,
          161413271020,
          8351767268,
          12326379902,
          208505541949,
          20309412381,
          153580671803,
          47996220000,
          8397609889,
          29983119693,
          73315000000,
          8753430477,
          29043337549,
          20839814845,
          42948664203,
          91817448863,
          18457199721,
          206318943299,
          31062780000,
          31953288000,
          47136080000,
          24138050331,
          32258539942,
          8792572352,
          11478625926,
          9877885146,
          96282828902,
          5330131216,
          13578300000,
          3255587970,
          13216271700,
          59066255840,
          13784942453,
          22799923883,
          9858367494,
          35950369241,
          21500640000,
          21590903863,
          13233622689,
          7047165475,
          24123216432,
          22197870556,
          27247789759,
          29803566306,
          27418147452,
          46585950000,
          79489115000,
          19572031314,
          5229448882,
          96529311126,
          11328642413,
          14113197720,
          8001938397,
          26163862235,
          37730994828,
          3034275549,
          48139839531,
          18493080922,
          8617714345,
          9499107736,
          43497224128,
          34351211637,
          24496399600,
          76548976000,
          38059113300,
          6218560288,
          57509096756,
          32498948310,
          16520497264,
          28893750000,
          12767067883,
          30445320778,
          25810865035,
          14247199374,
          39816696539,
          34983666316,
          14163064455,
          100262526470,
          15254672353,
          56083904906,
          16540418002,
          11297958140,
          20867272020,
          9726962131,
          38903131815,
          157817273295,
          83226586345,
          12810515320,
          74185800000,
          48181450881,
          9614412169,
          15694951118,
          8459271203,
          15241203731,
          5700998508,
          44027094922,
          66135313503,
          26957526800,
          90940115897,
          9050154422,
          13300000127,
          5856913571,
          5366628950,
          101513290382,
          19363059152,
          218834811333,
          96436356833,
          14654954091,
          105387272474,
          11116075286,
          11256432318,
          31797645904,
          39312309113,
          10692681720,
          18865999082,
          10754983829,
          15594677147,
          208092277044,
          39369386348,
          10601008017,
          270038723213,
          12778779911,
          16964162228,
          304680931618,
          70862541911,
          35488486675,
          16064078572,
          18890296993,
          281463620775,
          20943679019,
          24760297793,
          8951609207,
          16433340688,
          26070297960,
          12177920000,
          24802396470,
          20780269334,
          11993835688,
          18225400525,
          21559611927,
          7938833340,
          17064975551,
          10753423590,
          12915021000,
          27003303098,
          24454698119,
          10670678640,
          35991109776
         ],
         "yaxis": "y"
        }
       ],
       "layout": {
        "legend": {
         "tracegroupgap": 0
        },
        "template": {
         "data": {
          "candlestick": [
           {
            "decreasing": {
             "line": {
              "color": "#000033"
             }
            },
            "increasing": {
             "line": {
              "color": "#000032"
             }
            },
            "type": "candlestick"
           }
          ],
          "contour": [
           {
            "colorscale": [
             [
              0,
              "#000011"
             ],
             [
              0.1111111111111111,
              "#000012"
             ],
             [
              0.2222222222222222,
              "#000013"
             ],
             [
              0.3333333333333333,
              "#000014"
             ],
             [
              0.4444444444444444,
              "#000015"
             ],
             [
              0.5555555555555556,
              "#000016"
             ],
             [
              0.6666666666666666,
              "#000017"
             ],
             [
              0.7777777777777778,
              "#000018"
             ],
             [
              0.8888888888888888,
              "#000019"
             ],
             [
              1,
              "#000020"
             ]
            ],
            "type": "contour"
           }
          ],
          "contourcarpet": [
           {
            "colorscale": [
             [
              0,
              "#000011"
             ],
             [
              0.1111111111111111,
              "#000012"
             ],
             [
              0.2222222222222222,
              "#000013"
             ],
             [
              0.3333333333333333,
              "#000014"
             ],
             [
              0.4444444444444444,
              "#000015"
             ],
             [
              0.5555555555555556,
              "#000016"
             ],
             [
              0.6666666666666666,
              "#000017"
             ],
             [
              0.7777777777777778,
              "#000018"
             ],
             [
              0.8888888888888888,
              "#000019"
             ],
             [
              1,
              "#000020"
             ]
            ],
            "type": "contourcarpet"
           }
          ],
          "heatmap": [
           {
            "colorscale": [
             [
              0,
              "#000011"
             ],
             [
              0.1111111111111111,
              "#000012"
             ],
             [
              0.2222222222222222,
              "#000013"
             ],
             [
              0.3333333333333333,
              "#000014"
             ],
             [
              0.4444444444444444,
              "#000015"
             ],
             [
              0.5555555555555556,
              "#000016"
             ],
             [
              0.6666666666666666,
              "#000017"
             ],
             [
              0.7777777777777778,
              "#000018"
             ],
             [
              0.8888888888888888,
              "#000019"
             ],
             [
              1,
              "#000020"
             ]
            ],
            "type": "heatmap"
           }
          ],
          "histogram2d": [
           {
            "colorscale": [
             [
              0,
              "#000011"
             ],
             [
              0.1111111111111111,
              "#000012"
             ],
             [
              0.2222222222222222,
              "#000013"
             ],
             [
              0.3333333333333333,
              "#000014"
             ],
             [
              0.4444444444444444,
              "#000015"
             ],
             [
              0.5555555555555556,
              "#000016"
             ],
             [
              0.6666666666666666,
              "#000017"
             ],
             [
              0.7777777777777778,
              "#000018"
             ],
             [
              0.8888888888888888,
              "#000019"
             ],
             [
              1,
              "#000020"
             ]
            ],
            "type": "histogram2d"
           }
          ],
          "icicle": [
           {
            "textfont": {
             "color": "white"
            },
            "type": "icicle"
           }
          ],
          "sankey": [
           {
            "textfont": {
             "color": "#000036"
            },
            "type": "sankey"
           }
          ],
          "scatter": [
           {
            "marker": {
             "line": {
              "width": 0
             }
            },
            "type": "scatter"
           }
          ],
          "table": [
           {
            "cells": {
             "fill": {
              "color": "#000038"
             },
             "font": {
              "color": "#000037"
             },
             "line": {
              "color": "#000039"
             }
            },
            "header": {
             "fill": {
              "color": "#000040"
             },
             "font": {
              "color": "#000036"
             },
             "line": {
              "color": "#000039"
             }
            },
            "type": "table"
           }
          ],
          "waterfall": [
           {
            "connector": {
             "line": {
              "color": "#000036",
              "width": 2
             }
            },
            "decreasing": {
             "marker": {
              "color": "#000033"
             }
            },
            "increasing": {
             "marker": {
              "color": "#000032"
             }
            },
            "totals": {
             "marker": {
              "color": "#000034"
             }
            },
            "type": "waterfall"
           }
          ]
         },
         "layout": {
          "coloraxis": {
           "colorscale": [
            [
             0,
             "#000011"
            ],
            [
             0.1111111111111111,
             "#000012"
            ],
            [
             0.2222222222222222,
             "#000013"
            ],
            [
             0.3333333333333333,
             "#000014"
            ],
            [
             0.4444444444444444,
             "#000015"
            ],
            [
             0.5555555555555556,
             "#000016"
            ],
            [
             0.6666666666666666,
             "#000017"
            ],
            [
             0.7777777777777778,
             "#000018"
            ],
            [
             0.8888888888888888,
             "#000019"
            ],
            [
             1,
             "#000020"
            ]
           ]
          },
          "colorscale": {
           "diverging": [
            [
             0,
             "#000021"
            ],
            [
             0.1,
             "#000022"
            ],
            [
             0.2,
             "#000023"
            ],
            [
             0.3,
             "#000024"
            ],
            [
             0.4,
             "#000025"
            ],
            [
             0.5,
             "#000026"
            ],
            [
             0.6,
             "#000027"
            ],
            [
             0.7,
             "#000028"
            ],
            [
             0.8,
             "#000029"
            ],
            [
             0.9,
             "#000030"
            ],
            [
             1,
             "#000031"
            ]
           ],
           "sequential": [
            [
             0,
             "#000011"
            ],
            [
             0.1111111111111111,
             "#000012"
            ],
            [
             0.2222222222222222,
             "#000013"
            ],
            [
             0.3333333333333333,
             "#000014"
            ],
            [
             0.4444444444444444,
             "#000015"
            ],
            [
             0.5555555555555556,
             "#000016"
            ],
            [
             0.6666666666666666,
             "#000017"
            ],
            [
             0.7777777777777778,
             "#000018"
            ],
            [
             0.8888888888888888,
             "#000019"
            ],
            [
             1,
             "#000020"
            ]
           ],
           "sequentialminus": [
            [
             0,
             "#000011"
            ],
            [
             0.1111111111111111,
             "#000012"
            ],
            [
             0.2222222222222222,
             "#000013"
            ],
            [
             0.3333333333333333,
             "#000014"
            ],
            [
             0.4444444444444444,
             "#000015"
            ],
            [
             0.5555555555555556,
             "#000016"
            ],
            [
             0.6666666666666666,
             "#000017"
            ],
            [
             0.7777777777777778,
             "#000018"
            ],
            [
             0.8888888888888888,
             "#000019"
            ],
            [
             1,
             "#000020"
            ]
           ]
          },
          "colorway": [
           "#000001",
           "#000002",
           "#000003",
           "#000004",
           "#000005",
           "#000006",
           "#000007",
           "#000008",
           "#000009",
           "#000010"
          ]
         }
        },
        "title": {
         "text": "Scatterplot of Market Caps in the S&P500"
        },
        "xaxis": {
         "anchor": "y",
         "domain": [
          0,
          1
         ],
         "title": {
          "text": "Price"
         }
        },
        "yaxis": {
         "anchor": "x",
         "domain": [
          0,
          1
         ],
         "title": {
          "text": "Market Cap"
         }
        }
       }
      }
     },
     "metadata": {},
     "output_type": "display_data"
    }
   ],
   "source": [
    "#need to create a scatter plot\n",
    "'''\n",
    "scatter plot will be x: price and y: market cap\n",
    "\n",
    "'''\n",
    "#creating the scatter plot with px.scatter and adding parameters\n",
    "scatter = px.scatter(data, x='price', y='market cap', opacity=0.7,\n",
    "                    labels = {'market cap': 'Market Cap', 'price': 'Price'}, title = 'Scatterplot of Market Caps in the S&P500')\n",
    "scatter\n"
   ]
  },
  {
   "cell_type": "code",
   "execution_count": 18,
   "metadata": {},
   "outputs": [
    {
     "data": {
      "text/html": [
       "<div>\n",
       "<style scoped>\n",
       "    .dataframe tbody tr th:only-of-type {\n",
       "        vertical-align: middle;\n",
       "    }\n",
       "\n",
       "    .dataframe tbody tr th {\n",
       "        vertical-align: top;\n",
       "    }\n",
       "\n",
       "    .dataframe thead th {\n",
       "        text-align: right;\n",
       "    }\n",
       "</style>\n",
       "<table border=\"1\" class=\"dataframe\">\n",
       "  <thead>\n",
       "    <tr style=\"text-align: right;\">\n",
       "      <th></th>\n",
       "      <th>symbol</th>\n",
       "      <th>name</th>\n",
       "      <th>sector</th>\n",
       "      <th>price</th>\n",
       "      <th>price/earnings</th>\n",
       "      <th>dividend yield</th>\n",
       "      <th>earnings/share</th>\n",
       "      <th>52 week low</th>\n",
       "      <th>52 week high</th>\n",
       "      <th>market cap</th>\n",
       "      <th>ebitda</th>\n",
       "      <th>price/sales</th>\n",
       "      <th>price/book</th>\n",
       "      <th>sec filings</th>\n",
       "    </tr>\n",
       "  </thead>\n",
       "  <tbody>\n",
       "    <tr>\n",
       "      <th>0</th>\n",
       "      <td>MMM</td>\n",
       "      <td>3M Company</td>\n",
       "      <td>industrials</td>\n",
       "      <td>222.89</td>\n",
       "      <td>24.31</td>\n",
       "      <td>2.332862</td>\n",
       "      <td>7.92</td>\n",
       "      <td>259.77</td>\n",
       "      <td>175.490</td>\n",
       "      <td>138721055226</td>\n",
       "      <td>9.048000e+09</td>\n",
       "      <td>4.390271</td>\n",
       "      <td>11.34</td>\n",
       "      <td>http://www.sec.gov/cgi-bin/browse-edgar?action...</td>\n",
       "    </tr>\n",
       "    <tr>\n",
       "      <th>1</th>\n",
       "      <td>AOS</td>\n",
       "      <td>A.O. Smith Corp</td>\n",
       "      <td>industrials</td>\n",
       "      <td>60.24</td>\n",
       "      <td>27.76</td>\n",
       "      <td>1.147959</td>\n",
       "      <td>1.70</td>\n",
       "      <td>68.39</td>\n",
       "      <td>48.925</td>\n",
       "      <td>10783419933</td>\n",
       "      <td>6.010000e+08</td>\n",
       "      <td>3.575483</td>\n",
       "      <td>6.35</td>\n",
       "      <td>http://www.sec.gov/cgi-bin/browse-edgar?action...</td>\n",
       "    </tr>\n",
       "    <tr>\n",
       "      <th>2</th>\n",
       "      <td>ABT</td>\n",
       "      <td>Abbott Laboratories</td>\n",
       "      <td>health care</td>\n",
       "      <td>56.27</td>\n",
       "      <td>22.51</td>\n",
       "      <td>1.908982</td>\n",
       "      <td>0.26</td>\n",
       "      <td>64.60</td>\n",
       "      <td>42.280</td>\n",
       "      <td>102121042306</td>\n",
       "      <td>5.744000e+09</td>\n",
       "      <td>3.740480</td>\n",
       "      <td>3.19</td>\n",
       "      <td>http://www.sec.gov/cgi-bin/browse-edgar?action...</td>\n",
       "    </tr>\n",
       "    <tr>\n",
       "      <th>3</th>\n",
       "      <td>ABBV</td>\n",
       "      <td>AbbVie Inc.</td>\n",
       "      <td>health care</td>\n",
       "      <td>108.48</td>\n",
       "      <td>19.41</td>\n",
       "      <td>2.499560</td>\n",
       "      <td>3.29</td>\n",
       "      <td>125.86</td>\n",
       "      <td>60.050</td>\n",
       "      <td>181386347059</td>\n",
       "      <td>1.031000e+10</td>\n",
       "      <td>6.291571</td>\n",
       "      <td>26.14</td>\n",
       "      <td>http://www.sec.gov/cgi-bin/browse-edgar?action...</td>\n",
       "    </tr>\n",
       "    <tr>\n",
       "      <th>4</th>\n",
       "      <td>ACN</td>\n",
       "      <td>Accenture plc</td>\n",
       "      <td>information technology</td>\n",
       "      <td>150.51</td>\n",
       "      <td>25.47</td>\n",
       "      <td>1.714470</td>\n",
       "      <td>5.44</td>\n",
       "      <td>162.60</td>\n",
       "      <td>114.820</td>\n",
       "      <td>98765855553</td>\n",
       "      <td>5.643228e+09</td>\n",
       "      <td>2.604117</td>\n",
       "      <td>10.62</td>\n",
       "      <td>http://www.sec.gov/cgi-bin/browse-edgar?action...</td>\n",
       "    </tr>\n",
       "    <tr>\n",
       "      <th>...</th>\n",
       "      <td>...</td>\n",
       "      <td>...</td>\n",
       "      <td>...</td>\n",
       "      <td>...</td>\n",
       "      <td>...</td>\n",
       "      <td>...</td>\n",
       "      <td>...</td>\n",
       "      <td>...</td>\n",
       "      <td>...</td>\n",
       "      <td>...</td>\n",
       "      <td>...</td>\n",
       "      <td>...</td>\n",
       "      <td>...</td>\n",
       "      <td>...</td>\n",
       "    </tr>\n",
       "    <tr>\n",
       "      <th>500</th>\n",
       "      <td>XYL</td>\n",
       "      <td>Xylem Inc.</td>\n",
       "      <td>industrials</td>\n",
       "      <td>70.24</td>\n",
       "      <td>30.94</td>\n",
       "      <td>1.170079</td>\n",
       "      <td>1.83</td>\n",
       "      <td>76.81</td>\n",
       "      <td>46.860</td>\n",
       "      <td>12915021000</td>\n",
       "      <td>7.220000e+08</td>\n",
       "      <td>2.726209</td>\n",
       "      <td>5.31</td>\n",
       "      <td>http://www.sec.gov/cgi-bin/browse-edgar?action...</td>\n",
       "    </tr>\n",
       "    <tr>\n",
       "      <th>501</th>\n",
       "      <td>YUM</td>\n",
       "      <td>Yum! Brands Inc</td>\n",
       "      <td>consumer discretionary</td>\n",
       "      <td>76.30</td>\n",
       "      <td>27.25</td>\n",
       "      <td>1.797080</td>\n",
       "      <td>4.07</td>\n",
       "      <td>86.93</td>\n",
       "      <td>62.850</td>\n",
       "      <td>27003303098</td>\n",
       "      <td>2.289000e+09</td>\n",
       "      <td>6.313636</td>\n",
       "      <td>212.08</td>\n",
       "      <td>http://www.sec.gov/cgi-bin/browse-edgar?action...</td>\n",
       "    </tr>\n",
       "    <tr>\n",
       "      <th>502</th>\n",
       "      <td>ZBH</td>\n",
       "      <td>Zimmer Biomet Holdings</td>\n",
       "      <td>health care</td>\n",
       "      <td>115.53</td>\n",
       "      <td>14.32</td>\n",
       "      <td>0.794834</td>\n",
       "      <td>9.01</td>\n",
       "      <td>133.49</td>\n",
       "      <td>108.170</td>\n",
       "      <td>24454698119</td>\n",
       "      <td>2.007400e+09</td>\n",
       "      <td>3.164895</td>\n",
       "      <td>2.39</td>\n",
       "      <td>http://www.sec.gov/cgi-bin/browse-edgar?action...</td>\n",
       "    </tr>\n",
       "    <tr>\n",
       "      <th>503</th>\n",
       "      <td>ZION</td>\n",
       "      <td>Zions Bancorp</td>\n",
       "      <td>financials</td>\n",
       "      <td>50.71</td>\n",
       "      <td>17.73</td>\n",
       "      <td>1.480933</td>\n",
       "      <td>2.60</td>\n",
       "      <td>55.61</td>\n",
       "      <td>38.430</td>\n",
       "      <td>10670678640</td>\n",
       "      <td>0.000000e+00</td>\n",
       "      <td>3.794579</td>\n",
       "      <td>1.42</td>\n",
       "      <td>http://www.sec.gov/cgi-bin/browse-edgar?action...</td>\n",
       "    </tr>\n",
       "    <tr>\n",
       "      <th>504</th>\n",
       "      <td>ZTS</td>\n",
       "      <td>Zoetis</td>\n",
       "      <td>health care</td>\n",
       "      <td>71.51</td>\n",
       "      <td>32.80</td>\n",
       "      <td>0.682372</td>\n",
       "      <td>1.65</td>\n",
       "      <td>80.13</td>\n",
       "      <td>52.000</td>\n",
       "      <td>35991109776</td>\n",
       "      <td>1.734000e+09</td>\n",
       "      <td>9.280896</td>\n",
       "      <td>18.09</td>\n",
       "      <td>http://www.sec.gov/cgi-bin/browse-edgar?action...</td>\n",
       "    </tr>\n",
       "  </tbody>\n",
       "</table>\n",
       "<p>505 rows × 14 columns</p>\n",
       "</div>"
      ],
      "text/plain": [
       "    symbol                    name                  sector   price  \\\n",
       "0      MMM              3M Company             industrials  222.89   \n",
       "1      AOS         A.O. Smith Corp             industrials   60.24   \n",
       "2      ABT     Abbott Laboratories             health care   56.27   \n",
       "3     ABBV             AbbVie Inc.             health care  108.48   \n",
       "4      ACN           Accenture plc  information technology  150.51   \n",
       "..     ...                     ...                     ...     ...   \n",
       "500    XYL              Xylem Inc.             industrials   70.24   \n",
       "501    YUM         Yum! Brands Inc  consumer discretionary   76.30   \n",
       "502    ZBH  Zimmer Biomet Holdings             health care  115.53   \n",
       "503   ZION           Zions Bancorp              financials   50.71   \n",
       "504    ZTS                  Zoetis             health care   71.51   \n",
       "\n",
       "     price/earnings  dividend yield  earnings/share  52 week low  \\\n",
       "0             24.31        2.332862            7.92       259.77   \n",
       "1             27.76        1.147959            1.70        68.39   \n",
       "2             22.51        1.908982            0.26        64.60   \n",
       "3             19.41        2.499560            3.29       125.86   \n",
       "4             25.47        1.714470            5.44       162.60   \n",
       "..              ...             ...             ...          ...   \n",
       "500           30.94        1.170079            1.83        76.81   \n",
       "501           27.25        1.797080            4.07        86.93   \n",
       "502           14.32        0.794834            9.01       133.49   \n",
       "503           17.73        1.480933            2.60        55.61   \n",
       "504           32.80        0.682372            1.65        80.13   \n",
       "\n",
       "     52 week high    market cap        ebitda  price/sales  price/book  \\\n",
       "0         175.490  138721055226  9.048000e+09     4.390271       11.34   \n",
       "1          48.925   10783419933  6.010000e+08     3.575483        6.35   \n",
       "2          42.280  102121042306  5.744000e+09     3.740480        3.19   \n",
       "3          60.050  181386347059  1.031000e+10     6.291571       26.14   \n",
       "4         114.820   98765855553  5.643228e+09     2.604117       10.62   \n",
       "..            ...           ...           ...          ...         ...   \n",
       "500        46.860   12915021000  7.220000e+08     2.726209        5.31   \n",
       "501        62.850   27003303098  2.289000e+09     6.313636      212.08   \n",
       "502       108.170   24454698119  2.007400e+09     3.164895        2.39   \n",
       "503        38.430   10670678640  0.000000e+00     3.794579        1.42   \n",
       "504        52.000   35991109776  1.734000e+09     9.280896       18.09   \n",
       "\n",
       "                                           sec filings  \n",
       "0    http://www.sec.gov/cgi-bin/browse-edgar?action...  \n",
       "1    http://www.sec.gov/cgi-bin/browse-edgar?action...  \n",
       "2    http://www.sec.gov/cgi-bin/browse-edgar?action...  \n",
       "3    http://www.sec.gov/cgi-bin/browse-edgar?action...  \n",
       "4    http://www.sec.gov/cgi-bin/browse-edgar?action...  \n",
       "..                                                 ...  \n",
       "500  http://www.sec.gov/cgi-bin/browse-edgar?action...  \n",
       "501  http://www.sec.gov/cgi-bin/browse-edgar?action...  \n",
       "502  http://www.sec.gov/cgi-bin/browse-edgar?action...  \n",
       "503  http://www.sec.gov/cgi-bin/browse-edgar?action...  \n",
       "504  http://www.sec.gov/cgi-bin/browse-edgar?action...  \n",
       "\n",
       "[505 rows x 14 columns]"
      ]
     },
     "execution_count": 18,
     "metadata": {},
     "output_type": "execute_result"
    }
   ],
   "source": [
    "#here I want to create 2 scatterplots. 1 that will show companies below 50 billion market cap \n",
    "#and another that will show companies below 100 billion market cap. for easier viewing\n",
    "\n",
    "#below 50 billion filter with .query method\n",
    "data_below_50 = data.query(\"`market cap` <= 50000000000\")\n",
    "#and then introducing a variable to be able to use with streamlit on app.py\n",
    "scatter_50 = px.scatter(data_below_50, x='price', y='market cap', opacity=0.7,\n",
    "                    labels = {'market cap': 'Market Cap', 'price': 'Price'})\n",
    "scatter_50\n",
    "\n",
    "#repeat process\n",
    "data_below_100 = data.query(\"`market cap` <= 100000000000\")\n",
    "\n",
    "scatter_100 = px.scatter(data_below_100, x='price', y='market cap', opacity=0.7,\n",
    "                    labels = {'market cap': 'Market Cap', 'price': 'Price'})\n",
    "scatter_100\n",
    "\n",
    "data"
   ]
  },
  {
   "attachments": {},
   "cell_type": "markdown",
   "metadata": {},
   "source": [
    "###CONCLUSION\n",
    "\n",
    "1. Data was mostly all clean and readable. Just had to lowercase all column values and fill in a couple of missing values in price/book column using fillna(0)\n",
    "2. created a bar chart of number of symbols per sector\n",
    "3. created another bar chart of average stock market cap for each sector\n",
    "4. created a histogram of number of symbols per sector as well to meet project requirements\n",
    "5. created scatter plot showing all market caps \n",
    "6. and then a checkbox to limit market caps to 50 and 100 billion for better visibility\n"
   ]
  },
  {
   "cell_type": "markdown",
   "metadata": {},
   "source": []
  },
  {
   "cell_type": "markdown",
   "metadata": {},
   "source": []
  },
  {
   "cell_type": "code",
   "execution_count": null,
   "metadata": {},
   "outputs": [],
   "source": []
  }
 ],
 "metadata": {
  "kernelspec": {
   "display_name": "base",
   "language": "python",
   "name": "python3"
  },
  "language_info": {
   "codemirror_mode": {
    "name": "ipython",
    "version": 3
   },
   "file_extension": ".py",
   "mimetype": "text/x-python",
   "name": "python",
   "nbconvert_exporter": "python",
   "pygments_lexer": "ipython3",
   "version": "3.9.13"
  },
  "vscode": {
   "interpreter": {
    "hash": "a520eee76fb45144dce358d28e2553c46c04a72006c4708fb30a8f5e6598a7c9"
   }
  }
 },
 "nbformat": 4,
 "nbformat_minor": 2
}
